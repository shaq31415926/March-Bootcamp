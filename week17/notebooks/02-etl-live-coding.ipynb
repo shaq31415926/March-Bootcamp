{
 "cells": [
  {
   "cell_type": "markdown",
   "id": "4e615c42-bda8-4393-9d61-768da61cd6fd",
   "metadata": {},
   "source": [
    "They have requested that you create a new table called online_transactions_fixed:\n",
    "- (SQL) They realised the stock code field can’t be trusted so they would like you to join description to this table, without question marks. They also want to keep track of cases where description is missing for future analysis so use a left join.\t\n",
    "- (SQL) They would like you to remove all rows of data where customer_id is null\n",
    "- (Python) They would like you to replace all missing values of Description with Unknown\n",
    "- (Python) They would like you to remove any duplicated rows of data, and only keep the first appearance\n",
    "- (SQL) They want you to remove the following stock codes\n",
    "BANK CHARGES, POST, D, M, CRUK\n"
   ]
  },
  {
   "cell_type": "code",
   "execution_count": 1,
   "id": "d2f451dd-31c2-4ca7-99c3-d3e03b001f9e",
   "metadata": {},
   "outputs": [],
   "source": [
    "import pandas as pd\n",
    "import sqlite3"
   ]
  },
  {
   "cell_type": "code",
   "execution_count": 2,
   "id": "a7fcc8c0-7a95-4297-b729-4d2904d567fd",
   "metadata": {},
   "outputs": [],
   "source": [
    "conn = sqlite3.connect(\"../../week16/data/bootcamp_db\")"
   ]
  },
  {
   "cell_type": "code",
   "execution_count": 3,
   "id": "58930fd3-35cf-4d4a-a9b2-3297c0924e1e",
   "metadata": {},
   "outputs": [],
   "source": [
    "query = \"\"\"\n",
    "select *\n",
    "from online_transactions\n",
    "limit 10\n",
    "\"\"\"\n",
    "\n",
    "test = pd.read_sql(query, conn)"
   ]
  },
  {
   "cell_type": "code",
   "execution_count": 4,
   "id": "d5d0b53f-9e2a-416f-90ec-d81dfb20e75f",
   "metadata": {},
   "outputs": [
    {
     "data": {
      "text/html": [
       "<div>\n",
       "<style scoped>\n",
       "    .dataframe tbody tr th:only-of-type {\n",
       "        vertical-align: middle;\n",
       "    }\n",
       "\n",
       "    .dataframe tbody tr th {\n",
       "        vertical-align: top;\n",
       "    }\n",
       "\n",
       "    .dataframe thead th {\n",
       "        text-align: right;\n",
       "    }\n",
       "</style>\n",
       "<table border=\"1\" class=\"dataframe\">\n",
       "  <thead>\n",
       "    <tr style=\"text-align: right;\">\n",
       "      <th></th>\n",
       "      <th>invoice</th>\n",
       "      <th>stock_code</th>\n",
       "      <th>quantity</th>\n",
       "      <th>invoice_date</th>\n",
       "      <th>price</th>\n",
       "      <th>customer_id</th>\n",
       "      <th>country</th>\n",
       "    </tr>\n",
       "  </thead>\n",
       "  <tbody>\n",
       "    <tr>\n",
       "      <th>0</th>\n",
       "      <td>536370</td>\n",
       "      <td>21791</td>\n",
       "      <td>24</td>\n",
       "      <td>2010-12-01 08:45:00</td>\n",
       "      <td>1.25</td>\n",
       "      <td>u12583</td>\n",
       "      <td>France</td>\n",
       "    </tr>\n",
       "    <tr>\n",
       "      <th>1</th>\n",
       "      <td>536373</td>\n",
       "      <td>82494L</td>\n",
       "      <td>6</td>\n",
       "      <td>2010-12-01 09:02:00</td>\n",
       "      <td>2.55</td>\n",
       "      <td>u1785</td>\n",
       "      <td>United Kingdom</td>\n",
       "    </tr>\n",
       "    <tr>\n",
       "      <th>2</th>\n",
       "      <td>536378</td>\n",
       "      <td>21929</td>\n",
       "      <td>10</td>\n",
       "      <td>2010-12-01 09:37:00</td>\n",
       "      <td>1.95</td>\n",
       "      <td>u14688</td>\n",
       "      <td>United Kingdom</td>\n",
       "    </tr>\n",
       "    <tr>\n",
       "      <th>3</th>\n",
       "      <td>536381</td>\n",
       "      <td>37444A</td>\n",
       "      <td>1</td>\n",
       "      <td>2010-12-01 09:41:00</td>\n",
       "      <td>2.95</td>\n",
       "      <td>u15311</td>\n",
       "      <td>United Kingdom</td>\n",
       "    </tr>\n",
       "    <tr>\n",
       "      <th>4</th>\n",
       "      <td>536381</td>\n",
       "      <td>15056BL</td>\n",
       "      <td>2</td>\n",
       "      <td>2010-12-01 09:41:00</td>\n",
       "      <td>5.95</td>\n",
       "      <td>u15311</td>\n",
       "      <td>United Kingdom</td>\n",
       "    </tr>\n",
       "    <tr>\n",
       "      <th>5</th>\n",
       "      <td>536381</td>\n",
       "      <td>22438</td>\n",
       "      <td>1</td>\n",
       "      <td>2010-12-01 09:41:00</td>\n",
       "      <td>1.95</td>\n",
       "      <td>u15311</td>\n",
       "      <td>United Kingdom</td>\n",
       "    </tr>\n",
       "    <tr>\n",
       "      <th>6</th>\n",
       "      <td>536384</td>\n",
       "      <td>22469</td>\n",
       "      <td>40</td>\n",
       "      <td>2010-12-01 09:53:00</td>\n",
       "      <td>1.45</td>\n",
       "      <td>u18074</td>\n",
       "      <td>United Kingdom</td>\n",
       "    </tr>\n",
       "    <tr>\n",
       "      <th>7</th>\n",
       "      <td>536384</td>\n",
       "      <td>22189</td>\n",
       "      <td>4</td>\n",
       "      <td>2010-12-01 09:53:00</td>\n",
       "      <td>3.95</td>\n",
       "      <td>u18074</td>\n",
       "      <td>United Kingdom</td>\n",
       "    </tr>\n",
       "    <tr>\n",
       "      <th>8</th>\n",
       "      <td>536385</td>\n",
       "      <td>22783</td>\n",
       "      <td>1</td>\n",
       "      <td>2010-12-01 09:56:00</td>\n",
       "      <td>19.95</td>\n",
       "      <td>u1742</td>\n",
       "      <td>United Kingdom</td>\n",
       "    </tr>\n",
       "    <tr>\n",
       "      <th>9</th>\n",
       "      <td>536389</td>\n",
       "      <td>35004C</td>\n",
       "      <td>6</td>\n",
       "      <td>2010-12-01 10:03:00</td>\n",
       "      <td>5.45</td>\n",
       "      <td>u12431</td>\n",
       "      <td>Australia</td>\n",
       "    </tr>\n",
       "  </tbody>\n",
       "</table>\n",
       "</div>"
      ],
      "text/plain": [
       "  invoice stock_code  quantity         invoice_date  price customer_id  \\\n",
       "0  536370      21791        24  2010-12-01 08:45:00   1.25      u12583   \n",
       "1  536373     82494L         6  2010-12-01 09:02:00   2.55       u1785   \n",
       "2  536378      21929        10  2010-12-01 09:37:00   1.95      u14688   \n",
       "3  536381     37444A         1  2010-12-01 09:41:00   2.95      u15311   \n",
       "4  536381    15056BL         2  2010-12-01 09:41:00   5.95      u15311   \n",
       "5  536381      22438         1  2010-12-01 09:41:00   1.95      u15311   \n",
       "6  536384      22469        40  2010-12-01 09:53:00   1.45      u18074   \n",
       "7  536384      22189         4  2010-12-01 09:53:00   3.95      u18074   \n",
       "8  536385      22783         1  2010-12-01 09:56:00  19.95       u1742   \n",
       "9  536389     35004C         6  2010-12-01 10:03:00   5.45      u12431   \n",
       "\n",
       "          country  \n",
       "0          France  \n",
       "1  United Kingdom  \n",
       "2  United Kingdom  \n",
       "3  United Kingdom  \n",
       "4  United Kingdom  \n",
       "5  United Kingdom  \n",
       "6  United Kingdom  \n",
       "7  United Kingdom  \n",
       "8  United Kingdom  \n",
       "9       Australia  "
      ]
     },
     "execution_count": 4,
     "metadata": {},
     "output_type": "execute_result"
    }
   ],
   "source": [
    "test"
   ]
  },
  {
   "cell_type": "code",
   "execution_count": 5,
   "id": "2a4f4ca3-80ae-4608-860d-46fdd6d44144",
   "metadata": {},
   "outputs": [],
   "source": [
    "query = \"\"\"\n",
    "select ot.*,\n",
    "       sd.description\n",
    "from online_transactions ot\n",
    "/*joining the stock description table to the online transactions*/\n",
    "left join (select *\n",
    "           from stock_description\n",
    "           where description <> '?') sd on ot.stock_code = sd.stock_code\n",
    "/*remove rows of data where customer id is blank*/\n",
    "where ot.customer_id <> ''\n",
    "  /*remove rows of data where stock code is bank charges, post, d, m, cruk*/\n",
    "  and ot.stock_code not in ('BANK CHARGES', 'POST', 'D', 'M', 'CRUK')\n",
    "\"\"\""
   ]
  },
  {
   "cell_type": "code",
   "execution_count": 6,
   "id": "0ba68057-cef9-4c48-9976-d675784f6c9c",
   "metadata": {},
   "outputs": [],
   "source": [
    "ot_w_desc = pd.read_sql(query, conn)"
   ]
  },
  {
   "cell_type": "code",
   "execution_count": 7,
   "id": "b5a52542-033d-4aef-bd4d-4fe060a1e8fb",
   "metadata": {},
   "outputs": [
    {
     "data": {
      "text/html": [
       "<div>\n",
       "<style scoped>\n",
       "    .dataframe tbody tr th:only-of-type {\n",
       "        vertical-align: middle;\n",
       "    }\n",
       "\n",
       "    .dataframe tbody tr th {\n",
       "        vertical-align: top;\n",
       "    }\n",
       "\n",
       "    .dataframe thead th {\n",
       "        text-align: right;\n",
       "    }\n",
       "</style>\n",
       "<table border=\"1\" class=\"dataframe\">\n",
       "  <thead>\n",
       "    <tr style=\"text-align: right;\">\n",
       "      <th></th>\n",
       "      <th>invoice</th>\n",
       "      <th>stock_code</th>\n",
       "      <th>quantity</th>\n",
       "      <th>invoice_date</th>\n",
       "      <th>price</th>\n",
       "      <th>customer_id</th>\n",
       "      <th>country</th>\n",
       "      <th>description</th>\n",
       "    </tr>\n",
       "  </thead>\n",
       "  <tbody>\n",
       "    <tr>\n",
       "      <th>0</th>\n",
       "      <td>536370</td>\n",
       "      <td>21791</td>\n",
       "      <td>24</td>\n",
       "      <td>2010-12-01 08:45:00</td>\n",
       "      <td>1.25</td>\n",
       "      <td>u12583</td>\n",
       "      <td>France</td>\n",
       "      <td>VINTAGE HEADS AND TAILS CARD GAME</td>\n",
       "    </tr>\n",
       "    <tr>\n",
       "      <th>1</th>\n",
       "      <td>536373</td>\n",
       "      <td>82494L</td>\n",
       "      <td>6</td>\n",
       "      <td>2010-12-01 09:02:00</td>\n",
       "      <td>2.55</td>\n",
       "      <td>u1785</td>\n",
       "      <td>United Kingdom</td>\n",
       "      <td>WOODEN FRAME ANTIQUE WHITE</td>\n",
       "    </tr>\n",
       "    <tr>\n",
       "      <th>2</th>\n",
       "      <td>536378</td>\n",
       "      <td>21929</td>\n",
       "      <td>10</td>\n",
       "      <td>2010-12-01 09:37:00</td>\n",
       "      <td>1.95</td>\n",
       "      <td>u14688</td>\n",
       "      <td>United Kingdom</td>\n",
       "      <td>JUMBO BAG PINK VINTAGE PAISLEY</td>\n",
       "    </tr>\n",
       "    <tr>\n",
       "      <th>3</th>\n",
       "      <td>536381</td>\n",
       "      <td>37444A</td>\n",
       "      <td>1</td>\n",
       "      <td>2010-12-01 09:41:00</td>\n",
       "      <td>2.95</td>\n",
       "      <td>u15311</td>\n",
       "      <td>United Kingdom</td>\n",
       "      <td>YELLOW BREAKFAST CUP AND SAUCER</td>\n",
       "    </tr>\n",
       "    <tr>\n",
       "      <th>4</th>\n",
       "      <td>536381</td>\n",
       "      <td>15056BL</td>\n",
       "      <td>2</td>\n",
       "      <td>2010-12-01 09:41:00</td>\n",
       "      <td>5.95</td>\n",
       "      <td>u15311</td>\n",
       "      <td>United Kingdom</td>\n",
       "      <td>EDWARDIAN PARASOL BLACK</td>\n",
       "    </tr>\n",
       "    <tr>\n",
       "      <th>...</th>\n",
       "      <td>...</td>\n",
       "      <td>...</td>\n",
       "      <td>...</td>\n",
       "      <td>...</td>\n",
       "      <td>...</td>\n",
       "      <td>...</td>\n",
       "      <td>...</td>\n",
       "      <td>...</td>\n",
       "    </tr>\n",
       "    <tr>\n",
       "      <th>405058</th>\n",
       "      <td>581580</td>\n",
       "      <td>22698</td>\n",
       "      <td>1</td>\n",
       "      <td>2011-12-09 12:20:00</td>\n",
       "      <td>2.95</td>\n",
       "      <td>u12748</td>\n",
       "      <td>United Kingdom</td>\n",
       "      <td>PINK REGENCY TEACUP AND SAUCER</td>\n",
       "    </tr>\n",
       "    <tr>\n",
       "      <th>405059</th>\n",
       "      <td>581584</td>\n",
       "      <td>20832</td>\n",
       "      <td>72</td>\n",
       "      <td>2011-12-09 12:25:00</td>\n",
       "      <td>0.72</td>\n",
       "      <td>u13777</td>\n",
       "      <td>United Kingdom</td>\n",
       "      <td>RED FLOCK LOVE HEART PHOTO FRAME</td>\n",
       "    </tr>\n",
       "    <tr>\n",
       "      <th>405060</th>\n",
       "      <td>581585</td>\n",
       "      <td>22178</td>\n",
       "      <td>12</td>\n",
       "      <td>2011-12-09 12:31:00</td>\n",
       "      <td>1.95</td>\n",
       "      <td>u15804</td>\n",
       "      <td>United Kingdom</td>\n",
       "      <td>VICTORIAN GLASS HANGING T-LIGHT</td>\n",
       "    </tr>\n",
       "    <tr>\n",
       "      <th>405061</th>\n",
       "      <td>581585</td>\n",
       "      <td>84692</td>\n",
       "      <td>25</td>\n",
       "      <td>2011-12-09 12:31:00</td>\n",
       "      <td>0.42</td>\n",
       "      <td>u15804</td>\n",
       "      <td>United Kingdom</td>\n",
       "      <td>BOX OF 24 COCKTAIL PARASOLS</td>\n",
       "    </tr>\n",
       "    <tr>\n",
       "      <th>405062</th>\n",
       "      <td>581586</td>\n",
       "      <td>23275</td>\n",
       "      <td>24</td>\n",
       "      <td>2011-12-09 12:49:00</td>\n",
       "      <td>1.25</td>\n",
       "      <td>u13113</td>\n",
       "      <td>United Kingdom</td>\n",
       "      <td>SET OF 3 HANGING OWLS OLLIE BEAK</td>\n",
       "    </tr>\n",
       "  </tbody>\n",
       "</table>\n",
       "<p>405063 rows × 8 columns</p>\n",
       "</div>"
      ],
      "text/plain": [
       "       invoice stock_code  quantity         invoice_date  price customer_id  \\\n",
       "0       536370      21791        24  2010-12-01 08:45:00   1.25      u12583   \n",
       "1       536373     82494L         6  2010-12-01 09:02:00   2.55       u1785   \n",
       "2       536378      21929        10  2010-12-01 09:37:00   1.95      u14688   \n",
       "3       536381     37444A         1  2010-12-01 09:41:00   2.95      u15311   \n",
       "4       536381    15056BL         2  2010-12-01 09:41:00   5.95      u15311   \n",
       "...        ...        ...       ...                  ...    ...         ...   \n",
       "405058  581580      22698         1  2011-12-09 12:20:00   2.95      u12748   \n",
       "405059  581584      20832        72  2011-12-09 12:25:00   0.72      u13777   \n",
       "405060  581585      22178        12  2011-12-09 12:31:00   1.95      u15804   \n",
       "405061  581585      84692        25  2011-12-09 12:31:00   0.42      u15804   \n",
       "405062  581586      23275        24  2011-12-09 12:49:00   1.25      u13113   \n",
       "\n",
       "               country                         description  \n",
       "0               France  VINTAGE HEADS AND TAILS CARD GAME   \n",
       "1       United Kingdom         WOODEN FRAME ANTIQUE WHITE   \n",
       "2       United Kingdom      JUMBO BAG PINK VINTAGE PAISLEY  \n",
       "3       United Kingdom     YELLOW BREAKFAST CUP AND SAUCER  \n",
       "4       United Kingdom             EDWARDIAN PARASOL BLACK  \n",
       "...                ...                                 ...  \n",
       "405058  United Kingdom      PINK REGENCY TEACUP AND SAUCER  \n",
       "405059  United Kingdom    RED FLOCK LOVE HEART PHOTO FRAME  \n",
       "405060  United Kingdom     VICTORIAN GLASS HANGING T-LIGHT  \n",
       "405061  United Kingdom         BOX OF 24 COCKTAIL PARASOLS  \n",
       "405062  United Kingdom    SET OF 3 HANGING OWLS OLLIE BEAK  \n",
       "\n",
       "[405063 rows x 8 columns]"
      ]
     },
     "execution_count": 7,
     "metadata": {},
     "output_type": "execute_result"
    }
   ],
   "source": [
    "ot_w_desc"
   ]
  },
  {
   "cell_type": "code",
   "execution_count": 8,
   "id": "591be550-1b81-4bfb-b319-5bd06341d739",
   "metadata": {},
   "outputs": [
    {
     "data": {
      "text/plain": [
       "(405063, 8)"
      ]
     },
     "execution_count": 8,
     "metadata": {},
     "output_type": "execute_result"
    }
   ],
   "source": [
    "ot_w_desc.shape"
   ]
  },
  {
   "cell_type": "code",
   "execution_count": 9,
   "id": "a4bd3c8f-0fc5-4c46-bcd7-8ed10ecafa6c",
   "metadata": {},
   "outputs": [
    {
     "data": {
      "text/plain": [
       "invoice            0\n",
       "stock_code         0\n",
       "quantity           0\n",
       "invoice_date       0\n",
       "price              0\n",
       "customer_id        0\n",
       "country            0\n",
       "description     1175\n",
       "dtype: int64"
      ]
     },
     "execution_count": 9,
     "metadata": {},
     "output_type": "execute_result"
    }
   ],
   "source": [
    "ot_w_desc.isnull().sum()"
   ]
  },
  {
   "cell_type": "code",
   "execution_count": 10,
   "id": "c26ea456-08f1-4d90-8d3e-c4863595e94b",
   "metadata": {},
   "outputs": [
    {
     "name": "stderr",
     "output_type": "stream",
     "text": [
      "/var/folders/gs/c69h38_15hb4fnkpnc9gvksm0000gn/T/ipykernel_24507/3359609917.py:3: FutureWarning: A value is trying to be set on a copy of a DataFrame or Series through chained assignment using an inplace method.\n",
      "The behavior will change in pandas 3.0. This inplace method will never work because the intermediate object on which we are setting values always behaves as a copy.\n",
      "\n",
      "For example, when doing 'df[col].method(value, inplace=True)', try using 'df.method({col: value}, inplace=True)' or df[col] = df[col].method(value) instead, to perform the operation inplace on the original object.\n",
      "\n",
      "\n",
      "  ot_w_desc.description.fillna(\"UNKNOWN\", inplace=True)\n"
     ]
    }
   ],
   "source": [
    "# replace missing description with unknown\n",
    "\n",
    "ot_w_desc.description.fillna(\"UNKNOWN\", inplace=True)"
   ]
  },
  {
   "cell_type": "code",
   "execution_count": 11,
   "id": "8dba95a9-f0a7-4603-bdc7-cd95086e803e",
   "metadata": {},
   "outputs": [
    {
     "data": {
      "text/plain": [
       "invoice         0\n",
       "stock_code      0\n",
       "quantity        0\n",
       "invoice_date    0\n",
       "price           0\n",
       "customer_id     0\n",
       "country         0\n",
       "description     0\n",
       "dtype: int64"
      ]
     },
     "execution_count": 11,
     "metadata": {},
     "output_type": "execute_result"
    }
   ],
   "source": [
    "ot_w_desc.isnull().sum()"
   ]
  },
  {
   "cell_type": "code",
   "execution_count": 12,
   "id": "cc22997e-6f1d-4a43-bafe-8e28db4cd402",
   "metadata": {},
   "outputs": [
    {
     "data": {
      "text/plain": [
       "description\n",
       "CREAM HANGING HEART T-LIGHT HOLDER    2077\n",
       "REGENCY CAKESTAND 3 TIER              1905\n",
       "JUMBO BAG RED RETROSPOT               1662\n",
       "ASSORTED COLOUR BIRD ORNAMENT         1418\n",
       "PARTY BUNTING                         1416\n",
       "LUNCH BAG RED RETROSPOT               1359\n",
       "SET OF 3 CAKE TINS PANTRY DESIGN      1232\n",
       "UNKNOWN                               1175\n",
       "LUNCH BAG  BLACK SKULL.               1126\n",
       "POPCORN HOLDER                        1118\n",
       "JUMBO BAG VINTAGE DOILEY              1115\n",
       "LUNCH BAG SUKI DESIGN                 1103\n",
       "PACK OF 72 RETROSPOT CAKE CASES       1080\n",
       "LUNCH BAG VINTAGE DOILEY              1040\n",
       "BUNTING , SPOTTY                      1036\n",
       "PAPER CHAIN KIT 50'S CHRISTMAS        1029\n",
       "LUNCH BAG SPACEBOY DESIGN             1021\n",
       "LUNCH BAG CARS BLUE                   1012\n",
       "NATURAL SLATE HEART CHALKBOARD         997\n",
       "HEART OF WICKER SMALL                  996\n",
       "Name: count, dtype: int64"
      ]
     },
     "execution_count": 12,
     "metadata": {},
     "output_type": "execute_result"
    }
   ],
   "source": [
    "ot_w_desc.description.value_counts().nlargest(20)"
   ]
  },
  {
   "cell_type": "code",
   "execution_count": 13,
   "id": "4560e15c-f145-4a6f-ae12-43752be98bd0",
   "metadata": {},
   "outputs": [],
   "source": [
    "# drop the duplicate rows of data, keeping the first appearance only\n",
    "\n",
    "ot_cleaned = ot_w_desc.drop_duplicates(keep=\"first\")"
   ]
  },
  {
   "cell_type": "code",
   "execution_count": 17,
   "id": "c1b63c8e-458e-4fe1-9f8e-ab649b8e519d",
   "metadata": {},
   "outputs": [
    {
     "data": {
      "text/plain": [
       "(399841, 8)"
      ]
     },
     "execution_count": 17,
     "metadata": {},
     "output_type": "execute_result"
    }
   ],
   "source": [
    "ot_cleaned.shape"
   ]
  },
  {
   "cell_type": "code",
   "execution_count": 18,
   "id": "7f0b287a-94d3-40da-9124-d002562967af",
   "metadata": {},
   "outputs": [],
   "source": [
    "# store as a .csv file to local data folder\n",
    "\n",
    "ot_cleaned.to_csv(\"../data/ot_final.csv\", index=False)"
   ]
  },
  {
   "cell_type": "code",
   "execution_count": 20,
   "id": "402481c6-d8e2-4439-9c01-bfd06af13719",
   "metadata": {},
   "outputs": [
    {
     "data": {
      "text/html": [
       "<div>\n",
       "<style scoped>\n",
       "    .dataframe tbody tr th:only-of-type {\n",
       "        vertical-align: middle;\n",
       "    }\n",
       "\n",
       "    .dataframe tbody tr th {\n",
       "        vertical-align: top;\n",
       "    }\n",
       "\n",
       "    .dataframe thead th {\n",
       "        text-align: right;\n",
       "    }\n",
       "</style>\n",
       "<table border=\"1\" class=\"dataframe\">\n",
       "  <thead>\n",
       "    <tr style=\"text-align: right;\">\n",
       "      <th></th>\n",
       "      <th>invoice</th>\n",
       "      <th>stock_code</th>\n",
       "      <th>quantity</th>\n",
       "      <th>invoice_date</th>\n",
       "      <th>price</th>\n",
       "      <th>customer_id</th>\n",
       "      <th>country</th>\n",
       "      <th>description</th>\n",
       "    </tr>\n",
       "  </thead>\n",
       "  <tbody>\n",
       "    <tr>\n",
       "      <th>0</th>\n",
       "      <td>536370</td>\n",
       "      <td>21791</td>\n",
       "      <td>24</td>\n",
       "      <td>2010-12-01 08:45:00</td>\n",
       "      <td>1.25</td>\n",
       "      <td>u12583</td>\n",
       "      <td>France</td>\n",
       "      <td>VINTAGE HEADS AND TAILS CARD GAME</td>\n",
       "    </tr>\n",
       "    <tr>\n",
       "      <th>1</th>\n",
       "      <td>536373</td>\n",
       "      <td>82494L</td>\n",
       "      <td>6</td>\n",
       "      <td>2010-12-01 09:02:00</td>\n",
       "      <td>2.55</td>\n",
       "      <td>u1785</td>\n",
       "      <td>United Kingdom</td>\n",
       "      <td>WOODEN FRAME ANTIQUE WHITE</td>\n",
       "    </tr>\n",
       "    <tr>\n",
       "      <th>2</th>\n",
       "      <td>536378</td>\n",
       "      <td>21929</td>\n",
       "      <td>10</td>\n",
       "      <td>2010-12-01 09:37:00</td>\n",
       "      <td>1.95</td>\n",
       "      <td>u14688</td>\n",
       "      <td>United Kingdom</td>\n",
       "      <td>JUMBO BAG PINK VINTAGE PAISLEY</td>\n",
       "    </tr>\n",
       "    <tr>\n",
       "      <th>3</th>\n",
       "      <td>536381</td>\n",
       "      <td>37444A</td>\n",
       "      <td>1</td>\n",
       "      <td>2010-12-01 09:41:00</td>\n",
       "      <td>2.95</td>\n",
       "      <td>u15311</td>\n",
       "      <td>United Kingdom</td>\n",
       "      <td>YELLOW BREAKFAST CUP AND SAUCER</td>\n",
       "    </tr>\n",
       "    <tr>\n",
       "      <th>4</th>\n",
       "      <td>536381</td>\n",
       "      <td>15056BL</td>\n",
       "      <td>2</td>\n",
       "      <td>2010-12-01 09:41:00</td>\n",
       "      <td>5.95</td>\n",
       "      <td>u15311</td>\n",
       "      <td>United Kingdom</td>\n",
       "      <td>EDWARDIAN PARASOL BLACK</td>\n",
       "    </tr>\n",
       "  </tbody>\n",
       "</table>\n",
       "</div>"
      ],
      "text/plain": [
       "  invoice stock_code  quantity         invoice_date  price customer_id  \\\n",
       "0  536370      21791        24  2010-12-01 08:45:00   1.25      u12583   \n",
       "1  536373     82494L         6  2010-12-01 09:02:00   2.55       u1785   \n",
       "2  536378      21929        10  2010-12-01 09:37:00   1.95      u14688   \n",
       "3  536381     37444A         1  2010-12-01 09:41:00   2.95      u15311   \n",
       "4  536381    15056BL         2  2010-12-01 09:41:00   5.95      u15311   \n",
       "\n",
       "          country                         description  \n",
       "0          France  VINTAGE HEADS AND TAILS CARD GAME   \n",
       "1  United Kingdom         WOODEN FRAME ANTIQUE WHITE   \n",
       "2  United Kingdom      JUMBO BAG PINK VINTAGE PAISLEY  \n",
       "3  United Kingdom     YELLOW BREAKFAST CUP AND SAUCER  \n",
       "4  United Kingdom             EDWARDIAN PARASOL BLACK  "
      ]
     },
     "execution_count": 20,
     "metadata": {},
     "output_type": "execute_result"
    }
   ],
   "source": [
    "# check\n",
    "\n",
    "check = pd.read_csv(\"../data/ot_final.csv\")\n",
    "check.head()"
   ]
  },
  {
   "cell_type": "code",
   "execution_count": 21,
   "id": "00262b1c-c5c0-414d-9565-8741a41de3a2",
   "metadata": {},
   "outputs": [
    {
     "data": {
      "text/plain": [
       "(399841, 8)"
      ]
     },
     "execution_count": 21,
     "metadata": {},
     "output_type": "execute_result"
    }
   ],
   "source": [
    "check.shape"
   ]
  },
  {
   "cell_type": "code",
   "execution_count": null,
   "id": "f96f50fc-0e99-4912-ad06-b72079b13cc3",
   "metadata": {},
   "outputs": [],
   "source": []
  }
 ],
 "metadata": {
  "kernelspec": {
   "display_name": "Python 3 (ipykernel)",
   "language": "python",
   "name": "python3"
  },
  "language_info": {
   "codemirror_mode": {
    "name": "ipython",
    "version": 3
   },
   "file_extension": ".py",
   "mimetype": "text/x-python",
   "name": "python",
   "nbconvert_exporter": "python",
   "pygments_lexer": "ipython3",
   "version": "3.12.4"
  }
 },
 "nbformat": 4,
 "nbformat_minor": 5
}
