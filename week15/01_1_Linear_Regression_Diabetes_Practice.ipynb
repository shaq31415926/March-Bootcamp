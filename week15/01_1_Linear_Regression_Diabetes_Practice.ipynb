{
 "cells": [
  {
   "cell_type": "markdown",
   "id": "98c17876-4dcc-4adb-a5a5-60cb98c01094",
   "metadata": {},
   "source": [
    "# Linear Regression Example with the Diabetes Dataset\n",
    "\n",
    "## Introduction\n",
    "\n",
    "In this activity, we will perform a linear regression analysis using the Diabetes dataset. The objective is to predict the progression of diabetes (measured by a target variable) based on various features. This exercise will help you understand the process of building and evaluating a linear regression model.\n",
    "\n",
    "## The Dataset\n",
    "\n",
    "The Diabetes dataset contains the following features:\n",
    "- `age`: Age of the patient\n",
    "- `sex`: Gender of the patient\n",
    "- `bmi`: Body Mass Index\n",
    "- `bp`: Average blood pressure\n",
    "- `s1` to `s6`: Six blood serum measurements\n",
    "\n",
    "The target variable is:\n",
    "- `target`: A quantitative measure of disease progression one year after baseline\n",
    "\n",
    "**Note:** Each of these 10 feature variables have been mean centered and scaled by the standard deviation times the square root of `n_samples` (i.e. the sum of squares of each column totals 1).\n",
    "\n",
    "## Objective\n",
    "\n",
    "You will:\n",
    "1. Load and explore the dataset.\n",
    "2. Split the data into training and testing sets.\n",
    "3. Train a linear regression model.\n",
    "4. Evaluate the model's performance.\n",
    "5. Visualize the results.\n",
    "\n",
    "Let's get started!"
   ]
  },
  {
   "cell_type": "markdown",
   "id": "29c1d842-c0e9-4965-b3b2-9f3705856bf7",
   "metadata": {},
   "source": [
    "## Import necessary libraries"
   ]
  },
  {
   "cell_type": "code",
   "execution_count": 1,
   "id": "63855cf8-3043-4ea5-bc9f-684ecd194b6a",
   "metadata": {},
   "outputs": [],
   "source": [
    "import numpy as np\n",
    "import pandas as pd\n",
    "import matplotlib.pyplot as plt\n",
    "from sklearn.model_selection import train_test_split\n",
    "from sklearn.linear_model import LinearRegression\n",
    "from sklearn.metrics import mean_squared_error, r2_score"
   ]
  },
  {
   "cell_type": "markdown",
   "id": "5d473b5b-4457-43d7-af72-7d8c85c0b8a0",
   "metadata": {},
   "source": [
    "## Load and explore the dataset"
   ]
  },
  {
   "cell_type": "code",
   "execution_count": null,
   "id": "8f6f9c24-ed84-42fa-83d6-2c1c6b83df45",
   "metadata": {},
   "outputs": [],
   "source": [
    "# Load the Diabetes dataset\n",
    "data = pd.---(---)\n",
    "# Display the first few rows of the dataset\n",
    "---"
   ]
  },
  {
   "cell_type": "markdown",
   "id": "df382046-fe41-483a-99ba-18f22384169f",
   "metadata": {},
   "source": [
    "## Splitting the dataset"
   ]
  },
  {
   "cell_type": "code",
   "execution_count": null,
   "id": "32ff8e9f-dabe-4e20-93e5-507bd0dfa0db",
   "metadata": {},
   "outputs": [],
   "source": [
    "# TODO: Split the data into training and testing sets\n",
    "X = data.drop(---, axis= -- )\n",
    "y = data[---]"
   ]
  },
  {
   "cell_type": "code",
   "execution_count": null,
   "id": "43508d01-5939-4cd6-becc-db4388157d0e",
   "metadata": {},
   "outputs": [],
   "source": [
    "# Use train_test_split to create training and testing sets\n",
    "# Use a test size of 20% and random state for reproducibility\n",
    "# HINT: Use the function `train_test_split` from sklearn.model_selection\n",
    "X_train, X_test, y_train, y_test = ---(--, --, test_size=--, random_state=--)"
   ]
  },
  {
   "cell_type": "markdown",
   "id": "c93aadba-5c14-4ea5-8108-9346193051d0",
   "metadata": {},
   "source": [
    "## Training the model"
   ]
  },
  {
   "cell_type": "code",
   "execution_count": null,
   "id": "7cd74be5-e505-456e-9b9e-1b593aea3920",
   "metadata": {},
   "outputs": [],
   "source": [
    "# TODO: Create an instance of LinearRegression and fit it to the training data\n",
    "# HINT: Use the class `LinearRegression` from sklearn.linear_model\n",
    "model = ---()\n",
    "\n",
    "# Fit the model to the training data\n",
    "model.---(---, ---)"
   ]
  },
  {
   "cell_type": "markdown",
   "id": "6f3869b0-cad3-4eff-930c-ae7fda70a70d",
   "metadata": {},
   "source": [
    "## Making predictions"
   ]
  },
  {
   "cell_type": "code",
   "execution_count": null,
   "id": "b868e236-6f27-4251-ad13-756d53d3c8c2",
   "metadata": {},
   "outputs": [],
   "source": [
    "# TODO: Use the model to make predictions on the testing data\n",
    "# HINT: Use the `predict` method of the model\n",
    "y_pred = model.---(---)"
   ]
  },
  {
   "cell_type": "markdown",
   "id": "e298dfbe-b8e3-475f-95be-56a87ffe41f4",
   "metadata": {},
   "source": [
    "## Evaluating the model"
   ]
  },
  {
   "cell_type": "code",
   "execution_count": null,
   "id": "9b7b15eb-5655-4bae-92a9-b7a266ad0da6",
   "metadata": {},
   "outputs": [],
   "source": [
    "# TODO: Calculate the Mean Squared Error (MSE) and R² score for the model\n",
    "# HINT: Use the functions `mean_squared_error` and `r2_score` from sklearn.metrics\n",
    "mse = ---(---, ---)\n",
    "r2 = ---(---, ---)\n",
    "\n",
    "print(f'Mean Squared Error: {mse}')\n",
    "print(f'R² Score: {r2}')"
   ]
  },
  {
   "cell_type": "markdown",
   "id": "b31334eb-16f8-41eb-b27f-31dbff7d4a47",
   "metadata": {},
   "source": [
    "## Visualize the results"
   ]
  },
  {
   "cell_type": "code",
   "execution_count": null,
   "id": "5a298e4c-9b7a-429d-a783-c2c3fa816664",
   "metadata": {},
   "outputs": [],
   "source": [
    "plt.scatter(---, ---)\n",
    "plt.xlabel('Actual Values')\n",
    "plt.ylabel('Predicted Values')\n",
    "plt.title('Actual vs Predicted Values')\n",
    "plt.show()"
   ]
  },
  {
   "cell_type": "markdown",
   "id": "f92b6495-25fb-4dad-bebd-2e9dceb46805",
   "metadata": {},
   "source": [
    "## Discussion:\n",
    "    1. What does the Mean Squared Error (MSE) tell us about the model's performance?\n",
    "    2. What is the significance of the R² score, and what does it indicate about our model?\n",
    "    3. How do the actual values compare to the predicted values in the scatter plot?\n",
    "    4. Are there any patterns or trends you observe in the scatter plot that could indicate potential issues with the model?"
   ]
  }
 ],
 "metadata": {
  "kernelspec": {
   "display_name": "Python 3 (ipykernel)",
   "language": "python",
   "name": "python3"
  },
  "language_info": {
   "codemirror_mode": {
    "name": "ipython",
    "version": 3
   },
   "file_extension": ".py",
   "mimetype": "text/x-python",
   "name": "python",
   "nbconvert_exporter": "python",
   "pygments_lexer": "ipython3",
   "version": "3.9.12"
  }
 },
 "nbformat": 4,
 "nbformat_minor": 5
}
