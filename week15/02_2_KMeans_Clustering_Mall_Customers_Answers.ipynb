{
 "cells": [
  {
   "cell_type": "markdown",
   "id": "afe4f887-d127-4864-aec4-da71900865a9",
   "metadata": {},
   "source": [
    "# K-means Clustering Example with the Mall Customers Dataset\n",
    "\n",
    "## Introduction\n",
    "\n",
    "In this activity, we will perform a K-means clustering analysis using the Mall Customers dataset. The objective is to cluster the customers into distinct groups based on their spending patterns. This exercise will help you understand the process of implementing and evaluating a K-means clustering model.\n",
    "\n",
    "## The Dataset\n",
    "\n",
    "The Mall Customers dataset contains the following features:\n",
    "- `CustomerID`: Unique ID assigned to the customer\n",
    "- `Gender`: Gender of the customer\n",
    "- `Age`: Age of the customer\n",
    "- `Annual Income (k$)`: Annual income of the customer in thousand dollars\n",
    "- `Spending Score (1-100)`: Spending score assigned by the mall based on customer behavior and spending nature\n",
    "\n",
    "\n",
    "## Objective\n",
    "\n",
    "You will:\n",
    "    1. Load and explore the dataset.\n",
    "    2. Preprocess the data.\n",
    "    3. Determine the optimal number of clusters using the elbow method.\n",
    "    4. Implement the K-means clustering algorithm.\n",
    "    5. Evaluate the model's performance.\n",
    "    6. Visualize the clusters.\n",
    "\n",
    "Let's get started!"
   ]
  },
  {
   "cell_type": "markdown",
   "id": "1c692931-6cf3-459d-bdea-6a9f39bcecbf",
   "metadata": {},
   "source": [
    "## Import necessary libraries"
   ]
  },
  {
   "cell_type": "code",
   "execution_count": 1,
   "id": "ee57234f-36b2-43d2-aa04-f248201fb1e1",
   "metadata": {},
   "outputs": [],
   "source": [
    "# For Windows users: Set the number of threads to 1 to avoid problems with KMeans\n",
    "import os\n",
    "os.environ['OMP_NUM_THREADS'] = '1'\n",
    "\n",
    "import numpy as np\n",
    "import pandas as pd\n",
    "import matplotlib.pyplot as plt\n",
    "from sklearn.cluster import KMeans\n",
    "from sklearn.preprocessing import StandardScaler\n",
    "from sklearn.metrics import silhouette_score"
   ]
  },
  {
   "cell_type": "markdown",
   "id": "9a30145d-0f69-46ec-acc2-07bff9d6b493",
   "metadata": {},
   "source": [
    "## Load the Mall Customers dataset"
   ]
  },
  {
   "cell_type": "code",
   "execution_count": 2,
   "id": "45ae0af5-407c-47d0-8484-60a98830e6df",
   "metadata": {},
   "outputs": [
    {
     "data": {
      "text/html": [
       "<div>\n",
       "<style scoped>\n",
       "    .dataframe tbody tr th:only-of-type {\n",
       "        vertical-align: middle;\n",
       "    }\n",
       "\n",
       "    .dataframe tbody tr th {\n",
       "        vertical-align: top;\n",
       "    }\n",
       "\n",
       "    .dataframe thead th {\n",
       "        text-align: right;\n",
       "    }\n",
       "</style>\n",
       "<table border=\"1\" class=\"dataframe\">\n",
       "  <thead>\n",
       "    <tr style=\"text-align: right;\">\n",
       "      <th></th>\n",
       "      <th>CustomerID</th>\n",
       "      <th>Gender</th>\n",
       "      <th>Age</th>\n",
       "      <th>Annual Income (k$)</th>\n",
       "      <th>Spending Score (1-100)</th>\n",
       "    </tr>\n",
       "  </thead>\n",
       "  <tbody>\n",
       "    <tr>\n",
       "      <th>0</th>\n",
       "      <td>1</td>\n",
       "      <td>Male</td>\n",
       "      <td>19</td>\n",
       "      <td>15</td>\n",
       "      <td>39</td>\n",
       "    </tr>\n",
       "    <tr>\n",
       "      <th>1</th>\n",
       "      <td>2</td>\n",
       "      <td>Male</td>\n",
       "      <td>21</td>\n",
       "      <td>15</td>\n",
       "      <td>81</td>\n",
       "    </tr>\n",
       "    <tr>\n",
       "      <th>2</th>\n",
       "      <td>3</td>\n",
       "      <td>Female</td>\n",
       "      <td>20</td>\n",
       "      <td>16</td>\n",
       "      <td>6</td>\n",
       "    </tr>\n",
       "    <tr>\n",
       "      <th>3</th>\n",
       "      <td>4</td>\n",
       "      <td>Female</td>\n",
       "      <td>23</td>\n",
       "      <td>16</td>\n",
       "      <td>77</td>\n",
       "    </tr>\n",
       "    <tr>\n",
       "      <th>4</th>\n",
       "      <td>5</td>\n",
       "      <td>Female</td>\n",
       "      <td>31</td>\n",
       "      <td>17</td>\n",
       "      <td>40</td>\n",
       "    </tr>\n",
       "  </tbody>\n",
       "</table>\n",
       "</div>"
      ],
      "text/plain": [
       "   CustomerID  Gender  Age  Annual Income (k$)  Spending Score (1-100)\n",
       "0           1    Male   19                  15                      39\n",
       "1           2    Male   21                  15                      81\n",
       "2           3  Female   20                  16                       6\n",
       "3           4  Female   23                  16                      77\n",
       "4           5  Female   31                  17                      40"
      ]
     },
     "execution_count": 2,
     "metadata": {},
     "output_type": "execute_result"
    }
   ],
   "source": [
    "# Load the Mall Customers dataset\n",
    "data = pd.read_csv(\"data\\Mall_Customers.csv\")\n",
    "# Display the first few rows of the dataset\n",
    "data.head()"
   ]
  },
  {
   "cell_type": "markdown",
   "id": "cfb28cab-53b4-4eaa-ae6f-06f0106d3376",
   "metadata": {},
   "source": [
    "## Data Preprocessing"
   ]
  },
  {
   "cell_type": "markdown",
   "id": "e653dae1-1d29-4278-afe4-f3d10df3f84c",
   "metadata": {},
   "source": [
    "- Select relevant features and standardize them using `StandardScaler`."
   ]
  },
  {
   "cell_type": "code",
   "execution_count": 3,
   "id": "f0ab07ed-d42b-443d-b6d3-7eae2a5ec001",
   "metadata": {},
   "outputs": [],
   "source": [
    "# Select relevant features\n",
    "features = ['Age', 'Annual Income (k$)', 'Spending Score (1-100)']\n",
    "data_features = data[features]\n",
    "\n",
    "# Standardize the features\n",
    "scaler = StandardScaler()\n",
    "data_scaled = scaler.fit_transform(data_features)"
   ]
  },
  {
   "cell_type": "markdown",
   "id": "2b9200eb-efa5-4c99-b0e3-6e8ace70a60d",
   "metadata": {},
   "source": [
    "## Determining the Optimal Number of Clusters"
   ]
  },
  {
   "cell_type": "markdown",
   "id": "98200dda-445c-4f64-93b9-3d6f0fba35c6",
   "metadata": {},
   "source": [
    "- Use the elbow method to find the optimal number of clusters by plotting the inertia for a range of cluster numbers."
   ]
  },
  {
   "cell_type": "code",
   "execution_count": 4,
   "id": "ce68a0db-eee8-40e9-9473-7517c5e57e94",
   "metadata": {},
   "outputs": [
    {
     "data": {
      "image/png": "[encoded data removed]",
      "text/plain": [
       "<Figure size 576x288 with 1 Axes>"
      ]
     },
     "metadata": {
      "needs_background": "light"
     },
     "output_type": "display_data"
    }
   ],
   "source": [
    "# Use the elbow method to find the optimal number of clusters\n",
    "inertia = []\n",
    "for k in range(1, 11):\n",
    "    kmeans = KMeans(n_clusters=k, init='k-means++', n_init = 'auto', random_state=42)\n",
    "    kmeans.fit(data_scaled)\n",
    "    inertia.append(kmeans.inertia_)\n",
    "\n",
    "# Plot the elbow curve\n",
    "plt.figure(figsize=(8, 4))\n",
    "plt.plot(range(1, 11), inertia, 'bo-')\n",
    "plt.xlabel('Number of Clusters')\n",
    "plt.ylabel('Inertia')\n",
    "plt.title('Elbow Method for Optimal Number of Clusters')\n",
    "plt.show()"
   ]
  },
  {
   "cell_type": "markdown",
   "id": "1686ae5f-e2a5-4779-bed9-994f0f74eebe",
   "metadata": {},
   "source": [
    "## Implementing K-means Clustering"
   ]
  },
  {
   "cell_type": "markdown",
   "id": "efac9093-8855-429a-821d-202674078a38",
   "metadata": {},
   "source": [
    "- Create an instance of `KMeans` with the optimal number of clusters and fit it to the scaled data."
   ]
  },
  {
   "cell_type": "code",
   "execution_count": 5,
   "id": "b690518a-1aa9-4a61-a07a-fda7d73bff6c",
   "metadata": {},
   "outputs": [],
   "source": [
    "# Create an instance of KMeans with the optimal number of clusters\n",
    "optimal_clusters = 5  # Assume 5 is determined as the optimal number of clusters from the elbow method\n",
    "kmeans = KMeans(n_clusters=optimal_clusters, init='k-means++', n_init = 'auto', random_state=42)\n",
    "\n",
    "# Fit the model to the scaled data\n",
    "data['cluster'] = kmeans.fit_predict(data_scaled)"
   ]
  },
  {
   "cell_type": "markdown",
   "id": "5593aaa8-90ff-4ef1-89cb-f37d9d4183a5",
   "metadata": {},
   "source": [
    "## Evaluating the Mode"
   ]
  },
  {
   "cell_type": "markdown",
   "id": "123218dc-a411-4a2d-b5a5-716d242f44e8",
   "metadata": {},
   "source": [
    "- Calculate the silhouette score for the model."
   ]
  },
  {
   "cell_type": "code",
   "execution_count": 6,
   "id": "ffd8a30d-bef8-4b02-a2fb-eee0788f07ae",
   "metadata": {},
   "outputs": [
    {
     "name": "stdout",
     "output_type": "stream",
     "text": [
      "Silhouette Score: 0.40846873777345605\n"
     ]
    }
   ],
   "source": [
    "# Calculate the silhouette score for the model\n",
    "silhouette_avg = silhouette_score(data_scaled, data['cluster'])\n",
    "\n",
    "print(f'Silhouette Score: {silhouette_avg}')"
   ]
  },
  {
   "cell_type": "markdown",
   "id": "220588d7-6768-4022-b518-8761881bd104",
   "metadata": {},
   "source": [
    "## Visualize the clusters"
   ]
  },
  {
   "cell_type": "code",
   "execution_count": 7,
   "id": "64b290fb-d447-419e-86a7-cedc2642734c",
   "metadata": {},
   "outputs": [
    {
     "data": {
      "image/png": "[encoded data removed]",
      "text/plain": [
       "<Figure size 432x288 with 1 Axes>"
      ]
     },
     "metadata": {
      "needs_background": "light"
     },
     "output_type": "display_data"
    }
   ],
   "source": [
    "plt.scatter(data['Annual Income (k$)'], data['Spending Score (1-100)'], c=data['cluster'], cmap='viridis')\n",
    "plt.xlabel('Annual Income (k$)')\n",
    "plt.ylabel('Spending Score (1-100)')\n",
    "plt.title('K-means Clustering of Mall Customers')\n",
    "plt.show()"
   ]
  },
  {
   "cell_type": "markdown",
   "id": "f0fac1ef-d1f5-4cbf-964a-28b6c4438f57",
   "metadata": {},
   "source": [
    "## Discussion Questions:\n",
    "    1. What does the silhouette score indicate about the quality of the clusters?\n",
    "\n",
    "The silhouette score measures how similar each point is to its own cluster compared to other clusters. A higher silhouette score indicates better-defined clusters. Scores close to +1 suggest that the samples are far away from the neighboring clusters, whereas scores close to 0 indicate that the sample is on or very close to the decision boundary between two neighboring clusters. Scores below 0 indicate that the samples might have been assigned to the wrong cluster.\n",
    "\n",
    "    2. How well do the clusters correspond to different types of customers based on their spending patterns?\n",
    "\n",
    "To assess this, you would analyze the distribution of clusters and see if they group customers with similar spending patterns. For example, you might find clusters corresponding to high-income, high-spending customers, or low-income, low-spending customers. Visualizing the clusters can help identify these patterns.\n",
    "\n",
    "    3. Are there any improvements you can suggest for the clustering model?\n",
    "\n",
    "Potential improvements could include tuning the number of clusters, trying different initialization methods, using different scaling techniques, or applying more advanced clustering algorithms. Evaluating different models and parameters can help improve the clustering performance."
   ]
  }
 ],
 "metadata": {
  "kernelspec": {
   "display_name": "Python 3 (ipykernel)",
   "language": "python",
   "name": "python3"
  },
  "language_info": {
   "codemirror_mode": {
    "name": "ipython",
    "version": 3
   },
   "file_extension": ".py",
   "mimetype": "text/x-python",
   "name": "python",
   "nbconvert_exporter": "python",
   "pygments_lexer": "ipython3",
   "version": "3.9.12"
  }
 },
 "nbformat": 4,
 "nbformat_minor": 5
}
