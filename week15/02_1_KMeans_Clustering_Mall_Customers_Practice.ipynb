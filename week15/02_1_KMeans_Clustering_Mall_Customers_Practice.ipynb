{
 "cells": [
  {
   "cell_type": "markdown",
   "id": "35a1f9c1-8dec-45c2-b2b1-71234a9e014f",
   "metadata": {},
   "source": [
    "# K-means Clustering Example with the Mall Customers Dataset\n",
    "\n",
    "## Introduction\n",
    "\n",
    "In this activity, we will perform a K-means clustering analysis using the Mall Customers dataset. The objective is to cluster the customers into distinct groups based on their spending patterns. This exercise will help you understand the process of implementing and evaluating a K-means clustering model.\n",
    "\n",
    "## The Dataset\n",
    "\n",
    "The Mall Customers dataset contains the following features:\n",
    "- `CustomerID`: Unique ID assigned to the customer\n",
    "- `Gender`: Gender of the customer\n",
    "- `Age`: Age of the customer\n",
    "- `Annual Income (k$)`: Annual income of the customer in thousand dollars\n",
    "- `Spending Score (1-100)`: Spending score assigned by the mall based on customer behavior and spending nature\n",
    "\n",
    "\n",
    "## Objective\n",
    "\n",
    "You will:\n",
    "\n",
    "    1. Load and explore the dataset.\n",
    "    2. Preprocess the data.\n",
    "    3. Determine the optimal number of clusters using the elbow method.\n",
    "    4. Implement the K-means clustering algorithm.\n",
    "    5. Evaluate the model's performance.\n",
    "    6. Visualize the clusters.\n",
    "\n",
    "Let's get started!"
   ]
  },
  {
   "cell_type": "markdown",
   "id": "7c4018cd-5daa-4aea-a6cd-6b99727f1aa7",
   "metadata": {},
   "source": [
    "## Import necessary libraries"
   ]
  },
  {
   "cell_type": "code",
   "execution_count": null,
   "id": "c6f3573b-d0bc-4886-9eb9-04ce809f019f",
   "metadata": {},
   "outputs": [],
   "source": [
    "import numpy as np\n",
    "import pandas as pd\n",
    "import matplotlib.pyplot as plt\n",
    "from sklearn.cluster import KMeans\n",
    "from sklearn.preprocessing import StandardScaler\n",
    "from sklearn.metrics import silhouette_score"
   ]
  },
  {
   "cell_type": "markdown",
   "id": "1831cb7b-40bb-4788-a365-610e842e46aa",
   "metadata": {},
   "source": [
    "## Load the Mall Customers dataset"
   ]
  },
  {
   "cell_type": "code",
   "execution_count": null,
   "id": "8f6f9c24-ed84-42fa-83d6-2c1c6b83df45",
   "metadata": {},
   "outputs": [],
   "source": [
    "# Load the Mall Customers dataset\n",
    "data = pd.---(---)\n",
    "# Display the first few rows of the dataset\n",
    "---"
   ]
  },
  {
   "cell_type": "markdown",
   "id": "5f227386-d56a-4bb0-a9be-4726d19dbecb",
   "metadata": {},
   "source": [
    "## Data Preprocessing"
   ]
  },
  {
   "cell_type": "markdown",
   "id": "d6b78159-42ab-4691-8a8a-8cf69419e54e",
   "metadata": {},
   "source": [
    "- Select relevant features and standardize them using `StandardScaler`."
   ]
  },
  {
   "cell_type": "code",
   "execution_count": null,
   "id": "e0a61a6c-c8ac-4a95-8e0c-a7d1fe69898d",
   "metadata": {},
   "outputs": [],
   "source": [
    "# TODO: Select relevant features and standardize them\n",
    "features = [---]\n",
    "data_features = data[features]"
   ]
  },
  {
   "cell_type": "code",
   "execution_count": null,
   "id": "dbb8f745-b8e2-4d74-babe-146f968fe9ed",
   "metadata": {},
   "outputs": [],
   "source": [
    "# Standardize the features\n",
    "scaler = StandardScaler()\n",
    "data_scaled = scaler.fit_transform(---)"
   ]
  },
  {
   "cell_type": "markdown",
   "id": "42566d13-ae0f-44d0-b34e-57ee3798f953",
   "metadata": {},
   "source": [
    "## Determining the Optimal Number of Clusters"
   ]
  },
  {
   "cell_type": "markdown",
   "id": "74d030fb-bb65-4508-9403-58594b8aa517",
   "metadata": {},
   "source": [
    "- Use the elbow method to find the optimal number of clusters by plotting the inertia for a range of cluster numbers."
   ]
  },
  {
   "cell_type": "code",
   "execution_count": null,
   "id": "734e17e3-636f-49df-8300-10ce9a080c8c",
   "metadata": {},
   "outputs": [],
   "source": [
    "# TODO: Use the elbow method to find the optimal number of clusters\n",
    "# HINT: Iterate over a range of cluster numbers and compute the inertia for each\n",
    "inertia = []\n",
    "for k in range(1, 11):\n",
    "    kmeans = KMeans(n_clusters=--, random_state=42)\n",
    "    kmeans.fit(---)\n",
    "    inertia.append(kmeans.inertia_)\n",
    "\n",
    "# Plot the elbow curve\n",
    "plt.figure(figsize=(8, 4))\n",
    "plt.plot(range(1, 11, inertia, 'bo-'))\n",
    "plt.xlabel('Number of Clusters')\n",
    "plt.ylabel('Inertia')\n",
    "plt.title('Elbow Method for Optimal Number of Clusters')\n",
    "plt.show()"
   ]
  },
  {
   "cell_type": "markdown",
   "id": "2b2d29ab-33c2-485f-b874-e38c3ad902c3",
   "metadata": {},
   "source": [
    "## Implementing K-means Clustering"
   ]
  },
  {
   "cell_type": "markdown",
   "id": "d9af238f-c894-4e67-a4c0-2d2476a77478",
   "metadata": {},
   "source": [
    "- Create an instance of `KMeans` with the optimal number of clusters and fit it to the scaled data."
   ]
  },
  {
   "cell_type": "code",
   "execution_count": null,
   "id": "1c947e6f-72e1-4732-be7d-7b08dde48d23",
   "metadata": {},
   "outputs": [],
   "source": [
    "# TODO: Create an instance of KMeans with the optimal number of clusters and fit it to the scaled data\n",
    "# HINT: Use the class `KMeans` from sklearn.cluster\n",
    "optimal_clusters = --\n",
    "kmeans = ---(n_clusters=--, random_state=42)\n",
    "\n",
    "# Fit the model to the scaled data\n",
    "# HINT: Use the function `fit_predict`\n",
    "data['cluster'] = kmeans.---(---)"
   ]
  },
  {
   "cell_type": "markdown",
   "id": "68157afc-0a0b-4f4d-a4f0-77605b6bb9a5",
   "metadata": {},
   "source": [
    "## Evaluating the Mode"
   ]
  },
  {
   "cell_type": "markdown",
   "id": "07385640-a30b-47a8-9637-44da0551bf25",
   "metadata": {},
   "source": [
    "- Calculate the silhouette score for the model."
   ]
  },
  {
   "cell_type": "code",
   "execution_count": null,
   "id": "97da57a3-edce-4c0b-a0f8-d418b239ff95",
   "metadata": {},
   "outputs": [],
   "source": [
    "# TODO: Calculate the silhouette score for the model\n",
    "# HINT: Use the function `silhouette_score` from sklearn.metrics\n",
    "silhouette_avg = ---(---, ---)\n",
    "\n",
    "print(f'Silhouette Score: {silhouette_avg}')"
   ]
  },
  {
   "cell_type": "markdown",
   "id": "64a4af80-9cf4-49cc-9671-6681f2d8575a",
   "metadata": {},
   "source": [
    "## Visualize the clusters"
   ]
  },
  {
   "cell_type": "code",
   "execution_count": null,
   "id": "190a9c54-a8cb-4d76-8bb9-a0dcd2cd48eb",
   "metadata": {},
   "outputs": [],
   "source": [
    "plt.scatter(data['Annual Income (k$)'], data['Spending Score (1-100)'], c=data['cluster'], cmap='viridis')\n",
    "plt.xlabel('Annual Income (k$)')\n",
    "plt.ylabel('Spending Score (1-100)')\n",
    "plt.title('K-means Clustering of Mall Customers')\n",
    "plt.show()"
   ]
  },
  {
   "cell_type": "markdown",
   "id": "3150e90e-da92-43f6-806b-5bfa62289b81",
   "metadata": {},
   "source": [
    "## Discussion Questions:\n",
    "    1. What does the silhouette score indicate about the quality of the clusters?\n",
    "    2. How well do the clusters correspond to different types of customers based on their spending patterns?\n",
    "    3. Are there any improvements you can suggest for the clustering model?"
   ]
  }
 ],
 "metadata": {
  "kernelspec": {
   "display_name": "Python 3 (ipykernel)",
   "language": "python",
   "name": "python3"
  },
  "language_info": {
   "codemirror_mode": {
    "name": "ipython",
    "version": 3
   },
   "file_extension": ".py",
   "mimetype": "text/x-python",
   "name": "python",
   "nbconvert_exporter": "python",
   "pygments_lexer": "ipython3",
   "version": "3.9.12"
  }
 },
 "nbformat": 4,
 "nbformat_minor": 5
}
