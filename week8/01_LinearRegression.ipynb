{
 "cells": [
  {
   "cell_type": "markdown",
   "id": "17016f61-c190-492b-9e40-c9662520c31e",
   "metadata": {
    "tags": []
   },
   "source": [
    "# Supervised Learning - Regression task\n",
    "## Activity: Linear Regression - California Housing Dataset"
   ]
  },
  {
   "cell_type": "markdown",
   "id": "ddfaf23c-0365-4f0d-bec5-8d00121fc0ba",
   "metadata": {
    "tags": []
   },
   "source": [
    "## Introduction"
   ]
  },
  {
   "cell_type": "markdown",
   "id": "d8aa9f31-1661-449c-b1a5-b9e0a2d1860b",
   "metadata": {},
   "source": [
    "### Context\n",
    "The California Housing dataset, derived from the 1990 California census, is a staple in machine learning for regression tasks. Our goal is to predict median house values in California districts using various features from the dataset.\n",
    "\n",
    "### Our Role as Data Scientists\n",
    "We are simulating the role of data scientists, tasked with predicting house prices in California. This analysis is pivotal, serving stakeholders like real estate investors and government agencies for decision-making and policy formulation.\n",
    "\n",
    "### Dataset Features\n",
    "- Median Income\n",
    "- Housing Average Age\n",
    "- Average Rooms\n",
    "- Average Bedrooms\n",
    "- Population\n",
    "- Average Occupation\n",
    "- Latitude\n",
    "- Longitude\n",
    "\n",
    "We aim to predict the Median House Value using these features.\n",
    "\n",
    "## Activity Goals\n",
    "\n",
    "1. **Exploratory Data Analysis (EDA):** \n",
    "    - Employ visualizations and statistical summaries to grasp the data's characteristics.\n",
    "    - Detect correlations, discern patterns, and uncover potential anomalies.\n",
    "\n",
    "2. **Data Preprocessing:**\n",
    "    - Address missing values and manage outliers.\n",
    "    - Split the dataset into training and test sets.\n",
    "    - Implement feature scaling to standardize the data for model training.\n",
    "   \n",
    "3. **Model Training:**\n",
    "    - Implement a linear regression model.\n",
    "    - Train the model with our preprocessed data.\n",
    "\n",
    "4. **Model Evaluation:**\n",
    "    - Assess model performance using Mean Squared Error (MSE) and R² score.\n",
    "    - Determine the model's readiness for real-world application.\n",
    "\n",
    "Let's start our journey of data exploration and predictive modeling!"
   ]
  },
  {
   "cell_type": "markdown",
   "id": "41b3b2c2-4640-4dbb-b4f0-d8d1f74a9b11",
   "metadata": {
    "tags": []
   },
   "source": [
    "## Import Necessary Libraries & Modules"
   ]
  },
  {
   "cell_type": "code",
   "execution_count": 1,
   "id": "2a7e71c7-d5fb-4982-8b60-682cdf912100",
   "metadata": {},
   "outputs": [],
   "source": [
    "# Importing pandas and numpy for data manipulation and numerical operations\n",
    "import pandas as pd\n",
    "import numpy as np\n",
    "\n",
    "# Importing matplotlib and seaborn for data visualization\n",
    "import matplotlib.pyplot as plt\n",
    "import seaborn as sns\n",
    "\n",
    "%matplo\n",
    "\n",
    "# Importing fetch_california_housing to load the California housing dataset directly from sklearn\n",
    "from sklearn.datasets import fetch_california_housing\n",
    "\n",
    "# Importing train_test_split for splitting the dataset into training and testing sets\n",
    "from sklearn.model_selection import train_test_split\n",
    "\n",
    "# Importing StandardScaler for feature scaling, which is important for many machine learning models including linear regression\n",
    "from sklearn.preprocessing import StandardScaler\n",
    "\n",
    "# Importing LinearRegression, which is the machine learning model we'll use for predicting house values\n",
    "from sklearn.linear_model import LinearRegression\n",
    "\n",
    "# Importing mean_squared_error and r2_score for evaluating the performance of our linear regression model\n",
    "from sklearn.metrics import mean_squared_error, r2_score"
   ]
  },
  {
   "cell_type": "markdown",
   "id": "01e979ee-99c6-45cd-ad82-8bf2f50783ba",
   "metadata": {},
   "source": [
    "In this phase, we are bringing in all the essential Python libraries required for our analysis. We use `pandas` and `numpy` for handling and manipulating data, `sklearn` provides tools for our machine learning endeavors, and `matplotlib` along with `seaborn` are our choices for visualizing data effectively.\n",
    "\n",
    "This setup ensures we have all the necessary tools at our disposal for a comprehensive data analysis and machine learning workflow."
   ]
  },
  {
   "cell_type": "markdown",
   "id": "951c513e-49a3-421b-8702-ce7660b27324",
   "metadata": {
    "tags": []
   },
   "source": [
    "# Load and Explore the Dataset"
   ]
  },
  {
   "cell_type": "markdown",
   "id": "ea002c7b-034c-4eb4-bec7-8e8f2df84ae3",
   "metadata": {
    "tags": []
   },
   "source": [
    "## 1. Load the California Housing dataset"
   ]
  },
  {
   "cell_type": "code",
   "execution_count": 3,
   "id": "71a9ed60-d521-4311-af88-8073c2bf7a75",
   "metadata": {},
   "outputs": [],
   "source": [
    "# Fetches the California housing dataset\n",
    "california_dataset = fetch_california_housing()"
   ]
  },
  {
   "cell_type": "markdown",
   "id": "8d7587f2-f521-4ba1-a3a1-ef3c781dbed8",
   "metadata": {
    "tags": []
   },
   "source": [
    "### Understanding the data object obtained"
   ]
  },
  {
   "cell_type": "markdown",
   "id": "3fa9b6b3-070f-4dad-8d95-ff51c5db4783",
   "metadata": {},
   "source": [
    "Exploring the different components of the dataset object"
   ]
  },
  {
   "cell_type": "code",
   "execution_count": 4,
   "id": "635e1b81-bf3f-4afc-ac37-65abb15c7f06",
   "metadata": {},
   "outputs": [
    {
     "data": {
      "text/plain": [
       "dict_keys(['data', 'target', 'frame', 'target_names', 'feature_names', 'DESCR'])"
      ]
     },
     "execution_count": 4,
     "metadata": {},
     "output_type": "execute_result"
    }
   ],
   "source": [
    "california_dataset.keys()"
   ]
  },
  {
   "cell_type": "markdown",
   "id": "5a1bd3c8-0b7a-4fd7-9568-a44f6580d2b4",
   "metadata": {},
   "source": [
    "The dataset includes data, target values, feature names, and descriptions"
   ]
  },
  {
   "cell_type": "markdown",
   "id": "189e7df3-0257-4a14-992d-a97df531cc2e",
   "metadata": {},
   "source": [
    "- **Target name**\n",
    "\n",
    "Identifying the name of the target variable in the dataset"
   ]
  },
  {
   "cell_type": "code",
   "execution_count": 5,
   "id": "fbb526c6-a391-445b-9b34-7e81fa707018",
   "metadata": {},
   "outputs": [
    {
     "data": {
      "text/plain": [
       "['MedHouseVal']"
      ]
     },
     "execution_count": 5,
     "metadata": {},
     "output_type": "execute_result"
    }
   ],
   "source": [
    "california_dataset.target_names"
   ]
  },
  {
   "cell_type": "markdown",
   "id": "54f11b98-9c8d-4f52-9c87-0c086e1cc74b",
   "metadata": {},
   "source": [
    "The target variable is `MedHouseVal`, representing the median house value"
   ]
  },
  {
   "cell_type": "markdown",
   "id": "071296e0-5fe3-4e3a-b792-d54c53c3f7b2",
   "metadata": {},
   "source": [
    "- **Features names**\n",
    "\n",
    "Listing the names of the features in the dataset"
   ]
  },
  {
   "cell_type": "code",
   "execution_count": 6,
   "id": "c21caeef-4a8b-4dbd-a944-693bf19833d0",
   "metadata": {},
   "outputs": [
    {
     "data": {
      "text/plain": [
       "['MedInc',\n",
       " 'HouseAge',\n",
       " 'AveRooms',\n",
       " 'AveBedrms',\n",
       " 'Population',\n",
       " 'AveOccup',\n",
       " 'Latitude',\n",
       " 'Longitude']"
      ]
     },
     "execution_count": 6,
     "metadata": {},
     "output_type": "execute_result"
    }
   ],
   "source": [
    "california_dataset.feature_names"
   ]
  },
  {
   "cell_type": "markdown",
   "id": "2818768c-467d-4b51-84a3-78ca6a5cd19e",
   "metadata": {},
   "source": [
    "Features include median income, house age, rooms, bedrooms, population, etc."
   ]
  },
  {
   "cell_type": "markdown",
   "id": "34e766e8-0029-423d-b66d-94503299bcbe",
   "metadata": {},
   "source": [
    "- **DataSet Characteristics**\n",
    "\n",
    "Displaying a detailed description of the dataset for a better understanding, including attributes and their descriptions."
   ]
  },
  {
   "cell_type": "code",
   "execution_count": 6,
   "id": "10d37a89-37d8-40d8-b8b0-28f272e302aa",
   "metadata": {},
   "outputs": [
    {
     "name": "stdout",
     "output_type": "stream",
     "text": [
      ".. _california_housing_dataset:\n",
      "\n",
      "California Housing dataset\n",
      "--------------------------\n",
      "\n",
      "**Data Set Characteristics:**\n",
      "\n",
      "    :Number of Instances: 20640\n",
      "\n",
      "    :Number of Attributes: 8 numeric, predictive attributes and the target\n",
      "\n",
      "    :Attribute Information:\n",
      "        - MedInc        median income in block group\n",
      "        - HouseAge      median house age in block group\n",
      "        - AveRooms      average number of rooms per household\n",
      "        - AveBedrms     average number of bedrooms per household\n",
      "        - Population    block group population\n",
      "        - AveOccup      average number of household members\n",
      "        - Latitude      block group latitude\n",
      "        - Longitude     block group longitude\n",
      "\n",
      "    :Missing Attribute Values: None\n",
      "\n",
      "This dataset was obtained from the StatLib repository.\n",
      "https://www.dcc.fc.up.pt/~ltorgo/Regression/cal_housing.html\n",
      "\n",
      "The target variable is the median house value for California districts,\n",
      "expressed in hundreds of thousands of dollars ($100,000).\n",
      "\n",
      "This dataset was derived from the 1990 U.S. census, using one row per census\n",
      "block group. A block group is the smallest geographical unit for which the U.S.\n",
      "Census Bureau publishes sample data (a block group typically has a population\n",
      "of 600 to 3,000 people).\n",
      "\n",
      "An household is a group of people residing within a home. Since the average\n",
      "number of rooms and bedrooms in this dataset are provided per household, these\n",
      "columns may take surpinsingly large values for block groups with few households\n",
      "and many empty houses, such as vacation resorts.\n",
      "\n",
      "It can be downloaded/loaded using the\n",
      ":func:`sklearn.datasets.fetch_california_housing` function.\n",
      "\n",
      ".. topic:: References\n",
      "\n",
      "    - Pace, R. Kelley and Ronald Barry, Sparse Spatial Autoregressions,\n",
      "      Statistics and Probability Letters, 33 (1997) 291-297\n",
      "\n"
     ]
    }
   ],
   "source": [
    "print(california_dataset.DESCR)"
   ]
  },
  {
   "cell_type": "markdown",
   "id": "90f69f67-e79f-40ad-b992-3cc7de01c3c1",
   "metadata": {},
   "source": [
    "### Convert the Data to a DataFrame"
   ]
  },
  {
   "cell_type": "markdown",
   "id": "99e9003f-3152-4644-8309-a3cbd4d37920",
   "metadata": {},
   "source": [
    "Converting the loaded data into a pandas DataFrame for easier analysis"
   ]
  },
  {
   "cell_type": "code",
   "execution_count": 4,
   "id": "779f0028-a326-4b2d-ab42-1438def72c27",
   "metadata": {},
   "outputs": [],
   "source": [
    "# Convert the dataset to a pandas DataFrame\n",
    "df = pd.DataFrame(california_dataset.data, columns=california_dataset.feature_names)\n",
    "df['MedianHouseValue'] = california_dataset.target\n",
    "\n",
    "# The DataFrame 'df' now contains all features and the target variable for analysis"
   ]
  },
  {
   "cell_type": "markdown",
   "id": "5b6886d6-4c9f-4a6a-8a5c-1b1046f3770a",
   "metadata": {},
   "source": [
    "- We convert the dataset into a pandas DataFrame for easier manipulation.\n",
    "- We add `MedianHouseValue` as a new column, representing our target variable."
   ]
  },
  {
   "cell_type": "markdown",
   "id": "0a3d7d33-31b2-404c-9f25-638ea9c67c2b",
   "metadata": {},
   "source": [
    "- **Preview the DataFrame**"
   ]
  },
  {
   "cell_type": "code",
   "execution_count": 10,
   "id": "d7c00784-6fcd-4486-ab85-a9c3c32c8278",
   "metadata": {},
   "outputs": [
    {
     "data": {
      "text/html": [
       "<div>\n",
       "<style scoped>\n",
       "    .dataframe tbody tr th:only-of-type {\n",
       "        vertical-align: middle;\n",
       "    }\n",
       "\n",
       "    .dataframe tbody tr th {\n",
       "        vertical-align: top;\n",
       "    }\n",
       "\n",
       "    .dataframe thead th {\n",
       "        text-align: right;\n",
       "    }\n",
       "</style>\n",
       "<table border=\"1\" class=\"dataframe\">\n",
       "  <thead>\n",
       "    <tr style=\"text-align: right;\">\n",
       "      <th></th>\n",
       "      <th>MedInc</th>\n",
       "      <th>HouseAge</th>\n",
       "      <th>AveRooms</th>\n",
       "      <th>AveBedrms</th>\n",
       "      <th>Population</th>\n",
       "      <th>AveOccup</th>\n",
       "      <th>Latitude</th>\n",
       "      <th>Longitude</th>\n",
       "      <th>MedianHouseValue</th>\n",
       "    </tr>\n",
       "  </thead>\n",
       "  <tbody>\n",
       "    <tr>\n",
       "      <th>0</th>\n",
       "      <td>8.3252</td>\n",
       "      <td>41.0</td>\n",
       "      <td>6.984127</td>\n",
       "      <td>1.023810</td>\n",
       "      <td>322.0</td>\n",
       "      <td>2.555556</td>\n",
       "      <td>37.88</td>\n",
       "      <td>-122.23</td>\n",
       "      <td>4.526</td>\n",
       "    </tr>\n",
       "    <tr>\n",
       "      <th>1</th>\n",
       "      <td>8.3014</td>\n",
       "      <td>21.0</td>\n",
       "      <td>6.238137</td>\n",
       "      <td>0.971880</td>\n",
       "      <td>2401.0</td>\n",
       "      <td>2.109842</td>\n",
       "      <td>37.86</td>\n",
       "      <td>-122.22</td>\n",
       "      <td>3.585</td>\n",
       "    </tr>\n",
       "    <tr>\n",
       "      <th>2</th>\n",
       "      <td>7.2574</td>\n",
       "      <td>52.0</td>\n",
       "      <td>8.288136</td>\n",
       "      <td>1.073446</td>\n",
       "      <td>496.0</td>\n",
       "      <td>2.802260</td>\n",
       "      <td>37.85</td>\n",
       "      <td>-122.24</td>\n",
       "      <td>3.521</td>\n",
       "    </tr>\n",
       "    <tr>\n",
       "      <th>3</th>\n",
       "      <td>5.6431</td>\n",
       "      <td>52.0</td>\n",
       "      <td>5.817352</td>\n",
       "      <td>1.073059</td>\n",
       "      <td>558.0</td>\n",
       "      <td>2.547945</td>\n",
       "      <td>37.85</td>\n",
       "      <td>-122.25</td>\n",
       "      <td>3.413</td>\n",
       "    </tr>\n",
       "    <tr>\n",
       "      <th>4</th>\n",
       "      <td>3.8462</td>\n",
       "      <td>52.0</td>\n",
       "      <td>6.281853</td>\n",
       "      <td>1.081081</td>\n",
       "      <td>565.0</td>\n",
       "      <td>2.181467</td>\n",
       "      <td>37.85</td>\n",
       "      <td>-122.25</td>\n",
       "      <td>3.422</td>\n",
       "    </tr>\n",
       "  </tbody>\n",
       "</table>\n",
       "</div>"
      ],
      "text/plain": [
       "   MedInc  HouseAge  AveRooms  AveBedrms  Population  AveOccup  Latitude  \\\n",
       "0  8.3252      41.0  6.984127   1.023810       322.0  2.555556     37.88   \n",
       "1  8.3014      21.0  6.238137   0.971880      2401.0  2.109842     37.86   \n",
       "2  7.2574      52.0  8.288136   1.073446       496.0  2.802260     37.85   \n",
       "3  5.6431      52.0  5.817352   1.073059       558.0  2.547945     37.85   \n",
       "4  3.8462      52.0  6.281853   1.081081       565.0  2.181467     37.85   \n",
       "\n",
       "   Longitude  MedianHouseValue  \n",
       "0    -122.23             4.526  \n",
       "1    -122.22             3.585  \n",
       "2    -122.24             3.521  \n",
       "3    -122.25             3.413  \n",
       "4    -122.25             3.422  "
      ]
     },
     "execution_count": 10,
     "metadata": {},
     "output_type": "execute_result"
    }
   ],
   "source": [
    "# Displaying the first few rows of the DataFrame\n",
    "df.head()"
   ]
  },
  {
   "cell_type": "markdown",
   "id": "47653c67-35d1-4fea-ba1e-14e9fab9eaee",
   "metadata": {},
   "source": [
    "#### Load the data to local"
   ]
  },
  {
   "cell_type": "code",
   "execution_count": 8,
   "id": "f305e3ea-ac1c-45d9-85e7-9a967b43be3e",
   "metadata": {},
   "outputs": [],
   "source": [
    "# Load the data to local\n",
    "df.to_csv('data\\california_housing_dataset.csv', index=False)"
   ]
  },
  {
   "cell_type": "code",
   "execution_count": 9,
   "id": "9bd9fb7f-2222-4846-ac27-8438e031e3ca",
   "metadata": {},
   "outputs": [
    {
     "data": {
      "text/html": [
       "<div>\n",
       "<style scoped>\n",
       "    .dataframe tbody tr th:only-of-type {\n",
       "        vertical-align: middle;\n",
       "    }\n",
       "\n",
       "    .dataframe tbody tr th {\n",
       "        vertical-align: top;\n",
       "    }\n",
       "\n",
       "    .dataframe thead th {\n",
       "        text-align: right;\n",
       "    }\n",
       "</style>\n",
       "<table border=\"1\" class=\"dataframe\">\n",
       "  <thead>\n",
       "    <tr style=\"text-align: right;\">\n",
       "      <th></th>\n",
       "      <th>MedInc</th>\n",
       "      <th>HouseAge</th>\n",
       "      <th>AveRooms</th>\n",
       "      <th>AveBedrms</th>\n",
       "      <th>Population</th>\n",
       "      <th>AveOccup</th>\n",
       "      <th>Latitude</th>\n",
       "      <th>Longitude</th>\n",
       "      <th>MedianHouseValue</th>\n",
       "    </tr>\n",
       "  </thead>\n",
       "  <tbody>\n",
       "    <tr>\n",
       "      <th>0</th>\n",
       "      <td>8.3252</td>\n",
       "      <td>41.0</td>\n",
       "      <td>6.984127</td>\n",
       "      <td>1.023810</td>\n",
       "      <td>322.0</td>\n",
       "      <td>2.555556</td>\n",
       "      <td>37.88</td>\n",
       "      <td>-122.23</td>\n",
       "      <td>4.526</td>\n",
       "    </tr>\n",
       "    <tr>\n",
       "      <th>1</th>\n",
       "      <td>8.3014</td>\n",
       "      <td>21.0</td>\n",
       "      <td>6.238137</td>\n",
       "      <td>0.971880</td>\n",
       "      <td>2401.0</td>\n",
       "      <td>2.109842</td>\n",
       "      <td>37.86</td>\n",
       "      <td>-122.22</td>\n",
       "      <td>3.585</td>\n",
       "    </tr>\n",
       "    <tr>\n",
       "      <th>2</th>\n",
       "      <td>7.2574</td>\n",
       "      <td>52.0</td>\n",
       "      <td>8.288136</td>\n",
       "      <td>1.073446</td>\n",
       "      <td>496.0</td>\n",
       "      <td>2.802260</td>\n",
       "      <td>37.85</td>\n",
       "      <td>-122.24</td>\n",
       "      <td>3.521</td>\n",
       "    </tr>\n",
       "    <tr>\n",
       "      <th>3</th>\n",
       "      <td>5.6431</td>\n",
       "      <td>52.0</td>\n",
       "      <td>5.817352</td>\n",
       "      <td>1.073059</td>\n",
       "      <td>558.0</td>\n",
       "      <td>2.547945</td>\n",
       "      <td>37.85</td>\n",
       "      <td>-122.25</td>\n",
       "      <td>3.413</td>\n",
       "    </tr>\n",
       "    <tr>\n",
       "      <th>4</th>\n",
       "      <td>3.8462</td>\n",
       "      <td>52.0</td>\n",
       "      <td>6.281853</td>\n",
       "      <td>1.081081</td>\n",
       "      <td>565.0</td>\n",
       "      <td>2.181467</td>\n",
       "      <td>37.85</td>\n",
       "      <td>-122.25</td>\n",
       "      <td>3.422</td>\n",
       "    </tr>\n",
       "  </tbody>\n",
       "</table>\n",
       "</div>"
      ],
      "text/plain": [
       "   MedInc  HouseAge  AveRooms  AveBedrms  Population  AveOccup  Latitude  \\\n",
       "0  8.3252      41.0  6.984127   1.023810       322.0  2.555556     37.88   \n",
       "1  8.3014      21.0  6.238137   0.971880      2401.0  2.109842     37.86   \n",
       "2  7.2574      52.0  8.288136   1.073446       496.0  2.802260     37.85   \n",
       "3  5.6431      52.0  5.817352   1.073059       558.0  2.547945     37.85   \n",
       "4  3.8462      52.0  6.281853   1.081081       565.0  2.181467     37.85   \n",
       "\n",
       "   Longitude  MedianHouseValue  \n",
       "0    -122.23             4.526  \n",
       "1    -122.22             3.585  \n",
       "2    -122.24             3.521  \n",
       "3    -122.25             3.413  \n",
       "4    -122.25             3.422  "
      ]
     },
     "execution_count": 9,
     "metadata": {},
     "output_type": "execute_result"
    }
   ],
   "source": [
    "# Read the loaded data\n",
    "df = pd.read_csv('data\\california_housing_dataset.csv')\n",
    "df.head()"
   ]
  },
  {
   "cell_type": "markdown",
   "id": "dde54813-d083-46c2-bd49-196147d253d7",
   "metadata": {
    "tags": []
   },
   "source": [
    "# Exploratory Data Analysis"
   ]
  },
  {
   "cell_type": "markdown",
   "id": "e1b8d1de-5d13-42da-86e0-632ffac69c27",
   "metadata": {
    "tags": []
   },
   "source": [
    "## 1. Data Inspection and Descriptive Statistics"
   ]
  },
  {
   "cell_type": "markdown",
   "id": "9b86da2b-a552-46ee-a9b2-8aa0dcee48c2",
   "metadata": {},
   "source": [
    "**Dataset Information:**\n",
    "\n",
    "To get an overview of the DataFrame's structure and data types:"
   ]
  },
  {
   "cell_type": "code",
   "execution_count": 13,
   "id": "b36d823a-4d1c-4a65-bf4b-cae1173ae7eb",
   "metadata": {},
   "outputs": [
    {
     "name": "stdout",
     "output_type": "stream",
     "text": [
      "<class 'pandas.core.frame.DataFrame'>\n",
      "RangeIndex: 20640 entries, 0 to 20639\n",
      "Data columns (total 9 columns):\n",
      " #   Column            Non-Null Count  Dtype  \n",
      "---  ------            --------------  -----  \n",
      " 0   MedInc            20640 non-null  float64\n",
      " 1   HouseAge          20640 non-null  float64\n",
      " 2   AveRooms          20640 non-null  float64\n",
      " 3   AveBedrms         20640 non-null  float64\n",
      " 4   Population        20640 non-null  float64\n",
      " 5   AveOccup          20640 non-null  float64\n",
      " 6   Latitude          20640 non-null  float64\n",
      " 7   Longitude         20640 non-null  float64\n",
      " 8   MedianHouseValue  20640 non-null  float64\n",
      "dtypes: float64(9)\n",
      "memory usage: 1.4 MB\n"
     ]
    }
   ],
   "source": [
    "# Viewing the information about DataFrame including the data types and non-null values\n",
    "df.info()"
   ]
  },
  {
   "cell_type": "markdown",
   "id": "8477fd1b-b42a-4808-a4e4-2fef209d24a2",
   "metadata": {},
   "source": [
    "From this overview of the the DataFrame's structure and data types, we can identify the following:\n",
    "- **Size and Structure:** The dataset contains 20,640 entries, organized across 9 columns.\n",
    "- **Features and Target:** It includes 8 feature columns (such as `MedInc`, `HouseAge`, etc.) and 1 target column (`MedianHouseValue`).\n",
    "- **Data Type and Completeness:** All columns are of the `float64` data type and there are no missing values in the dataset."
   ]
  },
  {
   "cell_type": "markdown",
   "id": "f9613513-177c-4171-8654-b86c2335b4fe",
   "metadata": {},
   "source": [
    "**Descriptive Statistics:**\n",
    "\n",
    "Next, we will look at some descriptive statistics to understand the distribution of data."
   ]
  },
  {
   "cell_type": "code",
   "execution_count": 14,
   "id": "c25eb414-9f32-4ef4-beef-4229a2eb4f46",
   "metadata": {},
   "outputs": [
    {
     "data": {
      "text/html": [
       "<div>\n",
       "<style scoped>\n",
       "    .dataframe tbody tr th:only-of-type {\n",
       "        vertical-align: middle;\n",
       "    }\n",
       "\n",
       "    .dataframe tbody tr th {\n",
       "        vertical-align: top;\n",
       "    }\n",
       "\n",
       "    .dataframe thead th {\n",
       "        text-align: right;\n",
       "    }\n",
       "</style>\n",
       "<table border=\"1\" class=\"dataframe\">\n",
       "  <thead>\n",
       "    <tr style=\"text-align: right;\">\n",
       "      <th></th>\n",
       "      <th>MedInc</th>\n",
       "      <th>HouseAge</th>\n",
       "      <th>AveRooms</th>\n",
       "      <th>AveBedrms</th>\n",
       "      <th>Population</th>\n",
       "      <th>AveOccup</th>\n",
       "      <th>Latitude</th>\n",
       "      <th>Longitude</th>\n",
       "      <th>MedianHouseValue</th>\n",
       "    </tr>\n",
       "  </thead>\n",
       "  <tbody>\n",
       "    <tr>\n",
       "      <th>count</th>\n",
       "      <td>20640.000000</td>\n",
       "      <td>20640.000000</td>\n",
       "      <td>20640.000000</td>\n",
       "      <td>20640.000000</td>\n",
       "      <td>20640.000000</td>\n",
       "      <td>20640.000000</td>\n",
       "      <td>20640.000000</td>\n",
       "      <td>20640.000000</td>\n",
       "      <td>20640.000000</td>\n",
       "    </tr>\n",
       "    <tr>\n",
       "      <th>mean</th>\n",
       "      <td>3.870671</td>\n",
       "      <td>28.639486</td>\n",
       "      <td>5.429000</td>\n",
       "      <td>1.096675</td>\n",
       "      <td>1425.476744</td>\n",
       "      <td>3.070655</td>\n",
       "      <td>35.631861</td>\n",
       "      <td>-119.569704</td>\n",
       "      <td>2.068558</td>\n",
       "    </tr>\n",
       "    <tr>\n",
       "      <th>std</th>\n",
       "      <td>1.899822</td>\n",
       "      <td>12.585558</td>\n",
       "      <td>2.474173</td>\n",
       "      <td>0.473911</td>\n",
       "      <td>1132.462122</td>\n",
       "      <td>10.386050</td>\n",
       "      <td>2.135952</td>\n",
       "      <td>2.003532</td>\n",
       "      <td>1.153956</td>\n",
       "    </tr>\n",
       "    <tr>\n",
       "      <th>min</th>\n",
       "      <td>0.499900</td>\n",
       "      <td>1.000000</td>\n",
       "      <td>0.846154</td>\n",
       "      <td>0.333333</td>\n",
       "      <td>3.000000</td>\n",
       "      <td>0.692308</td>\n",
       "      <td>32.540000</td>\n",
       "      <td>-124.350000</td>\n",
       "      <td>0.149990</td>\n",
       "    </tr>\n",
       "    <tr>\n",
       "      <th>25%</th>\n",
       "      <td>2.563400</td>\n",
       "      <td>18.000000</td>\n",
       "      <td>4.440716</td>\n",
       "      <td>1.006079</td>\n",
       "      <td>787.000000</td>\n",
       "      <td>2.429741</td>\n",
       "      <td>33.930000</td>\n",
       "      <td>-121.800000</td>\n",
       "      <td>1.196000</td>\n",
       "    </tr>\n",
       "    <tr>\n",
       "      <th>50%</th>\n",
       "      <td>3.534800</td>\n",
       "      <td>29.000000</td>\n",
       "      <td>5.229129</td>\n",
       "      <td>1.048780</td>\n",
       "      <td>1166.000000</td>\n",
       "      <td>2.818116</td>\n",
       "      <td>34.260000</td>\n",
       "      <td>-118.490000</td>\n",
       "      <td>1.797000</td>\n",
       "    </tr>\n",
       "    <tr>\n",
       "      <th>75%</th>\n",
       "      <td>4.743250</td>\n",
       "      <td>37.000000</td>\n",
       "      <td>6.052381</td>\n",
       "      <td>1.099526</td>\n",
       "      <td>1725.000000</td>\n",
       "      <td>3.282261</td>\n",
       "      <td>37.710000</td>\n",
       "      <td>-118.010000</td>\n",
       "      <td>2.647250</td>\n",
       "    </tr>\n",
       "    <tr>\n",
       "      <th>max</th>\n",
       "      <td>15.000100</td>\n",
       "      <td>52.000000</td>\n",
       "      <td>141.909091</td>\n",
       "      <td>34.066667</td>\n",
       "      <td>35682.000000</td>\n",
       "      <td>1243.333333</td>\n",
       "      <td>41.950000</td>\n",
       "      <td>-114.310000</td>\n",
       "      <td>5.000010</td>\n",
       "    </tr>\n",
       "  </tbody>\n",
       "</table>\n",
       "</div>"
      ],
      "text/plain": [
       "             MedInc      HouseAge      AveRooms     AveBedrms    Population  \\\n",
       "count  20640.000000  20640.000000  20640.000000  20640.000000  20640.000000   \n",
       "mean       3.870671     28.639486      5.429000      1.096675   1425.476744   \n",
       "std        1.899822     12.585558      2.474173      0.473911   1132.462122   \n",
       "min        0.499900      1.000000      0.846154      0.333333      3.000000   \n",
       "25%        2.563400     18.000000      4.440716      1.006079    787.000000   \n",
       "50%        3.534800     29.000000      5.229129      1.048780   1166.000000   \n",
       "75%        4.743250     37.000000      6.052381      1.099526   1725.000000   \n",
       "max       15.000100     52.000000    141.909091     34.066667  35682.000000   \n",
       "\n",
       "           AveOccup      Latitude     Longitude  MedianHouseValue  \n",
       "count  20640.000000  20640.000000  20640.000000      20640.000000  \n",
       "mean       3.070655     35.631861   -119.569704          2.068558  \n",
       "std       10.386050      2.135952      2.003532          1.153956  \n",
       "min        0.692308     32.540000   -124.350000          0.149990  \n",
       "25%        2.429741     33.930000   -121.800000          1.196000  \n",
       "50%        2.818116     34.260000   -118.490000          1.797000  \n",
       "75%        3.282261     37.710000   -118.010000          2.647250  \n",
       "max     1243.333333     41.950000   -114.310000          5.000010  "
      ]
     },
     "execution_count": 14,
     "metadata": {},
     "output_type": "execute_result"
    }
   ],
   "source": [
    "# Displaying statistical summary of the DataFrame\n",
    "df.describe()"
   ]
  },
  {
   "cell_type": "markdown",
   "id": "168e4aab-003f-4d9c-8dde-ac4ad818c257",
   "metadata": {},
   "source": [
    "From the summary description, we observe: \n",
    "\n",
    "1. **MedInc (Median Income):**\n",
    "   - Ranges from 0.4999 to 15.0001.\n",
    "   - The average median income is about 3.87.\n",
    "   - Shows variation (std: 1.8998), indicating diverse income levels across districts.\n",
    "\n",
    "2. **HouseAge:**\n",
    "   - The ages of houses range from 1 to 52 years.\n",
    "   - The average house age is approximately 28.64 years.\n",
    "   - A standard deviation of 12.5855 suggests a wide range of house ages.\n",
    "\n",
    "3. **AveRooms (Average Rooms):**\n",
    "   - Varies dramatically from 0.846 to about 141.909, showing a wide disparity in room numbers.\n",
    "   - The average number of rooms per household is around 5.43.\n",
    "\n",
    "4. **AveBedrms (Average Bedrooms):**\n",
    "   - Ranges from 0.333 to 34.067.\n",
    "   - The average number of bedrooms is close to 1.1, with some variability (std: 0.4739).\n",
    "\n",
    "5. **Population:**\n",
    "   - The population count per block ranges widely from 3 to 35,682.\n",
    "   - Mean population is 1425.48, but the large standard deviation (1132.46) indicates significant differences in population size across districts.\n",
    "\n",
    "6. **AveOccup (Average Occupancy):**\n",
    "   - Shows how many people on average live in a household, ranging from 0.692 to 1243.33.\n",
    "   - The mean value is about 3.07, suggesting that on average, there are about 3 people per household.\n",
    "\n",
    "7. **Latitude and Longitude:**\n",
    "   - These columns represent the geographical location of the district.\n",
    "   - Latitude ranges from 32.54 to 41.95, and Longitude from -124.35 to -114.31, covering a broad area of California.\n",
    "\n",
    "8. **MedianHouseValue:**\n",
    "   - The target variable, representing house values, ranges from 0.14999 to 5.00001 (in hundreds of thousands of dollars).\n",
    "   - The average median house value is about 2.07, with a standard deviation of 1.15, indicating varying house prices across districts.\n",
    "\n",
    "This summary gives an overall picture of the data's distribution, central tendency, and variability, which are crucial for understanding the dataset before moving into further analysis or model building."
   ]
  },
  {
   "cell_type": "markdown",
   "id": "24fe6add-3cb9-42ce-a378-738a48f86ddb",
   "metadata": {
    "tags": []
   },
   "source": [
    "## 2. Data Visualization"
   ]
  },
  {
   "cell_type": "markdown",
   "id": "c71d8bbe-eeed-4917-9750-56514d479cf2",
   "metadata": {},
   "source": [
    "#### **Pairplot Visualization**\n",
    "\n",
    "Creating a pairplot helps visualize relationships between the target variable and features."
   ]
  },
  {
   "cell_type": "code",
   "execution_count": null,
   "id": "534a902e-0110-4eb0-9795-d42babeb3ecd",
   "metadata": {},
   "outputs": [],
   "source": [
    "# Note: A full pairplot of the entire dataset is possible, but it may be time-consuming due to the dataset's size.\n",
    "# Hence, focusing on visualizing relationships between 'MedianHouseValue' and other individual features.\n",
    "\n",
    "# sns.pairplot(df) "
   ]
  },
  {
   "cell_type": "code",
   "execution_count": 15,
   "id": "e33f44b6-29ca-40d8-aaf6-375e459094f4",
   "metadata": {},
   "outputs": [
    {
     "data": {
      "image/png": "[encoded data removed]",
      "text/plain": [
       "<Figure size 1440x180 with 8 Axes>"
      ]
     },
     "metadata": {},
     "output_type": "display_data"
    }
   ],
   "source": [
    "# Visualizing relationships between 'MedianHouseValue' and other features\n",
    "sns.set(style=\"ticks\", color_codes=True)\n",
    "sns.pairplot(df, y_vars=[\"MedianHouseValue\"], x_vars=california_dataset.feature_names)\n",
    "plt.show()"
   ]
  },
  {
   "cell_type": "markdown",
   "id": "31eff4ff-2e9d-4657-b61c-aa967448cffe",
   "metadata": {},
   "source": [
    "The pair plot provides a visual correlation between the median house value and various features, highlighting patterns and potential outliers across the dataset.\n",
    "\n",
    "1. **MedInc (Median Income) vs. MedianHouseValue:**\n",
    "   - There is a positive trend visible, indicating that as median income increases, median house values tend to increase as well. This suggests a possible strong correlation between these two variables.\n",
    "\n",
    "2. **HouseAge vs. MedianHouseValue:**\n",
    "   - The plot does not show a clear linear trend, suggesting that house age might not be a strong predictor of house values or the relationship might not be linear.\n",
    "\n",
    "3. **AveRooms (Average Rooms) vs. MedianHouseValue:**\n",
    "   - This plot shows some degree of positive correlation. However, there are outliers with an extremely high number of rooms that do not follow the general trend.\n",
    "\n",
    "4. **AveBedrms (Average Bedrooms) vs. MedianHouseValue:**\n",
    "   - Similar to AveRooms, there is a slight positive trend, but again with outliers that have a very high number of bedrooms, which seem to be driving the average up without a corresponding increase in house value.\n",
    "\n",
    "5. **Population vs. MedianHouseValue:**\n",
    "   - The plot doesn’t indicate a clear relationship between population and median house value, and the data points are quite spread out.\n",
    "\n",
    "6. **AveOccup (Average Occupancy) vs. MedianHouseValue:**\n",
    "   - There is a wide dispersion of data points, suggesting no clear linear relationship between average occupancy and house value. High occupancy rates do not seem to correspond to either higher or lower house values consistently.\n",
    "\n",
    "7. **Latitude vs. MedianHouseValue:**\n",
    "   - The plot shows a weak pattern, possibly indicating that location might have some impact on house values, but not a straightforward one.\n",
    "\n",
    "8. **Longitude vs. MedianHouseValue:**\n",
    "   - Similar to latitude, there is a weak pattern, suggesting some regional impact on house values, with no clear linear relationship.\n",
    "\n",
    "Overall, from this pair plot, we can infer that median income has a significant positive association with median house values, while the other features show less clear patterns and would benefit from further analysis, possibly controlling for outliers or considering non-linear relationships."
   ]
  },
  {
   "cell_type": "markdown",
   "id": "ede1d195-00a3-4a1b-98f6-2c59df678acc",
   "metadata": {},
   "source": [
    "#### **Correlation Analysis:**"
   ]
  },
  {
   "cell_type": "markdown",
   "id": "155e7074-8089-44b0-af20-3197241e7a5e",
   "metadata": {},
   "source": [
    "Understanding how features correlate with the target variable is crucial in linear regression."
   ]
  },
  {
   "cell_type": "markdown",
   "id": "fd0bd12d-38f3-4220-b629-b6a8b2052037",
   "metadata": {},
   "source": [
    "- **Correlation Matrix:**\n",
    "\n",
    "    We will examine the correlation between different features."
   ]
  },
  {
   "cell_type": "code",
   "execution_count": 5,
   "id": "0dbc9497-f33a-497a-9e05-ea17bcebbb9e",
   "metadata": {},
   "outputs": [
    {
     "data": {
      "text/html": [
       "<div>\n",
       "<style scoped>\n",
       "    .dataframe tbody tr th:only-of-type {\n",
       "        vertical-align: middle;\n",
       "    }\n",
       "\n",
       "    .dataframe tbody tr th {\n",
       "        vertical-align: top;\n",
       "    }\n",
       "\n",
       "    .dataframe thead th {\n",
       "        text-align: right;\n",
       "    }\n",
       "</style>\n",
       "<table border=\"1\" class=\"dataframe\">\n",
       "  <thead>\n",
       "    <tr style=\"text-align: right;\">\n",
       "      <th></th>\n",
       "      <th>MedInc</th>\n",
       "      <th>HouseAge</th>\n",
       "      <th>AveRooms</th>\n",
       "      <th>AveBedrms</th>\n",
       "      <th>Population</th>\n",
       "      <th>AveOccup</th>\n",
       "      <th>Latitude</th>\n",
       "      <th>Longitude</th>\n",
       "      <th>MedianHouseValue</th>\n",
       "    </tr>\n",
       "  </thead>\n",
       "  <tbody>\n",
       "    <tr>\n",
       "      <th>MedInc</th>\n",
       "      <td>1.000000</td>\n",
       "      <td>-0.119034</td>\n",
       "      <td>0.326895</td>\n",
       "      <td>-0.062040</td>\n",
       "      <td>0.004834</td>\n",
       "      <td>0.018766</td>\n",
       "      <td>-0.079809</td>\n",
       "      <td>-0.015176</td>\n",
       "      <td>0.688075</td>\n",
       "    </tr>\n",
       "    <tr>\n",
       "      <th>HouseAge</th>\n",
       "      <td>-0.119034</td>\n",
       "      <td>1.000000</td>\n",
       "      <td>-0.153277</td>\n",
       "      <td>-0.077747</td>\n",
       "      <td>-0.296244</td>\n",
       "      <td>0.013191</td>\n",
       "      <td>0.011173</td>\n",
       "      <td>-0.108197</td>\n",
       "      <td>0.105623</td>\n",
       "    </tr>\n",
       "    <tr>\n",
       "      <th>AveRooms</th>\n",
       "      <td>0.326895</td>\n",
       "      <td>-0.153277</td>\n",
       "      <td>1.000000</td>\n",
       "      <td>0.847621</td>\n",
       "      <td>-0.072213</td>\n",
       "      <td>-0.004852</td>\n",
       "      <td>0.106389</td>\n",
       "      <td>-0.027540</td>\n",
       "      <td>0.151948</td>\n",
       "    </tr>\n",
       "    <tr>\n",
       "      <th>AveBedrms</th>\n",
       "      <td>-0.062040</td>\n",
       "      <td>-0.077747</td>\n",
       "      <td>0.847621</td>\n",
       "      <td>1.000000</td>\n",
       "      <td>-0.066197</td>\n",
       "      <td>-0.006181</td>\n",
       "      <td>0.069721</td>\n",
       "      <td>0.013344</td>\n",
       "      <td>-0.046701</td>\n",
       "    </tr>\n",
       "    <tr>\n",
       "      <th>Population</th>\n",
       "      <td>0.004834</td>\n",
       "      <td>-0.296244</td>\n",
       "      <td>-0.072213</td>\n",
       "      <td>-0.066197</td>\n",
       "      <td>1.000000</td>\n",
       "      <td>0.069863</td>\n",
       "      <td>-0.108785</td>\n",
       "      <td>0.099773</td>\n",
       "      <td>-0.024650</td>\n",
       "    </tr>\n",
       "    <tr>\n",
       "      <th>AveOccup</th>\n",
       "      <td>0.018766</td>\n",
       "      <td>0.013191</td>\n",
       "      <td>-0.004852</td>\n",
       "      <td>-0.006181</td>\n",
       "      <td>0.069863</td>\n",
       "      <td>1.000000</td>\n",
       "      <td>0.002366</td>\n",
       "      <td>0.002476</td>\n",
       "      <td>-0.023737</td>\n",
       "    </tr>\n",
       "    <tr>\n",
       "      <th>Latitude</th>\n",
       "      <td>-0.079809</td>\n",
       "      <td>0.011173</td>\n",
       "      <td>0.106389</td>\n",
       "      <td>0.069721</td>\n",
       "      <td>-0.108785</td>\n",
       "      <td>0.002366</td>\n",
       "      <td>1.000000</td>\n",
       "      <td>-0.924664</td>\n",
       "      <td>-0.144160</td>\n",
       "    </tr>\n",
       "    <tr>\n",
       "      <th>Longitude</th>\n",
       "      <td>-0.015176</td>\n",
       "      <td>-0.108197</td>\n",
       "      <td>-0.027540</td>\n",
       "      <td>0.013344</td>\n",
       "      <td>0.099773</td>\n",
       "      <td>0.002476</td>\n",
       "      <td>-0.924664</td>\n",
       "      <td>1.000000</td>\n",
       "      <td>-0.045967</td>\n",
       "    </tr>\n",
       "    <tr>\n",
       "      <th>MedianHouseValue</th>\n",
       "      <td>0.688075</td>\n",
       "      <td>0.105623</td>\n",
       "      <td>0.151948</td>\n",
       "      <td>-0.046701</td>\n",
       "      <td>-0.024650</td>\n",
       "      <td>-0.023737</td>\n",
       "      <td>-0.144160</td>\n",
       "      <td>-0.045967</td>\n",
       "      <td>1.000000</td>\n",
       "    </tr>\n",
       "  </tbody>\n",
       "</table>\n",
       "</div>"
      ],
      "text/plain": [
       "                    MedInc  HouseAge  AveRooms  AveBedrms  Population  \\\n",
       "MedInc            1.000000 -0.119034  0.326895  -0.062040    0.004834   \n",
       "HouseAge         -0.119034  1.000000 -0.153277  -0.077747   -0.296244   \n",
       "AveRooms          0.326895 -0.153277  1.000000   0.847621   -0.072213   \n",
       "AveBedrms        -0.062040 -0.077747  0.847621   1.000000   -0.066197   \n",
       "Population        0.004834 -0.296244 -0.072213  -0.066197    1.000000   \n",
       "AveOccup          0.018766  0.013191 -0.004852  -0.006181    0.069863   \n",
       "Latitude         -0.079809  0.011173  0.106389   0.069721   -0.108785   \n",
       "Longitude        -0.015176 -0.108197 -0.027540   0.013344    0.099773   \n",
       "MedianHouseValue  0.688075  0.105623  0.151948  -0.046701   -0.024650   \n",
       "\n",
       "                  AveOccup  Latitude  Longitude  MedianHouseValue  \n",
       "MedInc            0.018766 -0.079809  -0.015176          0.688075  \n",
       "HouseAge          0.013191  0.011173  -0.108197          0.105623  \n",
       "AveRooms         -0.004852  0.106389  -0.027540          0.151948  \n",
       "AveBedrms        -0.006181  0.069721   0.013344         -0.046701  \n",
       "Population        0.069863 -0.108785   0.099773         -0.024650  \n",
       "AveOccup          1.000000  0.002366   0.002476         -0.023737  \n",
       "Latitude          0.002366  1.000000  -0.924664         -0.144160  \n",
       "Longitude         0.002476 -0.924664   1.000000         -0.045967  \n",
       "MedianHouseValue -0.023737 -0.144160  -0.045967          1.000000  "
      ]
     },
     "execution_count": 5,
     "metadata": {},
     "output_type": "execute_result"
    }
   ],
   "source": [
    "# Calculating and displaying the correlation matrix\n",
    "corr_matrix = df.corr()\n",
    "corr_matrix"
   ]
  },
  {
   "cell_type": "markdown",
   "id": "bde04e31-bf43-4331-93b7-652877b29830",
   "metadata": {},
   "source": [
    "- **Function Overview:**\n",
    "  - The `corr()` method calculates pairwise correlations between columns, excluding any missing values.\n",
    "\n",
    "- **Correlation Values:**\n",
    "  - The correlation coefficient ranges from -1 to 1.\n",
    "    - **Positive Correlation (Close to 1):** Indicates a strong positive relationship, where an increase in one feature generally results in an increase in another.\n",
    "    - **Negative Correlation (Close to -1):** Suggests a strong negative relationship, with an increase in one feature generally leading to a decrease in another.\n",
    "    - **Near Zero (Close to 0):** Implies a very weak or no linear relationship between the features. As one feature changes, there is no consistent pattern of increase or decrease in the other."
   ]
  },
  {
   "cell_type": "markdown",
   "id": "bbf06397-f933-4b49-aa93-f19ab5def36b",
   "metadata": {},
   "source": [
    "- **Heatmap Visualization:**\n",
    "\n",
    "  For a more visual representation of correlation matrix, we use a heatmap."
   ]
  },
  {
   "cell_type": "code",
   "execution_count": 13,
   "id": "7193fa11-1694-4e81-863d-e59e37ad1575",
   "metadata": {},
   "outputs": [
    {
     "data": {
      "image/png": "[encoded data removed]",
      "text/plain": [
       "<Figure size 720x576 with 2 Axes>"
      ]
     },
     "metadata": {
      "needs_background": "light"
     },
     "output_type": "display_data"
    }
   ],
   "source": [
    "# Displaying a heatmap of correlations\n",
    "plt.figure(figsize=(10,8))\n",
    "sns.heatmap(corr_matrix, annot=True, cmap='coolwarm', fmt=\".2f\")\n",
    "plt.show()"
   ]
  },
  {
   "cell_type": "markdown",
   "id": "80ac95c6-5c22-4f73-816b-15422bf2a76e",
   "metadata": {},
   "source": [
    "A heatmap visualizes the correlation matrix, providing a color-coded representation of feature correlations. Positive correlations are represented with warmer colors, while negative correlations are represented with cooler colors."
   ]
  },
  {
   "cell_type": "markdown",
   "id": "814050dc-97ca-4007-9fe1-a9f4f6e91b5d",
   "metadata": {},
   "source": [
    "Based on the correlation heatmap analysis, we observe the following key points:\n",
    "\n",
    "- **Median Income (MedInc)** has a strong positive correlation (0.688) with the **Median House Value**, suggesting it's a good predictor for our linear regression model.\n",
    "\n",
    "- **House Age** has a weak positive correlation with the **Median House Value** (0.106), indicating it may not be as strong a predictor.\n",
    "\n",
    "- **Average Rooms (AveRooms)** and **Average Bedrooms (AveBedrms)** are highly correlated with each other (0.847), indicating potential multicollinearity. This suggests that including both of these features in a linear regression model may not be advisable because they provide redundant information.\n",
    "\n",
    "- **Latitude** and **Longitude** show a very high negative correlation (-0.925), which is another instance of multicollinearity. It would be prudent to use only one of these features to avoid multicollinearity issues in the regression model. It's important to note that as geographic coordinates, they might not be directly useful for predicting house values unless transformed into more meaningful location-based features\n",
    "\n",
    "- The other features (**Population**, **Average Occupancy (AveOccup)**) have very low correlation with the **Median House Value**, suggesting they might not be significant predictors on their own.\n",
    "\n",
    "Given these observations:\n",
    "\n",
    "- **Multicollinearity:** The high correlation between some predictors means that multicollinearity is present, which can affect the interpretability and the coefficients of a linear regression model. Techniques like Principal Component Analysis (PCA) or regularization methods (like Ridge or Lasso regression) might be used to address multicollinearity.\n",
    "  \n",
    "- **Implementing Linear Regression:** While proceeding with linear regression, it would be wise to consider feature selection to minimize multicollinearity. This could involve choosing between **AveRooms** and **AveBedrms**, and between **Latitude** and **Longitude**, rather than including all of them in the model. Additionally, since **MedInc** has a strong positive correlation with the target, it should definitely be included in the model as a predictor."
   ]
  },
  {
   "cell_type": "markdown",
   "id": "bc86618c-0c33-45e8-8799-135c4e445220",
   "metadata": {
    "tags": []
   },
   "source": [
    "# I. Simple Linear Regression"
   ]
  },
  {
   "cell_type": "markdown",
   "id": "f8702fba-2c41-4244-aba1-9da3a6963718",
   "metadata": {},
   "source": [
    "In this section, we simplify our task by focusing on single-variable linear regression, using `Median Income `as the only feature to predict the `Median House Value`."
   ]
  },
  {
   "cell_type": "markdown",
   "id": "2030c20b-8534-4484-bfe0-0b73e9af859a",
   "metadata": {
    "jp-MarkdownHeadingCollapsed": true,
    "tags": []
   },
   "source": [
    "## 1. Separate Target and Feature"
   ]
  },
  {
   "cell_type": "markdown",
   "id": "1f201d6b-388d-44f3-aea2-5b777c0bad76",
   "metadata": {},
   "source": [
    "To build our simple linear regression model, we will focus solely on the `MedInc` feature due to its high correlation with the target `MedianHouseValue`. Begin by separating the dataset into features (X) and the target variable (y). Then, extract the MedInc feature from the dataset for the regression model."
   ]
  },
  {
   "cell_type": "code",
   "execution_count": 21,
   "id": "e4c35df2-a25a-41bc-a21d-7990b7899a04",
   "metadata": {},
   "outputs": [],
   "source": [
    "# Selecting 'Median Income' as our feature and 'Median House Value' as our target\n",
    "X = df[['MedInc']]\n",
    "y = df['MedianHouseValue']"
   ]
  },
  {
   "cell_type": "markdown",
   "id": "f7c107be-4b13-4172-b3c0-70059bed8543",
   "metadata": {
    "tags": []
   },
   "source": [
    "## 2. Splitting the Dataset"
   ]
  },
  {
   "cell_type": "markdown",
   "id": "330e69cd-bcd5-4fcd-8edb-f643e3649fa9",
   "metadata": {},
   "source": [
    "We then split our data into a training set and a testing set, using 80% of the data for training and 20% for testing to assess the model's performance."
   ]
  },
  {
   "cell_type": "code",
   "execution_count": 22,
   "id": "f0759340-5baf-48d4-b6be-9447a21f3ae1",
   "metadata": {},
   "outputs": [],
   "source": [
    "# Splitting the dataset into training and testing sets with a 80/20 split\n",
    "X_train, X_test, y_train, y_test = train_test_split(X, y, test_size=0.2, random_state=0)"
   ]
  },
  {
   "cell_type": "markdown",
   "id": "91cdb999-e200-437b-9a93-c79047ec2c70",
   "metadata": {},
   "source": [
    "**Note :** The `random_state` is set for **reproducibility of results**. \n",
    "    \n",
    "    The `random_state` parameter is crucial for ensuring consistent results across different runs. By setting it to a specific number (like 0 or 42), we ensure that the data shuffling prior to the split is identical each time the code is executed, thus guaranteeing that the same data is used for training and testing, which is essential for the reproducibility of the model's performance."
   ]
  },
  {
   "cell_type": "markdown",
   "id": "13b3984b-dccf-4e10-a29d-800d0b92d342",
   "metadata": {
    "tags": []
   },
   "source": [
    "## 1. Create and Train our Model"
   ]
  },
  {
   "cell_type": "markdown",
   "id": "4067cd63-7634-45f5-80e1-12b3328b68c1",
   "metadata": {},
   "source": [
    "We create a linear regression model instance and fit it to our training data."
   ]
  },
  {
   "cell_type": "code",
   "execution_count": 23,
   "id": "a1661be6-cf20-4ac4-8e1d-4f0136cd2f28",
   "metadata": {},
   "outputs": [
    {
     "data": {
      "text/plain": [
       "LinearRegression()"
      ]
     },
     "execution_count": 23,
     "metadata": {},
     "output_type": "execute_result"
    }
   ],
   "source": [
    "# Creating and training the linear regression model\n",
    "model = LinearRegression()\n",
    "model.fit(X_train, y_train)"
   ]
  },
  {
   "cell_type": "markdown",
   "id": "9cd71243-8583-461f-84bc-c05f7b4ccc46",
   "metadata": {},
   "source": [
    "Fitting the model involves finding the best line that approximates the relationship between the feature and the target variable. \n",
    "\n",
    "The linear regression model will have the form:\n",
    "\n",
    "$$\n",
    "\\text{MedianHouseValue} = \\beta_0 + \\beta_1 \\times \\text{MedInc} + \\epsilon\n",
    "$$\n",
    "\n",
    "where:\n",
    "- $\\beta_0$ is the y-intercept of the regression line.\n",
    "- $\\beta_1$ is the slope, representing how much the median house value is expected to increase for each unit increase in median income.\n",
    "- $\\epsilon$ is the residual error, representing the difference between the observed and predicted values.\n",
    "\n",
    "The β0 and β1 are learned from the data by the model."
   ]
  },
  {
   "cell_type": "markdown",
   "id": "d7b6f6e9-e219-42fa-937f-be957e978aa2",
   "metadata": {
    "jp-MarkdownHeadingCollapsed": true,
    "tags": []
   },
   "source": [
    "## 3. Interpreting Model's Coefficients"
   ]
  },
  {
   "cell_type": "markdown",
   "id": "0e28cc86-8c2f-481b-8dfa-7545c5267d63",
   "metadata": {},
   "source": [
    "The intercept and coefficient determined by the model are:"
   ]
  },
  {
   "cell_type": "code",
   "execution_count": 24,
   "id": "2d730e85-3cbc-476a-bcb6-1325a2043773",
   "metadata": {},
   "outputs": [
    {
     "name": "stdout",
     "output_type": "stream",
     "text": [
      "Intercept of the model: 0.4432\n",
      "Coefficient for MedInc: 0.4203\n"
     ]
    }
   ],
   "source": [
    "# Intercept (β0)\n",
    "print(f'Intercept of the model: {model.intercept_:.4f}')\n",
    "\n",
    "# Coefficient (β1) for 'MedInc'\n",
    "print(f'Coefficient for MedInc: {model.coef_[0]:.4f}')"
   ]
  },
  {
   "cell_type": "markdown",
   "id": "9a09ed14-f867-4e42-810a-c9472c3088f9",
   "metadata": {},
   "source": [
    "- The intercept is the estimated median house value when median income is zero. \n",
    "\n",
    "- The coefficient is how much the median house value is expected to increase with each one-unit increase in median income.\n",
    "\n",
    "For example, if our model's coefficient for `Median Income` is 0.4, this means that for each unit increase in median income, we expect the median house value to increase by 0.4 units.\n",
    "\n",
    "**Note :** It's important to note that this interpretation assumes that the relationship between `Median Income` and `Median House Value` is linear, which may not always be the case in real-world data. Other factors that are not included in our model could also influence the house value."
   ]
  },
  {
   "cell_type": "markdown",
   "id": "8b6dc66e-5461-4a21-854f-27beecbbd5cf",
   "metadata": {
    "jp-MarkdownHeadingCollapsed": true,
    "tags": []
   },
   "source": [
    "## 4. Make Predictions Using the Test Set"
   ]
  },
  {
   "cell_type": "markdown",
   "id": "d148cdc6-4d79-45c0-bce8-6e0b75a09140",
   "metadata": {},
   "source": [
    "Using the trained model to predict median house values based on the testing set:"
   ]
  },
  {
   "cell_type": "code",
   "execution_count": 30,
   "id": "8b814763-32e6-47d2-9f90-2cdad0698368",
   "metadata": {},
   "outputs": [
    {
     "data": {
      "text/plain": [
       "array([2.18829831, 2.87249809, 2.27105966, ..., 1.78937091, 3.02549522,\n",
       "       1.84397071])"
      ]
     },
     "execution_count": 30,
     "metadata": {},
     "output_type": "execute_result"
    }
   ],
   "source": [
    "# Predicting the median house values for the test set\n",
    "y_pred = model.predict(X_test)\n",
    "y_pred"
   ]
  },
  {
   "cell_type": "markdown",
   "id": "ba8f8de5-105d-49f5-a326-143d14cb01eb",
   "metadata": {},
   "source": [
    "These predictions are based on the linear relationship the model has learned during the training phase."
   ]
  },
  {
   "cell_type": "markdown",
   "id": "83c5025b-acd5-4143-8479-893966d01953",
   "metadata": {},
   "source": [
    "#### Example of Calculating Predictions"
   ]
  },
  {
   "cell_type": "markdown",
   "id": "8b945334-c877-4ba0-a474-bd1036939415",
   "metadata": {},
   "source": [
    "To demonstrate the prediction capability of our trained linear regression model, let's apply it to a specific example from our test set. We'll use a real value of median income from the `X_test` dataset to predict the median house value.\n",
    "\n",
    "First, we take a peek at the head of the `X_test` dataset to select a value:"
   ]
  },
  {
   "cell_type": "code",
   "execution_count": 31,
   "id": "e71985de-c5c3-4c8c-9762-b1b3d16b4f1e",
   "metadata": {},
   "outputs": [
    {
     "data": {
      "text/html": [
       "<div>\n",
       "<style scoped>\n",
       "    .dataframe tbody tr th:only-of-type {\n",
       "        vertical-align: middle;\n",
       "    }\n",
       "\n",
       "    .dataframe tbody tr th {\n",
       "        vertical-align: top;\n",
       "    }\n",
       "\n",
       "    .dataframe thead th {\n",
       "        text-align: right;\n",
       "    }\n",
       "</style>\n",
       "<table border=\"1\" class=\"dataframe\">\n",
       "  <thead>\n",
       "    <tr style=\"text-align: right;\">\n",
       "      <th></th>\n",
       "      <th>MedInc</th>\n",
       "    </tr>\n",
       "  </thead>\n",
       "  <tbody>\n",
       "    <tr>\n",
       "      <th>14740</th>\n",
       "      <td>4.1518</td>\n",
       "    </tr>\n",
       "    <tr>\n",
       "      <th>10101</th>\n",
       "      <td>5.7796</td>\n",
       "    </tr>\n",
       "    <tr>\n",
       "      <th>20566</th>\n",
       "      <td>4.3487</td>\n",
       "    </tr>\n",
       "    <tr>\n",
       "      <th>2670</th>\n",
       "      <td>2.4511</td>\n",
       "    </tr>\n",
       "    <tr>\n",
       "      <th>15709</th>\n",
       "      <td>5.0049</td>\n",
       "    </tr>\n",
       "  </tbody>\n",
       "</table>\n",
       "</div>"
      ],
      "text/plain": [
       "       MedInc\n",
       "14740  4.1518\n",
       "10101  5.7796\n",
       "20566  4.3487\n",
       "2670   2.4511\n",
       "15709  5.0049"
      ]
     },
     "execution_count": 31,
     "metadata": {},
     "output_type": "execute_result"
    }
   ],
   "source": [
    "# Displaying the first few entries in the test set to select a value for prediction\n",
    "X_test.head()"
   ]
  },
  {
   "cell_type": "markdown",
   "id": "0521128e-f4a7-49c9-aba0-2019205e68cf",
   "metadata": {},
   "source": [
    "For the purpose of this example, let's select the first entry in our test set, which has an index of `14740`."
   ]
  },
  {
   "cell_type": "code",
   "execution_count": 32,
   "id": "e30994a4-b7a0-4906-bfbe-7c39f86420f4",
   "metadata": {},
   "outputs": [
    {
     "name": "stdout",
     "output_type": "stream",
     "text": [
      "Selected median income for prediction: MedInc    4.1518\n",
      "Name: 14740, dtype: float64\n"
     ]
    }
   ],
   "source": [
    "# Selecting the median income value from the test set for our prediction example\n",
    "median_income_example = X_test.loc[14740]\n",
    "print(f\"Selected median income for prediction: {median_income_example}\")"
   ]
  },
  {
   "cell_type": "markdown",
   "id": "8a131619-2da4-49b3-ac1c-1d1c66ca91be",
   "metadata": {},
   "source": [
    "Now, using the intercept and coefficient learned from our model, we can make a prediction:"
   ]
  },
  {
   "cell_type": "code",
   "execution_count": 33,
   "id": "8353cb62-38fa-4e60-a2ab-e3b5d9248ba4",
   "metadata": {},
   "outputs": [
    {
     "name": "stdout",
     "output_type": "stream",
     "text": [
      "The predicted median house value for a median income of 4.1518 is: 2.1882983059811636\n"
     ]
    }
   ],
   "source": [
    "# Retrieving the intercept and coefficient from the trained model\n",
    "intercept = model.intercept_\n",
    "coefficient = model.coef_[0]\n",
    "\n",
    "# Accessing the median income value for prediction\n",
    "median_income_example = X_test.loc[14740].values[0]\n",
    "\n",
    "# Making a prediction for the median house value using the model's intercept and coefficient\n",
    "predicted_value = intercept + (coefficient * median_income_example)\n",
    "print(f\"The predicted median house value for a median income of {median_income_example} is: {predicted_value}\")"
   ]
  },
  {
   "cell_type": "markdown",
   "id": "0d793ddf-dae0-4838-883c-c568f01bb9d8",
   "metadata": {},
   "source": [
    "Compare this predicted value with the actual one from our model:"
   ]
  },
  {
   "cell_type": "code",
   "execution_count": 34,
   "id": "c154e65c-ab0f-44f7-b094-da525af0b4f2",
   "metadata": {},
   "outputs": [
    {
     "name": "stdout",
     "output_type": "stream",
     "text": [
      "Actual model's predicted value: 2.1882983059811636\n"
     ]
    }
   ],
   "source": [
    "# The actual predicted value from our model for the first entry in the test set\n",
    "actual_predicted_value = y_pred[0]\n",
    "print(f\"Actual model's predicted value: {actual_predicted_value}\")"
   ]
  },
  {
   "cell_type": "markdown",
   "id": "3874e359-d734-4d8e-a894-554fcc4f4ec1",
   "metadata": {},
   "source": [
    "This demonstrates that we obtain a matching result, illustrating how predictions are derived from the parameters learned by the model."
   ]
  },
  {
   "cell_type": "markdown",
   "id": "bb1e253a-9a29-47de-9e64-f42f24e2b67b",
   "metadata": {
    "jp-MarkdownHeadingCollapsed": true,
    "tags": []
   },
   "source": [
    "## 5. Evaluate the Model"
   ]
  },
  {
   "cell_type": "markdown",
   "id": "91ba737c-86be-4186-a81c-cb670cf9d272",
   "metadata": {},
   "source": [
    "We evaluate the model using the Mean Squared Error (MSE) and R² score:"
   ]
  },
  {
   "cell_type": "code",
   "execution_count": 26,
   "id": "362e77eb-740b-4e1f-bb2c-83c2926d63fb",
   "metadata": {},
   "outputs": [
    {
     "name": "stdout",
     "output_type": "stream",
     "text": [
      "MSE: 0.72, R²: 0.45\n"
     ]
    }
   ],
   "source": [
    "# Calculating the performance metrics for the model\n",
    "mse = mean_squared_error(y_test, y_pred)\n",
    "r2 = r2_score(y_test, y_pred)\n",
    "print(f'MSE: {mse:.2f}, R²: {r2:.2f}')"
   ]
  },
  {
   "cell_type": "markdown",
   "id": "b4470f07-4156-4643-b50d-219fb90ffd90",
   "metadata": {},
   "source": [
    "- MSE measures the average squared difference between actual and predicted values. \n",
    "    **The smaller the MSE, the better our model.**\n",
    "\n",
    "- R² indicates the proportion of variance in the dependent variable that is predictable from the independent variable. \n",
    "    **The closer the R² score is to 1, the better our model.**"
   ]
  },
  {
   "cell_type": "markdown",
   "id": "86684a77-f45d-4792-9cba-75d968b1ff5f",
   "metadata": {},
   "source": [
    "For our model:\n",
    "- The MSE of 0.72 suggests a moderate average deviation of the predictions from the actual values.\n",
    "- An R² of 0.45 indicates that the model explains 45% of the variance in the target variable, suggesting a moderate fit to the data."
   ]
  },
  {
   "cell_type": "markdown",
   "id": "d1ea4992-22aa-4e5e-b474-532da6fa8199",
   "metadata": {
    "jp-MarkdownHeadingCollapsed": true,
    "tags": []
   },
   "source": [
    "## 6. Visualize the Model"
   ]
  },
  {
   "cell_type": "markdown",
   "id": "b88ed0d0-d76a-4510-a6ed-f11f563dce92",
   "metadata": {},
   "source": [
    "Finally, we visualize the relationship between the test data and our model's predictions:"
   ]
  },
  {
   "cell_type": "code",
   "execution_count": 29,
   "id": "7ff7468e-ad99-402e-aa16-5fa4d5bf955a",
   "metadata": {},
   "outputs": [
    {
     "data": {
      "image/png": "[encoded data removed]",
      "text/plain": [
       "<Figure size 720x432 with 1 Axes>"
      ]
     },
     "metadata": {},
     "output_type": "display_data"
    }
   ],
   "source": [
    "# Visualizing the actual values vs. the predicted values\n",
    "plt.figure(figsize=(10, 6))\n",
    "plt.scatter(X_test, y_test, color='blue', label='Actual')\n",
    "plt.plot(X_test.values.ravel(), y_pred, color='red', linewidth=2, label='Predicted')\n",
    "plt.xlabel('Median Income (scaled)')\n",
    "plt.ylabel('Median House Value (scaled)')\n",
    "plt.title('Simple Linear Regression Model Fit')\n",
    "plt.legend()\n",
    "plt.show()"
   ]
  },
  {
   "cell_type": "markdown",
   "id": "b71e2268-2d09-4186-84b9-9766c3d2287b",
   "metadata": {},
   "source": [
    "The scatter plot shows the actual values, while the line represents our model's predictions. This visualization helps in understanding how well the model fits the test data.\n",
    "\n",
    "**Note:** This simple model serves as a starting point. In practice, more complex models, feature engineering, and data preprocessing steps would likely be necessary to build an effective predictive model.\n",
    "\n",
    "---"
   ]
  },
  {
   "cell_type": "markdown",
   "id": "797695ba-235a-420f-b968-b6ceca8d8a55",
   "metadata": {
    "tags": []
   },
   "source": [
    "# II. Multiple linear Regression"
   ]
  },
  {
   "cell_type": "markdown",
   "id": "941cd366-d52d-409a-8a62-51ec1b698cc1",
   "metadata": {},
   "source": [
    "In multiple linear regression, the goal is to predict a target variable by using two or more features. Unlike simple linear regression, which uses only one predictor, multiple linear regression can capture the relationship between the target and several independent variables.\n",
    "\n",
    "Before building the model, it's important to get the data ready. This is especially true when you have several predictors, as scaling the data is key for the linear regression model to work well."
   ]
  },
  {
   "cell_type": "markdown",
   "id": "ef48866f-5c2c-434d-a052-14c451d62a2e",
   "metadata": {
    "tags": []
   },
   "source": [
    "## 1. Data Preprocessing "
   ]
  },
  {
   "cell_type": "markdown",
   "id": "849d9c5d-6310-43cc-8333-53a6e4ad0514",
   "metadata": {
    "jp-MarkdownHeadingCollapsed": true,
    "tags": []
   },
   "source": [
    "### a. Feature Selection"
   ]
  },
  {
   "cell_type": "markdown",
   "id": "70e544bb-6cca-460b-9cf3-b2a4249635a4",
   "metadata": {},
   "source": [
    "After examining the correlation between features and the target variable, we decide to include more predictors in addition to 'Median Income' to better capture the complexities in predicting 'Median House Value'. We'll use a set of features that showed significant correlations without multicollinearity concerns.\n",
    "\n",
    "Based on the analysis and consideration to avoid multicollinearity:\n",
    "\n",
    "- **Selected Features:** 'MedInc', 'AveRooms', 'HouseAge'\n",
    "- **Dropped Features:** 'AveBedrms', 'Population', 'AveOccup', 'Latitude', 'Longitude' \n",
    "\n",
    "The reason to drop 'Population' and 'AveOccup' is due to their low correlation with the target variable, which implies they might not provide significant predictive power."
   ]
  },
  {
   "cell_type": "code",
   "execution_count": 76,
   "id": "6e272f0b-ef4e-4a4d-9cdc-bb03225eab07",
   "metadata": {},
   "outputs": [],
   "source": [
    "# Manually selected features\n",
    "selected_features = ['MedInc', 'AveRooms', 'HouseAge']\n",
    "\n",
    "# DataFrame with selected features for regression model\n",
    "X = df[selected_features]\n",
    "\n",
    "# Target variable for the model\n",
    "y = df['MedianHouseValue']"
   ]
  },
  {
   "cell_type": "markdown",
   "id": "f5f82fce-a061-447b-ae75-3c143ee964b2",
   "metadata": {
    "jp-MarkdownHeadingCollapsed": true,
    "tags": []
   },
   "source": [
    "### b. Splitting the Dataset"
   ]
  },
  {
   "cell_type": "code",
   "execution_count": 36,
   "id": "5cf16e71-738e-4ced-ac71-2f47d2aa1cdd",
   "metadata": {},
   "outputs": [
    {
     "name": "stdout",
     "output_type": "stream",
     "text": [
      "Training set shape: (16512, 1) (16512,)\n",
      "Testing set shape: (4128, 1) (4128,)\n"
     ]
    }
   ],
   "source": [
    "# Splitting the dataset into training (80%) and testing (20%) sets with a random seed for reproducibility\n",
    "X_train, X_test, y_train, y_test = train_test_split(X, y, test_size=0.2, random_state=23)\n",
    "\n",
    "# Printing the shapes of the resulting sets\n",
    "print(\"Training set shape:\", X_train.shape, y_train.shape)\n",
    "print(\"Testing set shape:\", X_test.shape, y_test.shape)"
   ]
  },
  {
   "cell_type": "markdown",
   "id": "6c16b4d1-a6a8-4116-873c-b14820aa35a1",
   "metadata": {
    "tags": []
   },
   "source": [
    "### c. Feature Scaling"
   ]
  },
  {
   "cell_type": "markdown",
   "id": "6a93ff19-9c50-442b-bbf1-7495f0e48d14",
   "metadata": {},
   "source": [
    "**Feature Scaling: An Introduction**\n",
    "\n",
    "Feature scaling is an essential data preprocessing step when working with machine learning algorithms. It aims to normalize the range of independent variables or features of the data. In simpler terms, it's about getting different variables to be on similar scales so no particular variable dominates others when feeding data to the model.\n",
    "\n",
    "There are mainly two types of feature scaling: \n",
    " \n",
    "1. **Normalization (Min-Max Scaling):** This method scales the features such that they have values between 0 and 1.\n",
    "\n",
    "$$X_{norm} = \\frac{X - X_{min}}{X_{max} - X_{min}}$$\n",
    "\n",
    "2. **Standardization (Z-score normalization):** This method scales the features such that they have a mean of 0 and a standard deviation of 1.\n",
    "\n",
    "$$X_{standard} = \\frac{X - \\mu}{\\sigma}$$\n",
    "\n",
    "Where:\n",
    "- $X$ is the original feature vector\n",
    "- $\\mu$ is the mean of the feature vector\n",
    "- $\\sigma$ is its standard deviation\n",
    "\n",
    "In multiple linear regression, feature scaling is important because it standardizes the range of independent variables or features of data. Since the scale of the variables might differ significantly, unscaled data can potentially result in a biased or invalid model. A feature with a broad range of values can dominate the model and make the model unable to learn from other features correctly.\n",
    "\n",
    "- **Note:** Remember that the scaling should be done after any train-test split to ensure that the test data remains unseen and is not influenced by the training process."
   ]
  },
  {
   "cell_type": "code",
   "execution_count": 79,
   "id": "dcd17bf7-2890-4268-9979-cff8924576f3",
   "metadata": {},
   "outputs": [],
   "source": [
    "# Initialize the StandardScaler\n",
    "scaler = StandardScaler()\n",
    "\n",
    "# Fit the scaler on the training data\n",
    "scaler.fit(X_train)\n",
    "\n",
    "# Transform both the training and testing data\n",
    "X_train_scaled = scaler.transform(X_train)\n",
    "X_test_scaled = scaler.transform(X_test)\n",
    "\n",
    "# Now, X_train_scaled and X_test_scaled are the scaled versions of the training and testing sets, respectively"
   ]
  },
  {
   "cell_type": "markdown",
   "id": "72dabf72-091e-4d77-b5e6-fe0668aa5488",
   "metadata": {},
   "source": [
    "After this code, `X_train_scaled` and `X_test_scaled` are arrays containing the scaled values of your features. It's important to note that `fit` should only be called on `X_train` to prevent information leakage from the test set into the model training process. The same scaling parameters are then used to transform `X_test`.\n",
    "\n",
    "Once you have scaled your data using StandardScaler from sklearn.preprocessing, you can transform the resulting NumPy arrays back into pandas DataFrames. This can be useful if you want to retain the DataFrame format for easier manipulation and indexing. "
   ]
  },
  {
   "cell_type": "code",
   "execution_count": 80,
   "id": "12eb3dbc-a423-4835-974e-807716875947",
   "metadata": {},
   "outputs": [
    {
     "name": "stdout",
     "output_type": "stream",
     "text": [
      "Scaled training DataFrame shape: (16512, 3)\n",
      "Scaled testing DataFrame shape: (4128, 3)\n"
     ]
    }
   ],
   "source": [
    "# Convert the scaled arrays back into DataFrames\n",
    "X_train_scaled_df = pd.DataFrame(X_train_scaled, columns=X_train.columns, index=X_train.index)\n",
    "X_test_scaled_df = pd.DataFrame(X_test_scaled, columns=X_test.columns, index=X_test.index)\n",
    "\n",
    "# Display the shapes to confirm they're still the same\n",
    "print(\"Scaled training DataFrame shape:\", X_train_scaled_df.shape)\n",
    "print(\"Scaled testing DataFrame shape:\", X_test_scaled_df.shape)"
   ]
  },
  {
   "cell_type": "markdown",
   "id": "060b2250-4b50-4677-8b5c-03f1a6de9324",
   "metadata": {
    "tags": []
   },
   "source": [
    "## 2. Building the Multiple Linear Regression Model"
   ]
  },
  {
   "cell_type": "markdown",
   "id": "d8194441-3137-48c6-b513-35fac85fef20",
   "metadata": {},
   "source": [
    "To build a Multiple Linear Regression model using `scikit-learn`, We first create an instance of the `LinearRegression` class and fit it to our scaled training data along with the corresponding target values (`y_train`)."
   ]
  },
  {
   "cell_type": "code",
   "execution_count": 82,
   "id": "e2ed4edd-389b-47b5-81a1-01c70cd3eb87",
   "metadata": {},
   "outputs": [
    {
     "data": {
      "text/plain": [
       "LinearRegression()"
      ]
     },
     "execution_count": 82,
     "metadata": {},
     "output_type": "execute_result"
    }
   ],
   "source": [
    "# Initialize the Multiple Linear Regression model\n",
    "linear_regression_model = LinearRegression()\n",
    "\n",
    "# Train the model on the training data\n",
    "linear_regression_model.fit(X_train_scaled_df, y_train)"
   ]
  },
  {
   "cell_type": "markdown",
   "id": "554387ce-9aab-44ca-90f9-d8c036589d6d",
   "metadata": {},
   "source": [
    "The mathematical representation of the learned model can be expressed as:\n",
    "\n",
    "$$\n",
    "\\text{MedianHouseValue} = \\beta_0 + \\beta_1 \\times \\text{MedInc} + \\beta_2 \\times \\text{AveRooms} + \\beta_3 \\times \\text{HouseAge} + \\epsilon$$\n",
    "\n",
    "Each β represents the coefficient for its corresponding feature, and ϵ is the error term."
   ]
  },
  {
   "cell_type": "markdown",
   "id": "7d706907-1893-47a1-bbe6-bca9abdedbc3",
   "metadata": {
    "jp-MarkdownHeadingCollapsed": true,
    "tags": []
   },
   "source": [
    "## 3. Interpretation of Results"
   ]
  },
  {
   "cell_type": "code",
   "execution_count": 86,
   "id": "6378f135-ddb5-49d6-8b9d-b9f74339dd90",
   "metadata": {},
   "outputs": [
    {
     "name": "stdout",
     "output_type": "stream",
     "text": [
      "Coefficients in the regression model:\n",
      "\n",
      "          Coefficient  Absolute_Value\n",
      "MedInc       0.844375        0.844375\n",
      "HouseAge     0.207161        0.207161\n",
      "AveRooms    -0.085825        0.085825\n",
      "\n",
      "Interpretation of the coefficients:\n",
      "\n",
      "MedInc: A one-standard-deviation increase in 'MedInc' is associated with a 0.8444 increase in the target variable.\n",
      "HouseAge: A one-standard-deviation increase in 'HouseAge' is associated with a 0.2072 increase in the target variable.\n",
      "AveRooms: A one-standard-deviation increase in 'AveRooms' is associated with a -0.0858 decrease in the target variable.\n"
     ]
    }
   ],
   "source": [
    "# Retrieve the coefficients and pair them with feature names\n",
    "coefficients = pd.DataFrame(linear_regression_model.coef_, X_train.columns, columns=['Coefficient'])\n",
    "\n",
    "# Sort the coefficients by their absolute values in descending order for better comparison\n",
    "coefficients['Absolute_Value'] = coefficients['Coefficient'].abs()\n",
    "sorted_coefficients = coefficients.sort_values('Absolute_Value', ascending=False)\n",
    "\n",
    "# Display the coefficients\n",
    "print(\"Coefficients in the regression model:\\n\")\n",
    "print(sorted_coefficients)\n",
    "\n",
    "# Interpret the coefficients\n",
    "print(\"\\nInterpretation of the coefficients:\\n\")\n",
    "for feature, row in sorted_coefficients.iterrows():\n",
    "    print(f\"{feature}: A one-standard-deviation increase in '{feature}' is associated with a {row['Coefficient']:.4f} {'increase' if row['Coefficient'] > 0 else 'decrease'} in the target variable.\")"
   ]
  },
  {
   "cell_type": "markdown",
   "id": "a677db1f-417b-4793-aa2e-634cb6964a57",
   "metadata": {},
   "source": [
    "- **Coefficient sign:**\n",
    "The sign of a coefficient indicates the direction of the relationship between a predictor variable and the target variable. A positive coefficient means that there is a positive association – as the predictor variable increases by one standard deviation, the target variable is also expected to increase, holding all other variables constant. Conversely, a negative coefficient indicates a negative association – as the predictor variable increases by one standard deviation, the target variable is expected to decrease, again holding other variables constant.\n",
    "\n",
    "In this case:\n",
    "- A positive `MedInc` coefficient means that as median income (`MedInc`) increases, the median house value is expected to increase.\n",
    "- A positive `HouseAge` coefficient suggests that as the age of the house (`HouseAge`) increases, the median house value is also expected to increase.\n",
    "- A negative `AveRooms` coefficient indicates that as the average number of rooms per dwelling (`AveRooms`) increases, the median house value is expected to decrease."
   ]
  },
  {
   "cell_type": "markdown",
   "id": "3da754ce-23f9-4640-bdb4-567802f9f7c8",
   "metadata": {},
   "source": [
    "\n",
    "\n",
    "- **Coefficient magnitude:**\n",
    "\n",
    "The magnitude of a coefficient signifies the strength of the impact of the corresponding predictor on the target variable. Larger magnitudes mean a stronger effect, and smaller magnitudes mean a weaker effect.\n",
    "\n",
    "From the provided coefficients:\n",
    "- `MedInc` has the largest coefficient with an absolute value of 0.8444, indicating that median income is the most influential factor on median house value among the three features considered. An increase in median income is associated with a substantial increase in median house value.\n",
    "- `HouseAge` has a smaller positive coefficient of 0.2072, suggesting that while there is a positive association with median house value, the impact of house age is less significant than median income.\n",
    "- `AveRooms` has the smallest absolute value of the coefficient (-0.0858), indicating that it has the least influence on median house value compared to `MedInc` and `HouseAge`. Interestingly, this influence is in the negative direction, meaning that an increase in the average number of rooms per dwelling is associated with a slight decrease in median house value, which could suggest that beyond a certain point, larger dwellings (potentially indicating lower density or possibly higher maintenance costs) are not valued as much in the market represented by the dataset."
   ]
  },
  {
   "cell_type": "markdown",
   "id": "349249a4-68b1-4ac2-97f1-c29adf386130",
   "metadata": {},
   "source": [
    "In conclusion, median income (`MedInc`) is the most significant predictor of median house value, followed by the age of the house (`HouseAge`), with the number of average rooms (`AveRooms`) having a lesser and negative impact. These interpretations must be considered in the context of the housing market and may be subject to additional factors not captured by the model."
   ]
  },
  {
   "cell_type": "markdown",
   "id": "c2f4e5f1-90af-44d1-b9f0-dfb8cb743a17",
   "metadata": {
    "tags": []
   },
   "source": [
    "## 4. Model Evaluation"
   ]
  },
  {
   "cell_type": "code",
   "execution_count": 84,
   "id": "2fb394cd-853f-463e-a6d8-3001d5a59e16",
   "metadata": {},
   "outputs": [
    {
     "name": "stdout",
     "output_type": "stream",
     "text": [
      "Metric                    Training Set    Test Set       \n",
      "---------------------------------------------------------\n",
      "R-squared                 0.51            0.52           \n",
      "Mean Absolute Error       0.60            0.61           \n",
      "Root Mean Squared Error   0.81            0.81           \n",
      "\n",
      "Model Performance Analysis:\n",
      "Good: The model's performance is consistent across training and test sets, indicating generalization.\n"
     ]
    }
   ],
   "source": [
    "# Predicting on training data\n",
    "y_train_pred = linear_regression_model.predict(X_train_scaled_df)\n",
    "\n",
    "# Predicting on test data\n",
    "y_test_pred = linear_regression_model.predict(X_test_scaled_df)\n",
    "\n",
    "# Calculate R-squared for both sets\n",
    "r2_train = r2_score(y_train, y_train_pred)\n",
    "r2_test = r2_score(y_test, y_test_pred)\n",
    "\n",
    "# Calculate Mean Absolute Error for both sets\n",
    "mae_train = mean_absolute_error(y_train, y_train_pred)\n",
    "mae_test = mean_absolute_error(y_test, y_test_pred)\n",
    "\n",
    "# Calculate Mean Squared Error for both sets\n",
    "mse_train = mean_squared_error(y_train, y_train_pred)\n",
    "mse_test = mean_squared_error(y_test, y_test_pred)\n",
    "\n",
    "# Calculate Root Mean Squared Error for both sets\n",
    "rmse_train = np.sqrt(mse_train)\n",
    "rmse_test = np.sqrt(mse_test)\n",
    "\n",
    "# Printing the Results\n",
    "metrics = [\n",
    "    ('R-squared', r2_train, r2_test),\n",
    "    ('Mean Absolute Error', mae_train, mae_test),\n",
    "    ('Root Mean Squared Error', rmse_train, rmse_test)\n",
    "]\n",
    "\n",
    "# Create a header\n",
    "header = f\"{'Metric':<25} {'Training Set':<15} {'Test Set':<15}\"\n",
    "print(header)\n",
    "print('-' * len(header))\n",
    "\n",
    "# Print each metric for both training and test sets\n",
    "for name, train_metric, test_metric in metrics:\n",
    "    print(f\"{name:<25} {train_metric:<15.2f} {test_metric:<15.2f}\")\n",
    "\n",
    "print(\"\\nModel Performance Analysis:\")\n",
    "if r2_train > r2_test and rmse_train < rmse_test:\n",
    "    print(\"Caution: The model may be overfitting to the training data.\")\n",
    "else:\n",
    "    print(\"Good: The model's performance is consistent across training and test sets, indicating generalization.\")"
   ]
  },
  {
   "cell_type": "markdown",
   "id": "a5d5aa80-bc72-4a84-867c-1681bfc61003",
   "metadata": {},
   "source": [
    "- **Result Interpretation:**\n",
    "    - **R-squared**: The R-squared values for both the training and test sets are quite close, 0.51 and 0.52, respectively. This suggests that the model explains a similar proportion of the variance in the target variable for both sets, which is a good indicator of the model's consistency.\n",
    "\n",
    "    - **Mean Absolute Error (MAE)**: The MAE is also very similar between the training and test sets, 0.60 and 0.61, respectively. This shows that the model has, on average, a similar error margin for both training and test predictions.\n",
    "\n",
    "    - **Root Mean Squared Error (RMSE)**: The RMSE is equal for both sets, 0.81. This indicates the model’s predictions are off by the same margin of the standard deviation of the errors over both datasets.\n",
    "\n",
    "\n",
    "In summary, the metrics indicate that the model performs similarly on both the training and test sets, suggesting good generalization. There's no significant discrepancy that would indicate overfitting, which is when a model performs much better on the training data than on the test data. \n",
    "\n",
    "However, depending on the context, an R-squared of around 0.5 might be considered low, suggesting that the model does not explain as much of the variability in the dependent variable as one might like. It's worth considering whether model complexity needs to be increased or if additional relevant features are necessary to capture more of the variance."
   ]
  },
  {
   "cell_type": "markdown",
   "id": "b3a98188-61ad-434d-b26e-e3e687cf87e2",
   "metadata": {},
   "source": [
    "- **Notes :**\n",
    "\n",
    "In multiple regression, we cannot visualize the regression line as we did in simple linear regression, because we are now in a higher-dimensional space. However, we could visualize the relationship between the target and each individual feature.\n",
    "\n",
    "Remember that multiple linear regression assumes that there is a **linear relationship between the features and the target variable**, and that the **features are not highly correlated with each other**. If these assumptions are violated, the model's predictions may be inaccurate. **Always make sure to check these assumptions when using multiple linear regression**."
   ]
  }
 ],
 "metadata": {
  "kernelspec": {
   "display_name": "Python 3 (ipykernel)",
   "language": "python",
   "name": "python3"
  },
  "language_info": {
   "codemirror_mode": {
    "name": "ipython",
    "version": 3
   },
   "file_extension": ".py",
   "mimetype": "text/x-python",
   "name": "python",
   "nbconvert_exporter": "python",
   "pygments_lexer": "ipython3",
   "version": "3.9.12"
  }
 },
 "nbformat": 4,
 "nbformat_minor": 5
}
