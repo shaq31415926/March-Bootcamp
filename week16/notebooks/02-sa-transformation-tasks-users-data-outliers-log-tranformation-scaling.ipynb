{
 "cells": [
  {
   "cell_type": "markdown",
   "id": "f9e13fa4-8c0b-46a4-bd65-ca46e5f95476",
   "metadata": {},
   "source": [
    "# Transformation Tasks\n",
    "\n",
    "This notebook focuses on essential data transformation tasks to ensure data quality and prepare it for further analysis. We will cover the following:\n",
    "\n",
    "- **Identifying and Handling Outliers:**\n",
    "    - Calculate upper and lower bounds to detect outliers.\n",
    "    - Identify and remove outliers from the dataset.\n",
    "- **Log Transformation:**\n",
    "    - Transform skewed data to reduce skewness and improve normality.\n",
    "- **Data Scaling to Prepare Data for Further Analysis:**\n",
    "    - Normalization: Scale data to a range of [0, 1].\n",
    "    - Standardization: Scale data to have a mean of 0 and a standard deviation of 1.\n",
    "\n",
    "These steps are crucial for preprocessing data in the ETL (Extract, Transform, Load) process, ensuring that the data is ready for analysis and modeling."
   ]
  },
  {
   "cell_type": "markdown",
   "id": "7b5e37cd-1aae-436a-9dc6-7e632b5d6f31",
   "metadata": {},
   "source": [
    "## Import the necessary libraries"
   ]
  },
  {
   "cell_type": "code",
   "execution_count": 1,
   "id": "ea5f7b13-74ea-487d-8de5-80ef2c5e334f",
   "metadata": {},
   "outputs": [],
   "source": [
    "import pandas as pd\n",
    "import numpy as np\n",
    "import matplotlib.pyplot as plt\n",
    "import seaborn as sns\n",
    "\n",
    "from sklearn.preprocessing import MinMaxScaler, StandardScaler # For Data Scaling: Normalisation and Standardization"
   ]
  },
  {
   "cell_type": "code",
   "execution_count": null,
   "id": "1b56be30-d38a-4bfa-8431-5586a6197c7d",
   "metadata": {},
   "outputs": [],
   "source": [
    "funct_nmae(inputs)"
   ]
  },
  {
   "cell_type": "markdown",
   "id": "79a1fc71-60f4-4224-9f2e-9cd42501ff84",
   "metadata": {},
   "source": [
    "## Load the users_data_final dataset"
   ]
  },
  {
   "cell_type": "markdown",
   "id": "c72bc0a8-b46e-43d9-a645-6bff2849a0b3",
   "metadata": {},
   "source": [
    "- Read the `users_data_final.pkl` file and store it as the variable `users_data`."
   ]
  },
  {
   "cell_type": "code",
   "execution_count": 2,
   "id": "db2c317e-ec4f-4f75-9632-9c26d25e7dcb",
   "metadata": {},
   "outputs": [
    {
     "data": {
      "text/html": [
       "<div>\n",
       "<style scoped>\n",
       "    .dataframe tbody tr th:only-of-type {\n",
       "        vertical-align: middle;\n",
       "    }\n",
       "\n",
       "    .dataframe tbody tr th {\n",
       "        vertical-align: top;\n",
       "    }\n",
       "\n",
       "    .dataframe thead th {\n",
       "        text-align: right;\n",
       "    }\n",
       "</style>\n",
       "<table border=\"1\" class=\"dataframe\">\n",
       "  <thead>\n",
       "    <tr style=\"text-align: right;\">\n",
       "      <th></th>\n",
       "      <th>user_id</th>\n",
       "      <th>number_transactions</th>\n",
       "      <th>total_amount_usd</th>\n",
       "      <th>age</th>\n",
       "      <th>job</th>\n",
       "      <th>marital</th>\n",
       "      <th>education</th>\n",
       "      <th>default</th>\n",
       "      <th>housing</th>\n",
       "      <th>loan</th>\n",
       "      <th>contact</th>\n",
       "      <th>duration</th>\n",
       "      <th>campaign</th>\n",
       "      <th>pdays</th>\n",
       "      <th>previous</th>\n",
       "      <th>poutcome</th>\n",
       "      <th>term_deposit</th>\n",
       "      <th>date_joined</th>\n",
       "      <th>device</th>\n",
       "    </tr>\n",
       "  </thead>\n",
       "  <tbody>\n",
       "    <tr>\n",
       "      <th>0</th>\n",
       "      <td>9231c446-cb16-4b2b-a7f7-ddfc8b25aaf6</td>\n",
       "      <td>3.0</td>\n",
       "      <td>2143.0</td>\n",
       "      <td>58</td>\n",
       "      <td>management</td>\n",
       "      <td>married</td>\n",
       "      <td>tertiary</td>\n",
       "      <td>False</td>\n",
       "      <td>True</td>\n",
       "      <td>False</td>\n",
       "      <td>None</td>\n",
       "      <td>261</td>\n",
       "      <td>1</td>\n",
       "      <td>-1</td>\n",
       "      <td>0</td>\n",
       "      <td>None</td>\n",
       "      <td>False</td>\n",
       "      <td>1998-08-23</td>\n",
       "      <td>mobile</td>\n",
       "    </tr>\n",
       "    <tr>\n",
       "      <th>1</th>\n",
       "      <td>bb92765a-08de-4963-b432-496524b39157</td>\n",
       "      <td>NaN</td>\n",
       "      <td>NaN</td>\n",
       "      <td>44</td>\n",
       "      <td>technician</td>\n",
       "      <td>single</td>\n",
       "      <td>secondary</td>\n",
       "      <td>False</td>\n",
       "      <td>True</td>\n",
       "      <td>False</td>\n",
       "      <td>None</td>\n",
       "      <td>151</td>\n",
       "      <td>1</td>\n",
       "      <td>-1</td>\n",
       "      <td>0</td>\n",
       "      <td>None</td>\n",
       "      <td>False</td>\n",
       "      <td>2008-07-15</td>\n",
       "      <td>desktop</td>\n",
       "    </tr>\n",
       "  </tbody>\n",
       "</table>\n",
       "</div>"
      ],
      "text/plain": [
       "                                user_id  number_transactions  \\\n",
       "0  9231c446-cb16-4b2b-a7f7-ddfc8b25aaf6                  3.0   \n",
       "1  bb92765a-08de-4963-b432-496524b39157                  NaN   \n",
       "\n",
       "   total_amount_usd  age         job  marital  education  default  housing  \\\n",
       "0            2143.0   58  management  married   tertiary    False     True   \n",
       "1               NaN   44  technician   single  secondary    False     True   \n",
       "\n",
       "    loan contact  duration  campaign  pdays  previous poutcome  term_deposit  \\\n",
       "0  False    None       261         1     -1         0     None         False   \n",
       "1  False    None       151         1     -1         0     None         False   \n",
       "\n",
       "  date_joined   device  \n",
       "0  1998-08-23   mobile  \n",
       "1  2008-07-15  desktop  "
      ]
     },
     "execution_count": 2,
     "metadata": {},
     "output_type": "execute_result"
    }
   ],
   "source": [
    "users_data = pd.read_pickle(\"users_data_final.pkl\")\n",
    "users_data.head(2)"
   ]
  },
  {
   "cell_type": "markdown",
   "id": "3bad9ce8-47b9-4190-9d00-0b2c5ec7f1bf",
   "metadata": {},
   "source": [
    "## Identifying and handling Outliers"
   ]
  },
  {
   "cell_type": "markdown",
   "id": "f26fde26-e1c1-4ec7-80b1-f5d0f028ff10",
   "metadata": {},
   "source": [
    "- Check the distribution of the `number_transactions` variable"
   ]
  },
  {
   "cell_type": "code",
   "execution_count": 9,
   "id": "fcd6fc6b-dcd5-46ce-a122-134e703e8c6b",
   "metadata": {},
   "outputs": [
    {
     "data": {
      "image/png": "[encoded data removed]",
      "text/plain": [
       "<Figure size 432x288 with 1 Axes>"
      ]
     },
     "metadata": {
      "needs_background": "light"
     },
     "output_type": "display_data"
    }
   ],
   "source": [
    "users_data.number_transactions.hist()\n",
    "plt.title(\"Distribution of the number_transactions variable\")\n",
    "plt.show()"
   ]
  },
  {
   "cell_type": "markdown",
   "id": "ba6f59b7-4e9e-4707-93d9-d5e0be16f314",
   "metadata": {},
   "source": [
    "=> This hisogram will help us understand if the data is normal or skewed"
   ]
  },
  {
   "cell_type": "code",
   "execution_count": 31,
   "id": "808c8184-8bae-4232-8ebc-8636cd6f0253",
   "metadata": {},
   "outputs": [
    {
     "data": {
      "image/png": "[encoded data removed]",
      "text/plain": [
       "<Figure size 432x288 with 1 Axes>"
      ]
     },
     "metadata": {
      "needs_background": "light"
     },
     "output_type": "display_data"
    }
   ],
   "source": [
    "sns.histplot(users_data['number_transactions'], bins=10, kde=True)\n",
    "plt.title('Distribution of Number of Transactions')\n",
    "plt.show()"
   ]
  },
  {
   "cell_type": "code",
   "execution_count": 11,
   "id": "4c57ec03-e6e4-40fe-ba08-2c4760238d27",
   "metadata": {},
   "outputs": [],
   "source": [
    "# Is it normal or skewed?"
   ]
  },
  {
   "cell_type": "markdown",
   "id": "1cfbbb5a-7b51-479c-ad04-69efc456cc0f",
   "metadata": {},
   "source": [
    "- Calculate the outliers for the variable `number_transactions`"
   ]
  },
  {
   "cell_type": "code",
   "execution_count": 15,
   "id": "5813f8c0-4b46-4789-a32a-6787a260b5ec",
   "metadata": {},
   "outputs": [
    {
     "data": {
      "image/png": "[encoded data removed]",
      "text/plain": [
       "<Figure size 432x288 with 1 Axes>"
      ]
     },
     "metadata": {
      "needs_background": "light"
     },
     "output_type": "display_data"
    }
   ],
   "source": [
    "# check the visualisation to see if outliers exist\n",
    "sns.boxplot(x = users_data.number_transactions)\n",
    "plt.title('Boxplot of number_transactions')\n",
    "plt.show()"
   ]
  },
  {
   "cell_type": "code",
   "execution_count": 14,
   "id": "7cc9248c-9e56-44a0-8d05-f1591cedf6ee",
   "metadata": {},
   "outputs": [
    {
     "name": "stdout",
     "output_type": "stream",
     "text": [
      "The lower bound is: -1.0\n",
      "The upper bound is: 7.0\n"
     ]
    }
   ],
   "source": [
    "# Calculation the first and Third Quartile\n",
    "Q1 = users_data['number_transactions'].quantile(0.25)\n",
    "Q3 = users_data['number_transactions'].quantile(0.75)\n",
    "\n",
    "# Clacluate the IterQuartil\n",
    "IQR = Q3 - Q1\n",
    "\n",
    "# Calculate the Lower Bound\n",
    "Lower_Bound = Q1 - 1.5 * IQR\n",
    "\n",
    "# Calculate the Upper Bound\n",
    "Upper_Bound = Q3 + 1.5 * IQR\n",
    "\n",
    "print(\"The lower bound is:\", Lower_Bound)\n",
    "print(\"The upper bound is:\", Upper_Bound)"
   ]
  },
  {
   "cell_type": "markdown",
   "id": "8126dec6-405d-4240-aeb5-3c55ad0afb39",
   "metadata": {},
   "source": [
    "### Identify potential outliers data "
   ]
  },
  {
   "cell_type": "code",
   "execution_count": 17,
   "id": "2d821ed7-33a3-4b2b-94b2-3fabe0a062bc",
   "metadata": {},
   "outputs": [
    {
     "name": "stdout",
     "output_type": "stream",
     "text": [
      "Outliers for number_transactions variable are Values below -1.0 and above 7.0\n"
     ]
    }
   ],
   "source": [
    "print(f\"Outliers for number_transactions variable are Values below {Lower_Bound} and above {Upper_Bound}\")"
   ]
  },
  {
   "cell_type": "markdown",
   "id": "a3f1156a-a651-455c-ad1a-0a6ee9508248",
   "metadata": {
    "tags": []
   },
   "source": [
    "#### Activity: Can you create a definition that will calculate the upper and lower bound for any skewed variable?"
   ]
  },
  {
   "cell_type": "code",
   "execution_count": 54,
   "id": "6b32dfac-a75d-4dd2-ac4d-c7b2a199f526",
   "metadata": {},
   "outputs": [],
   "source": [
    "def identify_upper_and_lower_bound(data, variable):\n",
    "    Q1 = data[variable].quantile(0.25)\n",
    "    Q3 = data[variable].quantile(0.75)\n",
    "    IQR = Q3 - Q1\n",
    "    Lower_Bound = Q1 - 1.5 * IQR\n",
    "    Upper_Bound = Q3 + 1.5 * IQR\n",
    "    return Lower_Bound, Upper_Bound"
   ]
  },
  {
   "cell_type": "code",
   "execution_count": 55,
   "id": "a1d87a7a-41ca-451a-8f2e-d987e34437ee",
   "metadata": {},
   "outputs": [
    {
     "name": "stdout",
     "output_type": "stream",
     "text": [
      "The lower bound is: -1.0\n",
      "The upper bound is: 7.0\n"
     ]
    }
   ],
   "source": [
    "# Example usage:\n",
    "Lower_Bound_nt, Upper_Bound_nt = identify_upper_and_lower_bound(users_data, 'number_transactions')\n",
    "print(\"The lower bound is:\", Lower_Bound_nt)\n",
    "print(\"The upper bound is:\", Upper_Bound_nt)"
   ]
  },
  {
   "cell_type": "markdown",
   "id": "b13c0ad4-6471-417d-96a7-2efa8ae425cb",
   "metadata": {},
   "source": [
    "=> This function can be reused for any variable in your dataset"
   ]
  },
  {
   "cell_type": "markdown",
   "id": "ebf91824-6563-47ef-bfd4-e4a5b02f68fa",
   "metadata": {
    "tags": []
   },
   "source": [
    "#### Activity: Identify and remove outliers from number_transactions in `user_data_final.pkl`"
   ]
  },
  {
   "cell_type": "markdown",
   "id": "91a19edf-0c76-42f2-aead-27c12630f069",
   "metadata": {},
   "source": [
    "- How many values are above the Upper Bound?"
   ]
  },
  {
   "cell_type": "code",
   "execution_count": 56,
   "id": "4546a38f-ccea-4654-9f08-079be2d3746d",
   "metadata": {},
   "outputs": [
    {
     "data": {
      "text/plain": [
       "3716"
      ]
     },
     "execution_count": 56,
     "metadata": {},
     "output_type": "execute_result"
    }
   ],
   "source": [
    "upper_outliers = users_data[users_data['number_transactions'] > Upper_Bound_nt]\n",
    "len(upper_outliers)\n",
    "# 3716 cases"
   ]
  },
  {
   "cell_type": "markdown",
   "id": "d29229d3-0e51-4e4b-ae71-8ece8b00540d",
   "metadata": {},
   "source": [
    "- How many values are below the Lower Bound?"
   ]
  },
  {
   "cell_type": "code",
   "execution_count": 22,
   "id": "0de59fd7-6c55-407c-b62c-5b888fb5bd77",
   "metadata": {},
   "outputs": [
    {
     "data": {
      "text/plain": [
       "0"
      ]
     },
     "execution_count": 22,
     "metadata": {},
     "output_type": "execute_result"
    }
   ],
   "source": [
    "lower_outliers = users_data[users_data['number_transactions'] < Lower_Bound_nt]\n",
    "len(lower_outliers)\n",
    "# 0 cases"
   ]
  },
  {
   "cell_type": "markdown",
   "id": "afda9fd6-348b-42cc-beba-72b48ad97e41",
   "metadata": {},
   "source": [
    "- (Optional) Remove all cases of `number_transactions` that have been identified as outliers, and store this as variable `users_data_transformed`"
   ]
  },
  {
   "cell_type": "code",
   "execution_count": 24,
   "id": "52756dc8-22e6-4f65-be3b-ad25aab582a5",
   "metadata": {},
   "outputs": [],
   "source": [
    "users_data_transformed = users_data[(users_data['number_transactions'] >= Lower_Bound) & \n",
    "                                    (users_data['number_transactions'] <= Upper_Bound)]"
   ]
  },
  {
   "cell_type": "code",
   "execution_count": 25,
   "id": "50d43edf-772f-4ac5-a55b-8f944a0b703d",
   "metadata": {},
   "outputs": [
    {
     "data": {
      "text/plain": [
       "(31494, 19)"
      ]
     },
     "execution_count": 25,
     "metadata": {},
     "output_type": "execute_result"
    }
   ],
   "source": [
    "users_data_transformed.shape"
   ]
  },
  {
   "cell_type": "markdown",
   "id": "3c006832-346d-4a66-a695-44dd9b1dc017",
   "metadata": {
    "jp-MarkdownHeadingCollapsed": true,
    "tags": []
   },
   "source": [
    "## Log-Transformation\n",
    "\n",
    "#### OPTIONAL Activity: Use Log-Transformation to transform a skewed variable"
   ]
  },
  {
   "cell_type": "code",
   "execution_count": 26,
   "id": "061cafa8-f7c8-4d71-9c76-964c42a98f47",
   "metadata": {},
   "outputs": [
    {
     "data": {
      "text/html": [
       "<div>\n",
       "<style scoped>\n",
       "    .dataframe tbody tr th:only-of-type {\n",
       "        vertical-align: middle;\n",
       "    }\n",
       "\n",
       "    .dataframe tbody tr th {\n",
       "        vertical-align: top;\n",
       "    }\n",
       "\n",
       "    .dataframe thead th {\n",
       "        text-align: right;\n",
       "    }\n",
       "</style>\n",
       "<table border=\"1\" class=\"dataframe\">\n",
       "  <thead>\n",
       "    <tr style=\"text-align: right;\">\n",
       "      <th></th>\n",
       "      <th>user_id</th>\n",
       "      <th>number_transactions</th>\n",
       "      <th>total_amount_usd</th>\n",
       "      <th>age</th>\n",
       "      <th>job</th>\n",
       "      <th>marital</th>\n",
       "      <th>education</th>\n",
       "      <th>default</th>\n",
       "      <th>housing</th>\n",
       "      <th>loan</th>\n",
       "      <th>contact</th>\n",
       "      <th>duration</th>\n",
       "      <th>campaign</th>\n",
       "      <th>pdays</th>\n",
       "      <th>previous</th>\n",
       "      <th>poutcome</th>\n",
       "      <th>term_deposit</th>\n",
       "      <th>date_joined</th>\n",
       "      <th>device</th>\n",
       "      <th>log_number_transactions</th>\n",
       "    </tr>\n",
       "  </thead>\n",
       "  <tbody>\n",
       "    <tr>\n",
       "      <th>0</th>\n",
       "      <td>9231c446-cb16-4b2b-a7f7-ddfc8b25aaf6</td>\n",
       "      <td>3.0</td>\n",
       "      <td>2143.0</td>\n",
       "      <td>58</td>\n",
       "      <td>management</td>\n",
       "      <td>married</td>\n",
       "      <td>tertiary</td>\n",
       "      <td>False</td>\n",
       "      <td>True</td>\n",
       "      <td>False</td>\n",
       "      <td>None</td>\n",
       "      <td>261</td>\n",
       "      <td>1</td>\n",
       "      <td>-1</td>\n",
       "      <td>0</td>\n",
       "      <td>None</td>\n",
       "      <td>False</td>\n",
       "      <td>1998-08-23</td>\n",
       "      <td>mobile</td>\n",
       "      <td>1.386294</td>\n",
       "    </tr>\n",
       "    <tr>\n",
       "      <th>1</th>\n",
       "      <td>bb92765a-08de-4963-b432-496524b39157</td>\n",
       "      <td>NaN</td>\n",
       "      <td>NaN</td>\n",
       "      <td>44</td>\n",
       "      <td>technician</td>\n",
       "      <td>single</td>\n",
       "      <td>secondary</td>\n",
       "      <td>False</td>\n",
       "      <td>True</td>\n",
       "      <td>False</td>\n",
       "      <td>None</td>\n",
       "      <td>151</td>\n",
       "      <td>1</td>\n",
       "      <td>-1</td>\n",
       "      <td>0</td>\n",
       "      <td>None</td>\n",
       "      <td>False</td>\n",
       "      <td>2008-07-15</td>\n",
       "      <td>desktop</td>\n",
       "      <td>NaN</td>\n",
       "    </tr>\n",
       "    <tr>\n",
       "      <th>2</th>\n",
       "      <td>573de577-49ef-42b9-83da-d3cfb817b5c1</td>\n",
       "      <td>2.0</td>\n",
       "      <td>2.0</td>\n",
       "      <td>33</td>\n",
       "      <td>entrepreneur</td>\n",
       "      <td>married</td>\n",
       "      <td>secondary</td>\n",
       "      <td>False</td>\n",
       "      <td>True</td>\n",
       "      <td>True</td>\n",
       "      <td>None</td>\n",
       "      <td>76</td>\n",
       "      <td>1</td>\n",
       "      <td>-1</td>\n",
       "      <td>0</td>\n",
       "      <td>None</td>\n",
       "      <td>False</td>\n",
       "      <td>2002-06-04</td>\n",
       "      <td>mobile</td>\n",
       "      <td>1.098612</td>\n",
       "    </tr>\n",
       "  </tbody>\n",
       "</table>\n",
       "</div>"
      ],
      "text/plain": [
       "                                user_id  number_transactions  \\\n",
       "0  9231c446-cb16-4b2b-a7f7-ddfc8b25aaf6                  3.0   \n",
       "1  bb92765a-08de-4963-b432-496524b39157                  NaN   \n",
       "2  573de577-49ef-42b9-83da-d3cfb817b5c1                  2.0   \n",
       "\n",
       "   total_amount_usd  age           job  marital  education  default  housing  \\\n",
       "0            2143.0   58    management  married   tertiary    False     True   \n",
       "1               NaN   44    technician   single  secondary    False     True   \n",
       "2               2.0   33  entrepreneur  married  secondary    False     True   \n",
       "\n",
       "    loan contact  duration  campaign  pdays  previous poutcome  term_deposit  \\\n",
       "0  False    None       261         1     -1         0     None         False   \n",
       "1  False    None       151         1     -1         0     None         False   \n",
       "2   True    None        76         1     -1         0     None         False   \n",
       "\n",
       "  date_joined   device  log_number_transactions  \n",
       "0  1998-08-23   mobile                 1.386294  \n",
       "1  2008-07-15  desktop                      NaN  \n",
       "2  2002-06-04   mobile                 1.098612  "
      ]
     },
     "execution_count": 26,
     "metadata": {},
     "output_type": "execute_result"
    }
   ],
   "source": [
    "users_data['log_number_transactions'] = np.log(users_data['number_transactions'] + 1) # Adding 1 to avoid log(0)\n",
    "users_data.head(3)"
   ]
  },
  {
   "cell_type": "code",
   "execution_count": 30,
   "id": "94aaa1b1-e772-41f9-8e8e-0c1753d9fbae",
   "metadata": {},
   "outputs": [
    {
     "data": {
      "image/png": "[encoded data removed]",
      "text/plain": [
       "<Figure size 432x288 with 1 Axes>"
      ]
     },
     "metadata": {
      "needs_background": "light"
     },
     "output_type": "display_data"
    }
   ],
   "source": [
    "sns.histplot(users_data['log_number_transactions'], bins = 10, kde=True)\n",
    "plt.title('Log-Transformed Distribution of Number of Transactions')\n",
    "plt.show()"
   ]
  },
  {
   "cell_type": "code",
   "execution_count": 45,
   "id": "6bd5e156-f574-4e2f-b60c-f28807fba929",
   "metadata": {},
   "outputs": [
    {
     "data": {
      "image/png": "[encoded data removed]",
      "text/plain": [
       "<Figure size 432x288 with 1 Axes>"
      ]
     },
     "metadata": {
      "needs_background": "light"
     },
     "output_type": "display_data"
    }
   ],
   "source": [
    "users_data.number_transactions.hist()\n",
    "plt.title(\"Distribution of the number_transactions variable\")\n",
    "plt.show()"
   ]
  },
  {
   "cell_type": "markdown",
   "id": "02b7e9dc-2566-43d8-a6a6-814727e0d96c",
   "metadata": {},
   "source": [
    "=> Log transformation helps in reducing the skewness of the data"
   ]
  },
  {
   "cell_type": "code",
   "execution_count": 47,
   "id": "97298eb4-aeae-4376-a97c-fe66822547a2",
   "metadata": {},
   "outputs": [
    {
     "data": {
      "image/png": "[encoded data removed]",
      "text/plain": [
       "<Figure size 1008x432 with 2 Axes>"
      ]
     },
     "metadata": {
      "needs_background": "light"
     },
     "output_type": "display_data"
    }
   ],
   "source": [
    "# Plot the original and log-transformed distributions\n",
    "fig, axs = plt.subplots(1, 2, figsize=(14, 6))\n",
    "\n",
    "# Original distribution\n",
    "sns.histplot(users_data['number_transactions'], bins=10, kde=True, ax=axs[0])\n",
    "axs[0].set_title('Original Distribution of Number of Transactions')\n",
    "\n",
    "# Log-transformed distribution\n",
    "sns.histplot(users_data['log_number_transactions'], bins=10, kde=True, ax=axs[1])\n",
    "axs[1].set_title('Log-Transformed Distribution of Number of Transactions')\n",
    "\n",
    "plt.show()"
   ]
  },
  {
   "cell_type": "markdown",
   "id": "edaf4e60-2fee-41a5-a0e9-82bff94d6092",
   "metadata": {
    "jp-MarkdownHeadingCollapsed": true,
    "tags": []
   },
   "source": [
    "## Data Scaling"
   ]
  },
  {
   "cell_type": "markdown",
   "id": "c4d100d3-8973-4e5d-b14f-d176bcb27a19",
   "metadata": {},
   "source": [
    "- Using Normalisation"
   ]
  },
  {
   "cell_type": "code",
   "execution_count": 32,
   "id": "f3a9eb05-c38f-4227-93cb-6d38510d9132",
   "metadata": {},
   "outputs": [],
   "source": [
    "scaler = MinMaxScaler()\n",
    "users_data['number_transactions_normalized'] = scaler.fit_transform(users_data[['number_transactions']])"
   ]
  },
  {
   "cell_type": "code",
   "execution_count": 44,
   "id": "1511748e-bf6e-4e48-acc6-1df5a52c09d1",
   "metadata": {},
   "outputs": [
    {
     "data": {
      "text/html": [
       "<div>\n",
       "<style scoped>\n",
       "    .dataframe tbody tr th:only-of-type {\n",
       "        vertical-align: middle;\n",
       "    }\n",
       "\n",
       "    .dataframe tbody tr th {\n",
       "        vertical-align: top;\n",
       "    }\n",
       "\n",
       "    .dataframe thead th {\n",
       "        text-align: right;\n",
       "    }\n",
       "</style>\n",
       "<table border=\"1\" class=\"dataframe\">\n",
       "  <thead>\n",
       "    <tr style=\"text-align: right;\">\n",
       "      <th></th>\n",
       "      <th>number_transactions</th>\n",
       "      <th>number_transactions_normalized</th>\n",
       "    </tr>\n",
       "  </thead>\n",
       "  <tbody>\n",
       "    <tr>\n",
       "      <th>count</th>\n",
       "      <td>35210.000000</td>\n",
       "      <td>35210.000000</td>\n",
       "    </tr>\n",
       "    <tr>\n",
       "      <th>mean</th>\n",
       "      <td>3.977052</td>\n",
       "      <td>0.156687</td>\n",
       "    </tr>\n",
       "    <tr>\n",
       "      <th>std</th>\n",
       "      <td>3.814329</td>\n",
       "      <td>0.200754</td>\n",
       "    </tr>\n",
       "    <tr>\n",
       "      <th>min</th>\n",
       "      <td>1.000000</td>\n",
       "      <td>0.000000</td>\n",
       "    </tr>\n",
       "    <tr>\n",
       "      <th>25%</th>\n",
       "      <td>2.000000</td>\n",
       "      <td>0.052632</td>\n",
       "    </tr>\n",
       "    <tr>\n",
       "      <th>50%</th>\n",
       "      <td>3.000000</td>\n",
       "      <td>0.105263</td>\n",
       "    </tr>\n",
       "    <tr>\n",
       "      <th>75%</th>\n",
       "      <td>4.000000</td>\n",
       "      <td>0.157895</td>\n",
       "    </tr>\n",
       "    <tr>\n",
       "      <th>max</th>\n",
       "      <td>20.000000</td>\n",
       "      <td>1.000000</td>\n",
       "    </tr>\n",
       "  </tbody>\n",
       "</table>\n",
       "</div>"
      ],
      "text/plain": [
       "       number_transactions  number_transactions_normalized\n",
       "count         35210.000000                    35210.000000\n",
       "mean              3.977052                        0.156687\n",
       "std               3.814329                        0.200754\n",
       "min               1.000000                        0.000000\n",
       "25%               2.000000                        0.052632\n",
       "50%               3.000000                        0.105263\n",
       "75%               4.000000                        0.157895\n",
       "max              20.000000                        1.000000"
      ]
     },
     "execution_count": 44,
     "metadata": {},
     "output_type": "execute_result"
    }
   ],
   "source": [
    "users_data[['number_transactions','number_transactions_normalized']].describe()"
   ]
  },
  {
   "cell_type": "markdown",
   "id": "d31806a4-5eb5-4de6-bcbe-06b6a6e0dde6",
   "metadata": {},
   "source": [
    "- Using Standardisation"
   ]
  },
  {
   "cell_type": "code",
   "execution_count": 40,
   "id": "897c494d-84cf-4588-9862-327cf42034e8",
   "metadata": {},
   "outputs": [],
   "source": [
    "scaler = StandardScaler()\n",
    "users_data['number_transactions_standardized'] = scaler.fit_transform(users_data[['number_transactions']])"
   ]
  },
  {
   "cell_type": "code",
   "execution_count": 43,
   "id": "5b0edf0f-f0d4-43b2-82de-6be90fb1ce67",
   "metadata": {},
   "outputs": [
    {
     "data": {
      "text/html": [
       "<div>\n",
       "<style scoped>\n",
       "    .dataframe tbody tr th:only-of-type {\n",
       "        vertical-align: middle;\n",
       "    }\n",
       "\n",
       "    .dataframe tbody tr th {\n",
       "        vertical-align: top;\n",
       "    }\n",
       "\n",
       "    .dataframe thead th {\n",
       "        text-align: right;\n",
       "    }\n",
       "</style>\n",
       "<table border=\"1\" class=\"dataframe\">\n",
       "  <thead>\n",
       "    <tr style=\"text-align: right;\">\n",
       "      <th></th>\n",
       "      <th>number_transactions</th>\n",
       "      <th>number_transactions_standardized</th>\n",
       "    </tr>\n",
       "  </thead>\n",
       "  <tbody>\n",
       "    <tr>\n",
       "      <th>count</th>\n",
       "      <td>35210.000000</td>\n",
       "      <td>3.521000e+04</td>\n",
       "    </tr>\n",
       "    <tr>\n",
       "      <th>mean</th>\n",
       "      <td>3.977052</td>\n",
       "      <td>5.166116e-17</td>\n",
       "    </tr>\n",
       "    <tr>\n",
       "      <th>std</th>\n",
       "      <td>3.814329</td>\n",
       "      <td>1.000014e+00</td>\n",
       "    </tr>\n",
       "    <tr>\n",
       "      <th>min</th>\n",
       "      <td>1.000000</td>\n",
       "      <td>-7.805027e-01</td>\n",
       "    </tr>\n",
       "    <tr>\n",
       "      <th>25%</th>\n",
       "      <td>2.000000</td>\n",
       "      <td>-5.183297e-01</td>\n",
       "    </tr>\n",
       "    <tr>\n",
       "      <th>50%</th>\n",
       "      <td>3.000000</td>\n",
       "      <td>-2.561567e-01</td>\n",
       "    </tr>\n",
       "    <tr>\n",
       "      <th>75%</th>\n",
       "      <td>4.000000</td>\n",
       "      <td>6.016354e-03</td>\n",
       "    </tr>\n",
       "    <tr>\n",
       "      <th>max</th>\n",
       "      <td>20.000000</td>\n",
       "      <td>4.200785e+00</td>\n",
       "    </tr>\n",
       "  </tbody>\n",
       "</table>\n",
       "</div>"
      ],
      "text/plain": [
       "       number_transactions  number_transactions_standardized\n",
       "count         35210.000000                      3.521000e+04\n",
       "mean              3.977052                      5.166116e-17\n",
       "std               3.814329                      1.000014e+00\n",
       "min               1.000000                     -7.805027e-01\n",
       "25%               2.000000                     -5.183297e-01\n",
       "50%               3.000000                     -2.561567e-01\n",
       "75%               4.000000                      6.016354e-03\n",
       "max              20.000000                      4.200785e+00"
      ]
     },
     "execution_count": 43,
     "metadata": {},
     "output_type": "execute_result"
    }
   ],
   "source": [
    "users_data[['number_transactions','number_transactions_standardized']].describe()"
   ]
  },
  {
   "cell_type": "markdown",
   "id": "efe98959-9117-4702-a908-9b247685d306",
   "metadata": {},
   "source": [
    "Normalization scales the data to a range of [0, 1], while standardization scales the data to have a mean of 0 and a standard deviation of 1.*"
   ]
  }
 ],
 "metadata": {
  "kernelspec": {
   "display_name": "Python 3 (ipykernel)",
   "language": "python",
   "name": "python3"
  },
  "language_info": {
   "codemirror_mode": {
    "name": "ipython",
    "version": 3
   },
   "file_extension": ".py",
   "mimetype": "text/x-python",
   "name": "python",
   "nbconvert_exporter": "python",
   "pygments_lexer": "ipython3",
   "version": "3.9.12"
  }
 },
 "nbformat": 4,
 "nbformat_minor": 5
}
