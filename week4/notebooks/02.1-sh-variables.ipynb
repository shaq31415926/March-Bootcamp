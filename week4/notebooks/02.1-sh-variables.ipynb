{
 "cells": [
  {
   "cell_type": "code",
   "execution_count": 1,
   "id": "69d31757",
   "metadata": {},
   "outputs": [],
   "source": [
    "# creating a variable called name\n",
    "\n",
    "name = 'Zubia'"
   ]
  },
  {
   "cell_type": "code",
   "execution_count": 2,
   "id": "d9f6c5e6",
   "metadata": {},
   "outputs": [
    {
     "data": {
      "text/plain": [
       "'Zubia'"
      ]
     },
     "execution_count": 2,
     "metadata": {},
     "output_type": "execute_result"
    }
   ],
   "source": [
    "name"
   ]
  },
  {
   "cell_type": "code",
   "execution_count": 3,
   "id": "9c8a4adb",
   "metadata": {},
   "outputs": [
    {
     "data": {
      "text/plain": [
       "str"
      ]
     },
     "execution_count": 3,
     "metadata": {},
     "output_type": "execute_result"
    }
   ],
   "source": [
    "type(name)"
   ]
  },
  {
   "cell_type": "code",
   "execution_count": 4,
   "id": "605a7c7b",
   "metadata": {},
   "outputs": [],
   "source": [
    "age = 34"
   ]
  },
  {
   "cell_type": "code",
   "execution_count": 5,
   "id": "69f05542",
   "metadata": {},
   "outputs": [
    {
     "data": {
      "text/plain": [
       "34"
      ]
     },
     "execution_count": 5,
     "metadata": {},
     "output_type": "execute_result"
    }
   ],
   "source": [
    "age"
   ]
  },
  {
   "cell_type": "code",
   "execution_count": 6,
   "id": "ef1bc096",
   "metadata": {},
   "outputs": [
    {
     "data": {
      "text/plain": [
       "int"
      ]
     },
     "execution_count": 6,
     "metadata": {},
     "output_type": "execute_result"
    }
   ],
   "source": [
    "type(age)"
   ]
  },
  {
   "cell_type": "code",
   "execution_count": 7,
   "id": "99ad78e6",
   "metadata": {},
   "outputs": [
    {
     "ename": "SyntaxError",
     "evalue": "invalid syntax (1963213820.py, line 1)",
     "output_type": "error",
     "traceback": [
      "\u001b[1;36m  Cell \u001b[1;32mIn[7], line 1\u001b[1;36m\u001b[0m\n\u001b[1;33m    1name = \"Bob\"\u001b[0m\n\u001b[1;37m     ^\u001b[0m\n\u001b[1;31mSyntaxError\u001b[0m\u001b[1;31m:\u001b[0m invalid syntax\n"
     ]
    }
   ],
   "source": [
    "1name = \"Bob\""
   ]
  },
  {
   "cell_type": "code",
   "execution_count": 8,
   "id": "9cc622e9",
   "metadata": {},
   "outputs": [],
   "source": [
    "name1 = \"Bob\""
   ]
  },
  {
   "cell_type": "code",
   "execution_count": 9,
   "id": "8546635b",
   "metadata": {},
   "outputs": [
    {
     "ename": "SyntaxError",
     "evalue": "invalid syntax (3633723842.py, line 1)",
     "output_type": "error",
     "traceback": [
      "\u001b[1;36m  Cell \u001b[1;32mIn[9], line 1\u001b[1;36m\u001b[0m\n\u001b[1;33m    first name = \"John\"\u001b[0m\n\u001b[1;37m          ^\u001b[0m\n\u001b[1;31mSyntaxError\u001b[0m\u001b[1;31m:\u001b[0m invalid syntax\n"
     ]
    }
   ],
   "source": [
    "first name = \"John\""
   ]
  },
  {
   "cell_type": "code",
   "execution_count": 10,
   "id": "47c21e4a",
   "metadata": {},
   "outputs": [],
   "source": [
    "first_name = \"John\""
   ]
  },
  {
   "cell_type": "code",
   "execution_count": 11,
   "id": "50034f78",
   "metadata": {},
   "outputs": [],
   "source": [
    "fruit1, fruit2, fruit3 = \"Orange\", \"Banana\", \"Cherry\""
   ]
  },
  {
   "cell_type": "code",
   "execution_count": 12,
   "id": "f2db0096",
   "metadata": {},
   "outputs": [
    {
     "data": {
      "text/plain": [
       "'Orange'"
      ]
     },
     "execution_count": 12,
     "metadata": {},
     "output_type": "execute_result"
    }
   ],
   "source": [
    "fruit1"
   ]
  },
  {
   "cell_type": "code",
   "execution_count": 13,
   "id": "9048869c",
   "metadata": {},
   "outputs": [
    {
     "data": {
      "text/plain": [
       "'Banana'"
      ]
     },
     "execution_count": 13,
     "metadata": {},
     "output_type": "execute_result"
    }
   ],
   "source": [
    "fruit2"
   ]
  },
  {
   "cell_type": "code",
   "execution_count": 14,
   "id": "550c3129",
   "metadata": {},
   "outputs": [
    {
     "data": {
      "text/plain": [
       "'Cherry'"
      ]
     },
     "execution_count": 14,
     "metadata": {},
     "output_type": "execute_result"
    }
   ],
   "source": [
    "fruit3"
   ]
  },
  {
   "cell_type": "code",
   "execution_count": 15,
   "id": "a2f216d8",
   "metadata": {},
   "outputs": [],
   "source": [
    "fruit1, fruit2 = \"Orange\", \"Banana\""
   ]
  },
  {
   "cell_type": "code",
   "execution_count": 16,
   "id": "739449cb",
   "metadata": {},
   "outputs": [],
   "source": [
    "fruit1 = fruit2 = fruit3 = \"Orange\""
   ]
  },
  {
   "cell_type": "code",
   "execution_count": 17,
   "id": "d57add04",
   "metadata": {},
   "outputs": [
    {
     "name": "stdout",
     "output_type": "stream",
     "text": [
      "Orange\n",
      "Orange\n",
      "Orange\n"
     ]
    }
   ],
   "source": [
    "print(fruit1)\n",
    "print(fruit2)\n",
    "print(fruit3)"
   ]
  },
  {
   "cell_type": "code",
   "execution_count": 18,
   "id": "32ea403d",
   "metadata": {},
   "outputs": [
    {
     "data": {
      "text/plain": [
       "'Orange'"
      ]
     },
     "execution_count": 18,
     "metadata": {},
     "output_type": "execute_result"
    }
   ],
   "source": [
    "fruit1"
   ]
  },
  {
   "cell_type": "code",
   "execution_count": 19,
   "id": "d39642eb",
   "metadata": {},
   "outputs": [
    {
     "data": {
      "text/plain": [
       "4"
      ]
     },
     "execution_count": 19,
     "metadata": {},
     "output_type": "execute_result"
    }
   ],
   "source": [
    "2 + 2"
   ]
  },
  {
   "cell_type": "code",
   "execution_count": 20,
   "id": "3b00326b",
   "metadata": {},
   "outputs": [
    {
     "data": {
      "text/plain": [
       "'Python3isawesome'"
      ]
     },
     "execution_count": 20,
     "metadata": {},
     "output_type": "execute_result"
    }
   ],
   "source": [
    "first_word = \"Python3\"\n",
    "second_word = \"is\"\n",
    "third_word = \"awesome\"\n",
    "\n",
    "first_word + second_word + third_word"
   ]
  },
  {
   "cell_type": "code",
   "execution_count": 21,
   "id": "d11e338a",
   "metadata": {},
   "outputs": [],
   "source": [
    "sentence = first_word + \" \" + second_word + \" \" + third_word"
   ]
  },
  {
   "cell_type": "code",
   "execution_count": 22,
   "id": "3a06e47c",
   "metadata": {},
   "outputs": [
    {
     "data": {
      "text/plain": [
       "'Python3 is awesome'"
      ]
     },
     "execution_count": 22,
     "metadata": {},
     "output_type": "execute_result"
    }
   ],
   "source": [
    "sentence"
   ]
  },
  {
   "cell_type": "code",
   "execution_count": 23,
   "id": "f813eabd",
   "metadata": {},
   "outputs": [
    {
     "data": {
      "text/plain": [
       "str"
      ]
     },
     "execution_count": 23,
     "metadata": {},
     "output_type": "execute_result"
    }
   ],
   "source": [
    "type(sentence)"
   ]
  },
  {
   "cell_type": "code",
   "execution_count": 24,
   "id": "905ec0cb",
   "metadata": {},
   "outputs": [
    {
     "data": {
      "text/plain": [
       "15"
      ]
     },
     "execution_count": 24,
     "metadata": {},
     "output_type": "execute_result"
    }
   ],
   "source": [
    "num1 = 5\n",
    "num2 = 10\n",
    "\n",
    "num1 + num2"
   ]
  },
  {
   "cell_type": "code",
   "execution_count": 25,
   "id": "786260c3",
   "metadata": {},
   "outputs": [
    {
     "data": {
      "text/plain": [
       "'Python3'"
      ]
     },
     "execution_count": 25,
     "metadata": {},
     "output_type": "execute_result"
    }
   ],
   "source": [
    "first_word"
   ]
  },
  {
   "cell_type": "code",
   "execution_count": 26,
   "id": "405a89ef",
   "metadata": {},
   "outputs": [
    {
     "data": {
      "text/plain": [
       "str"
      ]
     },
     "execution_count": 26,
     "metadata": {},
     "output_type": "execute_result"
    }
   ],
   "source": [
    "type(first_word)"
   ]
  },
  {
   "cell_type": "code",
   "execution_count": 27,
   "id": "af733687",
   "metadata": {},
   "outputs": [
    {
     "name": "stdout",
     "output_type": "stream",
     "text": [
      "5\n",
      "<class 'int'>\n"
     ]
    }
   ],
   "source": [
    "print(num1)\n",
    "print(type(num1))"
   ]
  },
  {
   "cell_type": "code",
   "execution_count": 28,
   "id": "ae4f63ca",
   "metadata": {},
   "outputs": [
    {
     "ename": "TypeError",
     "evalue": "can only concatenate str (not \"int\") to str",
     "output_type": "error",
     "traceback": [
      "\u001b[1;31m---------------------------------------------------------------------------\u001b[0m",
      "\u001b[1;31mTypeError\u001b[0m                                 Traceback (most recent call last)",
      "Cell \u001b[1;32mIn[28], line 1\u001b[0m\n\u001b[1;32m----> 1\u001b[0m \u001b[43mfirst_word\u001b[49m\u001b[43m \u001b[49m\u001b[38;5;241;43m+\u001b[39;49m\u001b[43m \u001b[49m\u001b[43mnum1\u001b[49m\n",
      "\u001b[1;31mTypeError\u001b[0m: can only concatenate str (not \"int\") to str"
     ]
    }
   ],
   "source": [
    "first_word + num1"
   ]
  },
  {
   "cell_type": "code",
   "execution_count": null,
   "id": "1d949bae",
   "metadata": {},
   "outputs": [],
   "source": [
    "print(first_word, \".\", num1)"
   ]
  },
  {
   "cell_type": "code",
   "execution_count": 29,
   "id": "f3d7dffb",
   "metadata": {},
   "outputs": [
    {
     "name": "stdout",
     "output_type": "stream",
     "text": [
      "Python 3\n"
     ]
    }
   ],
   "source": [
    "v1 = \"Python\"\n",
    "v2 = 3\n",
    "\n",
    "print(v1, v2)"
   ]
  },
  {
   "cell_type": "code",
   "execution_count": 30,
   "id": "f7f1c6f6",
   "metadata": {},
   "outputs": [
    {
     "name": "stdout",
     "output_type": "stream",
     "text": [
      "My favourite fruits are strawberries and bananas\n"
     ]
    }
   ],
   "source": [
    "fruit1 = \"strawberries\"\n",
    "fruit2 = \"bananas\"\n",
    "print(\"My favourite fruits are\", fruit1, \"and\", fruit2)"
   ]
  },
  {
   "cell_type": "code",
   "execution_count": 31,
   "id": "eb2a12c7",
   "metadata": {},
   "outputs": [
    {
     "name": "stdout",
     "output_type": "stream",
     "text": [
      "Python3 . 5\n"
     ]
    }
   ],
   "source": [
    "print(first_word, \".\", num1)"
   ]
  },
  {
   "cell_type": "code",
   "execution_count": 32,
   "id": "fc962534",
   "metadata": {},
   "outputs": [
    {
     "data": {
      "text/plain": [
       "'My python version is Python3.5'"
      ]
     },
     "execution_count": 32,
     "metadata": {},
     "output_type": "execute_result"
    }
   ],
   "source": [
    "f\"My python version is {first_word}.{num1}\""
   ]
  },
  {
   "cell_type": "code",
   "execution_count": 33,
   "id": "25884135",
   "metadata": {},
   "outputs": [
    {
     "data": {
      "text/plain": [
       "'Zubia'"
      ]
     },
     "execution_count": 33,
     "metadata": {},
     "output_type": "execute_result"
    }
   ],
   "source": [
    "name"
   ]
  },
  {
   "cell_type": "code",
   "execution_count": 35,
   "id": "b54deaa3",
   "metadata": {},
   "outputs": [],
   "source": [
    "first_name = name\n",
    "second_name = \"Khan\""
   ]
  },
  {
   "cell_type": "code",
   "execution_count": 36,
   "id": "52325a45",
   "metadata": {},
   "outputs": [
    {
     "name": "stdout",
     "output_type": "stream",
     "text": [
      "My full name is Zubia Khan\n"
     ]
    }
   ],
   "source": [
    "print(\"My full name is\", first_name, second_name)"
   ]
  },
  {
   "cell_type": "code",
   "execution_count": 37,
   "id": "7034df13",
   "metadata": {},
   "outputs": [
    {
     "data": {
      "text/plain": [
       "'My name is Zubia'"
      ]
     },
     "execution_count": 37,
     "metadata": {},
     "output_type": "execute_result"
    }
   ],
   "source": [
    "f\"My name is {name}\""
   ]
  },
  {
   "cell_type": "code",
   "execution_count": 38,
   "id": "bdc1b08b",
   "metadata": {},
   "outputs": [
    {
     "data": {
      "text/plain": [
       "34"
      ]
     },
     "execution_count": 38,
     "metadata": {},
     "output_type": "execute_result"
    }
   ],
   "source": [
    "age"
   ]
  },
  {
   "cell_type": "code",
   "execution_count": 39,
   "id": "974c06fb",
   "metadata": {},
   "outputs": [
    {
     "data": {
      "text/plain": [
       "'My name is Zubia and my age is 34'"
      ]
     },
     "execution_count": 39,
     "metadata": {},
     "output_type": "execute_result"
    }
   ],
   "source": [
    "f\"My name is {name} and my age is {age}\""
   ]
  }
 ],
 "metadata": {
  "kernelspec": {
   "display_name": "Python 3 (ipykernel)",
   "language": "python",
   "name": "python3"
  },
  "language_info": {
   "codemirror_mode": {
    "name": "ipython",
    "version": 3
   },
   "file_extension": ".py",
   "mimetype": "text/x-python",
   "name": "python",
   "nbconvert_exporter": "python",
   "pygments_lexer": "ipython3",
   "version": "3.8.16"
  }
 },
 "nbformat": 4,
 "nbformat_minor": 5
}
