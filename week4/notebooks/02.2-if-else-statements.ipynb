{
 "cells": [
  {
   "cell_type": "code",
   "execution_count": 11,
   "id": "38c1bb1e",
   "metadata": {},
   "outputs": [],
   "source": [
    "# creating two variables a and b\n",
    "a = 10\n",
    "b = 10"
   ]
  },
  {
   "cell_type": "code",
   "execution_count": 12,
   "id": "5cd83add",
   "metadata": {},
   "outputs": [],
   "source": [
    "# if a is greater than b print hello world\n",
    "\n",
    "if a > b:\n",
    "    print(\"Hello World\")"
   ]
  },
  {
   "cell_type": "code",
   "execution_count": 13,
   "id": "d76bb296",
   "metadata": {},
   "outputs": [
    {
     "name": "stdout",
     "output_type": "stream",
     "text": [
      "a has to be greater than b\n"
     ]
    }
   ],
   "source": [
    "# if a is greater than b print hello world else print something else\n",
    "\n",
    "if a > b:\n",
    "    print(\"Hello World\")\n",
    "else:\n",
    "    print(\"a has to be greater than b\")"
   ]
  },
  {
   "cell_type": "code",
   "execution_count": 14,
   "id": "bf3d6d53",
   "metadata": {},
   "outputs": [
    {
     "name": "stdout",
     "output_type": "stream",
     "text": [
      "a is equal to b\n"
     ]
    }
   ],
   "source": [
    "# add an else if statement - if a equals b then print a is equal to b\n",
    "\n",
    "if a > b:\n",
    "    print(\"Hello World\")\n",
    "elif a == b:\n",
    "    print(\"a is equal to b\")\n",
    "else:\n",
    "    print(\"a is not greater than b\")"
   ]
  },
  {
   "cell_type": "code",
   "execution_count": 18,
   "id": "328dac93",
   "metadata": {},
   "outputs": [],
   "source": [
    "a = 200\n",
    "b = 33\n",
    "c = 100"
   ]
  },
  {
   "cell_type": "code",
   "execution_count": 19,
   "id": "da9ee317",
   "metadata": {},
   "outputs": [],
   "source": [
    "# the and logic \n",
    "\n",
    "if a > b and c > a:\n",
    "    print(\"Hello World\")"
   ]
  },
  {
   "cell_type": "code",
   "execution_count": 20,
   "id": "13f8fc9d",
   "metadata": {},
   "outputs": [
    {
     "name": "stdout",
     "output_type": "stream",
     "text": [
      "Hello World\n"
     ]
    }
   ],
   "source": [
    "# the or logic\n",
    "\n",
    "if a > b or c > a:\n",
    "    print(\"Hello World\")"
   ]
  },
  {
   "cell_type": "code",
   "execution_count": 21,
   "id": "c382785c",
   "metadata": {},
   "outputs": [],
   "source": [
    "if a > b:\n",
    "    pass"
   ]
  },
  {
   "cell_type": "code",
   "execution_count": 30,
   "id": "d8aed61d",
   "metadata": {},
   "outputs": [
    {
     "name": "stdout",
     "output_type": "stream",
     "text": [
      "x greater than 10\n",
      "x is not greater than 20\n"
     ]
    }
   ],
   "source": [
    "# nested if statements\n",
    "\n",
    "x = 11\n",
    "\n",
    "if x > 10:\n",
    "    print(\"x greater than 10\")\n",
    "    if x > 20:\n",
    "        print(\"x greater than 20\")\n",
    "    else:\n",
    "        print(\"x is not greater than 20\")\n",
    "else: \n",
    "    print(\"x is not greater than 10\")"
   ]
  },
  {
   "cell_type": "code",
   "execution_count": 31,
   "id": "3a212009",
   "metadata": {},
   "outputs": [
    {
     "name": "stdout",
     "output_type": "stream",
     "text": [
      "x greater than 10\n"
     ]
    }
   ],
   "source": [
    "if x > 10:\n",
    "    print(\"x greater than 10\")\n",
    "elif x > 20:\n",
    "    print(\"x greater than 20\")\n",
    "else:\n",
    "    print(\"x is not greater than 10\")"
   ]
  }
 ],
 "metadata": {
  "kernelspec": {
   "display_name": "Python 3 (ipykernel)",
   "language": "python",
   "name": "python3"
  },
  "language_info": {
   "codemirror_mode": {
    "name": "ipython",
    "version": 3
   },
   "file_extension": ".py",
   "mimetype": "text/x-python",
   "name": "python",
   "nbconvert_exporter": "python",
   "pygments_lexer": "ipython3",
   "version": "3.11.3"
  }
 },
 "nbformat": 4,
 "nbformat_minor": 5
}
