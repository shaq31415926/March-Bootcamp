{
 "cells": [
  {
   "cell_type": "markdown",
   "id": "174401cc",
   "metadata": {},
   "source": [
    "# Box Plot"
   ]
  },
  {
   "cell_type": "markdown",
   "id": "a99a5a7a",
   "metadata": {},
   "source": [
    "## Matplotlib"
   ]
  },
  {
   "cell_type": "code",
   "execution_count": 19,
   "id": "3449240b",
   "metadata": {},
   "outputs": [],
   "source": [
    "# Python program to show pyplot module\n",
    "import matplotlib.pyplot as plt"
   ]
  },
  {
   "cell_type": "code",
   "execution_count": 20,
   "id": "424be71d",
   "metadata": {},
   "outputs": [
    {
     "data": {
      "text/html": [
       "<div>\n",
       "<style scoped>\n",
       "    .dataframe tbody tr th:only-of-type {\n",
       "        vertical-align: middle;\n",
       "    }\n",
       "\n",
       "    .dataframe tbody tr th {\n",
       "        vertical-align: top;\n",
       "    }\n",
       "\n",
       "    .dataframe thead th {\n",
       "        text-align: right;\n",
       "    }\n",
       "</style>\n",
       "<table border=\"1\" class=\"dataframe\">\n",
       "  <thead>\n",
       "    <tr style=\"text-align: right;\">\n",
       "      <th></th>\n",
       "      <th>sepallength</th>\n",
       "      <th>sepalwidth</th>\n",
       "      <th>petallength</th>\n",
       "      <th>petalwidth</th>\n",
       "      <th>class</th>\n",
       "    </tr>\n",
       "  </thead>\n",
       "  <tbody>\n",
       "    <tr>\n",
       "      <th>0</th>\n",
       "      <td>5.1</td>\n",
       "      <td>3.5</td>\n",
       "      <td>1.4</td>\n",
       "      <td>0.2</td>\n",
       "      <td>Iris-setosa</td>\n",
       "    </tr>\n",
       "    <tr>\n",
       "      <th>1</th>\n",
       "      <td>4.9</td>\n",
       "      <td>3.0</td>\n",
       "      <td>1.4</td>\n",
       "      <td>0.2</td>\n",
       "      <td>Iris-setosa</td>\n",
       "    </tr>\n",
       "    <tr>\n",
       "      <th>2</th>\n",
       "      <td>4.7</td>\n",
       "      <td>3.2</td>\n",
       "      <td>1.3</td>\n",
       "      <td>0.2</td>\n",
       "      <td>Iris-setosa</td>\n",
       "    </tr>\n",
       "    <tr>\n",
       "      <th>3</th>\n",
       "      <td>4.6</td>\n",
       "      <td>3.1</td>\n",
       "      <td>1.5</td>\n",
       "      <td>0.2</td>\n",
       "      <td>Iris-setosa</td>\n",
       "    </tr>\n",
       "    <tr>\n",
       "      <th>4</th>\n",
       "      <td>5.0</td>\n",
       "      <td>3.6</td>\n",
       "      <td>1.4</td>\n",
       "      <td>0.2</td>\n",
       "      <td>Iris-setosa</td>\n",
       "    </tr>\n",
       "    <tr>\n",
       "      <th>...</th>\n",
       "      <td>...</td>\n",
       "      <td>...</td>\n",
       "      <td>...</td>\n",
       "      <td>...</td>\n",
       "      <td>...</td>\n",
       "    </tr>\n",
       "    <tr>\n",
       "      <th>145</th>\n",
       "      <td>6.7</td>\n",
       "      <td>3.0</td>\n",
       "      <td>5.2</td>\n",
       "      <td>2.3</td>\n",
       "      <td>Iris-virginica</td>\n",
       "    </tr>\n",
       "    <tr>\n",
       "      <th>146</th>\n",
       "      <td>6.3</td>\n",
       "      <td>2.5</td>\n",
       "      <td>5.0</td>\n",
       "      <td>1.9</td>\n",
       "      <td>Iris-virginica</td>\n",
       "    </tr>\n",
       "    <tr>\n",
       "      <th>147</th>\n",
       "      <td>6.5</td>\n",
       "      <td>3.0</td>\n",
       "      <td>5.2</td>\n",
       "      <td>2.0</td>\n",
       "      <td>Iris-virginica</td>\n",
       "    </tr>\n",
       "    <tr>\n",
       "      <th>148</th>\n",
       "      <td>6.2</td>\n",
       "      <td>3.4</td>\n",
       "      <td>5.4</td>\n",
       "      <td>2.3</td>\n",
       "      <td>Iris-virginica</td>\n",
       "    </tr>\n",
       "    <tr>\n",
       "      <th>149</th>\n",
       "      <td>5.9</td>\n",
       "      <td>3.0</td>\n",
       "      <td>5.1</td>\n",
       "      <td>1.8</td>\n",
       "      <td>Iris-virginica</td>\n",
       "    </tr>\n",
       "  </tbody>\n",
       "</table>\n",
       "<p>150 rows × 5 columns</p>\n",
       "</div>"
      ],
      "text/plain": [
       "     sepallength  sepalwidth  petallength  petalwidth           class\n",
       "0            5.1         3.5          1.4         0.2     Iris-setosa\n",
       "1            4.9         3.0          1.4         0.2     Iris-setosa\n",
       "2            4.7         3.2          1.3         0.2     Iris-setosa\n",
       "3            4.6         3.1          1.5         0.2     Iris-setosa\n",
       "4            5.0         3.6          1.4         0.2     Iris-setosa\n",
       "..           ...         ...          ...         ...             ...\n",
       "145          6.7         3.0          5.2         2.3  Iris-virginica\n",
       "146          6.3         2.5          5.0         1.9  Iris-virginica\n",
       "147          6.5         3.0          5.2         2.0  Iris-virginica\n",
       "148          6.2         3.4          5.4         2.3  Iris-virginica\n",
       "149          5.9         3.0          5.1         1.8  Iris-virginica\n",
       "\n",
       "[150 rows x 5 columns]"
      ]
     },
     "execution_count": 20,
     "metadata": {},
     "output_type": "execute_result"
    }
   ],
   "source": [
    "import pandas as pd\n",
    " \n",
    "# Reading the CSV file to plot a box chart\n",
    "iris = pd.read_csv(\"../data/iris_csv.csv\")\n",
    "iris"
   ]
  },
  {
   "cell_type": "code",
   "execution_count": 21,
   "id": "d41a0d8d",
   "metadata": {
    "scrolled": false
   },
   "outputs": [
    {
     "data": {
      "image/png": "[encoded data removed]",
      "text/plain": [
       "<Figure size 640x480 with 1 Axes>"
      ]
     },
     "metadata": {},
     "output_type": "display_data"
    }
   ],
   "source": [
    "plt.boxplot(iris[\"sepalwidth\"])\n",
    " \n",
    "# Title to the plot\n",
    "plt.title(\"Box Plot\")\n",
    " \n",
    "# Adding the legends\n",
    "plt.legend([\"Sepal Width (cm)\"])\n",
    "plt.show()"
   ]
  },
  {
   "cell_type": "markdown",
   "id": "87188372",
   "metadata": {},
   "source": [
    "## Seaborn"
   ]
  },
  {
   "cell_type": "code",
   "execution_count": 22,
   "id": "ef0d489e",
   "metadata": {},
   "outputs": [],
   "source": [
    "import seaborn as sns"
   ]
  },
  {
   "cell_type": "code",
   "execution_count": 23,
   "id": "ec5f8ce5",
   "metadata": {
    "scrolled": true
   },
   "outputs": [
    {
     "data": {
      "text/html": [
       "<div>\n",
       "<style scoped>\n",
       "    .dataframe tbody tr th:only-of-type {\n",
       "        vertical-align: middle;\n",
       "    }\n",
       "\n",
       "    .dataframe tbody tr th {\n",
       "        vertical-align: top;\n",
       "    }\n",
       "\n",
       "    .dataframe thead th {\n",
       "        text-align: right;\n",
       "    }\n",
       "</style>\n",
       "<table border=\"1\" class=\"dataframe\">\n",
       "  <thead>\n",
       "    <tr style=\"text-align: right;\">\n",
       "      <th></th>\n",
       "      <th>id</th>\n",
       "      <th>product_name</th>\n",
       "      <th>brand</th>\n",
       "      <th>categories</th>\n",
       "      <th>manufacturer</th>\n",
       "      <th>rating</th>\n",
       "      <th>username</th>\n",
       "    </tr>\n",
       "  </thead>\n",
       "  <tbody>\n",
       "    <tr>\n",
       "      <th>0</th>\n",
       "      <td>AVqkIhwDv8e3D1O-lebb</td>\n",
       "      <td>All</td>\n",
       "      <td>Amazon</td>\n",
       "      <td>Electronics,iPad &amp; Tablets,All Tablets,Fire Ta...</td>\n",
       "      <td>Amazon</td>\n",
       "      <td>1.0</td>\n",
       "      <td>Adapter</td>\n",
       "    </tr>\n",
       "    <tr>\n",
       "      <th>1</th>\n",
       "      <td>AVqkIhwDv8e3D1O-lebb</td>\n",
       "      <td>All</td>\n",
       "      <td>Amazon</td>\n",
       "      <td>Electronics,iPad &amp; Tablets,All Tablets,Fire Ta...</td>\n",
       "      <td>Amazon</td>\n",
       "      <td>1.0</td>\n",
       "      <td>truman</td>\n",
       "    </tr>\n",
       "    <tr>\n",
       "      <th>2</th>\n",
       "      <td>AVqkIhwDv8e3D1O-lebb</td>\n",
       "      <td>All</td>\n",
       "      <td>Amazon</td>\n",
       "      <td>Electronics,iPad &amp; Tablets,All Tablets,Fire Ta...</td>\n",
       "      <td>Amazon</td>\n",
       "      <td>5.0</td>\n",
       "      <td>DaveZ</td>\n",
       "    </tr>\n",
       "    <tr>\n",
       "      <th>3</th>\n",
       "      <td>AVqkIhwDv8e3D1O-lebb</td>\n",
       "      <td>All</td>\n",
       "      <td>Amazon</td>\n",
       "      <td>Electronics,iPad &amp; Tablets,All Tablets,Fire Ta...</td>\n",
       "      <td>Amazon</td>\n",
       "      <td>4.0</td>\n",
       "      <td>Shacks</td>\n",
       "    </tr>\n",
       "    <tr>\n",
       "      <th>4</th>\n",
       "      <td>AVqkIhwDv8e3D1O-lebb</td>\n",
       "      <td>All</td>\n",
       "      <td>Amazon</td>\n",
       "      <td>Electronics,iPad &amp; Tablets,All Tablets,Fire Ta...</td>\n",
       "      <td>Amazon</td>\n",
       "      <td>5.0</td>\n",
       "      <td>explore42</td>\n",
       "    </tr>\n",
       "    <tr>\n",
       "      <th>...</th>\n",
       "      <td>...</td>\n",
       "      <td>...</td>\n",
       "      <td>...</td>\n",
       "      <td>...</td>\n",
       "      <td>...</td>\n",
       "      <td>...</td>\n",
       "      <td>...</td>\n",
       "    </tr>\n",
       "    <tr>\n",
       "      <th>34655</th>\n",
       "      <td>AVpfiBlyLJeJML43-4Tp</td>\n",
       "      <td>NaN</td>\n",
       "      <td>Amazon</td>\n",
       "      <td>Computers/Tablets &amp; Networking,Tablet &amp; eBook ...</td>\n",
       "      <td>Amazon Digital Services, Inc</td>\n",
       "      <td>3.0</td>\n",
       "      <td>Kris</td>\n",
       "    </tr>\n",
       "    <tr>\n",
       "      <th>34656</th>\n",
       "      <td>AVpfiBlyLJeJML43-4Tp</td>\n",
       "      <td>NaN</td>\n",
       "      <td>Amazon</td>\n",
       "      <td>Computers/Tablets &amp; Networking,Tablet &amp; eBook ...</td>\n",
       "      <td>Amazon Digital Services, Inc</td>\n",
       "      <td>1.0</td>\n",
       "      <td>Jonathan Stewart</td>\n",
       "    </tr>\n",
       "    <tr>\n",
       "      <th>34657</th>\n",
       "      <td>AVpfiBlyLJeJML43-4Tp</td>\n",
       "      <td>NaN</td>\n",
       "      <td>Amazon</td>\n",
       "      <td>Computers/Tablets &amp; Networking,Tablet &amp; eBook ...</td>\n",
       "      <td>Amazon Digital Services, Inc</td>\n",
       "      <td>1.0</td>\n",
       "      <td>J Lawson</td>\n",
       "    </tr>\n",
       "    <tr>\n",
       "      <th>34658</th>\n",
       "      <td>AVpfiBlyLJeJML43-4Tp</td>\n",
       "      <td>NaN</td>\n",
       "      <td>Amazon</td>\n",
       "      <td>Computers/Tablets &amp; Networking,Tablet &amp; eBook ...</td>\n",
       "      <td>Amazon Digital Services, Inc</td>\n",
       "      <td>1.0</td>\n",
       "      <td>Just the Buyer</td>\n",
       "    </tr>\n",
       "    <tr>\n",
       "      <th>34659</th>\n",
       "      <td>AVpfiBlyLJeJML43-4Tp</td>\n",
       "      <td>NaN</td>\n",
       "      <td>Amazon</td>\n",
       "      <td>Computers/Tablets &amp; Networking,Tablet &amp; eBook ...</td>\n",
       "      <td>Amazon Digital Services, Inc</td>\n",
       "      <td>1.0</td>\n",
       "      <td>sandi</td>\n",
       "    </tr>\n",
       "  </tbody>\n",
       "</table>\n",
       "<p>34660 rows × 7 columns</p>\n",
       "</div>"
      ],
      "text/plain": [
       "                         id product_name   brand  \\\n",
       "0      AVqkIhwDv8e3D1O-lebb          All  Amazon   \n",
       "1      AVqkIhwDv8e3D1O-lebb          All  Amazon   \n",
       "2      AVqkIhwDv8e3D1O-lebb          All  Amazon   \n",
       "3      AVqkIhwDv8e3D1O-lebb          All  Amazon   \n",
       "4      AVqkIhwDv8e3D1O-lebb          All  Amazon   \n",
       "...                     ...          ...     ...   \n",
       "34655  AVpfiBlyLJeJML43-4Tp          NaN  Amazon   \n",
       "34656  AVpfiBlyLJeJML43-4Tp          NaN  Amazon   \n",
       "34657  AVpfiBlyLJeJML43-4Tp          NaN  Amazon   \n",
       "34658  AVpfiBlyLJeJML43-4Tp          NaN  Amazon   \n",
       "34659  AVpfiBlyLJeJML43-4Tp          NaN  Amazon   \n",
       "\n",
       "                                              categories  \\\n",
       "0      Electronics,iPad & Tablets,All Tablets,Fire Ta...   \n",
       "1      Electronics,iPad & Tablets,All Tablets,Fire Ta...   \n",
       "2      Electronics,iPad & Tablets,All Tablets,Fire Ta...   \n",
       "3      Electronics,iPad & Tablets,All Tablets,Fire Ta...   \n",
       "4      Electronics,iPad & Tablets,All Tablets,Fire Ta...   \n",
       "...                                                  ...   \n",
       "34655  Computers/Tablets & Networking,Tablet & eBook ...   \n",
       "34656  Computers/Tablets & Networking,Tablet & eBook ...   \n",
       "34657  Computers/Tablets & Networking,Tablet & eBook ...   \n",
       "34658  Computers/Tablets & Networking,Tablet & eBook ...   \n",
       "34659  Computers/Tablets & Networking,Tablet & eBook ...   \n",
       "\n",
       "                       manufacturer  rating          username  \n",
       "0                            Amazon     1.0           Adapter  \n",
       "1                            Amazon     1.0            truman  \n",
       "2                            Amazon     5.0             DaveZ  \n",
       "3                            Amazon     4.0            Shacks  \n",
       "4                            Amazon     5.0         explore42  \n",
       "...                             ...     ...               ...  \n",
       "34655  Amazon Digital Services, Inc     3.0              Kris  \n",
       "34656  Amazon Digital Services, Inc     1.0  Jonathan Stewart  \n",
       "34657  Amazon Digital Services, Inc     1.0          J Lawson  \n",
       "34658  Amazon Digital Services, Inc     1.0    Just the Buyer  \n",
       "34659  Amazon Digital Services, Inc     1.0             sandi  \n",
       "\n",
       "[34660 rows x 7 columns]"
      ]
     },
     "execution_count": 23,
     "metadata": {},
     "output_type": "execute_result"
    }
   ],
   "source": [
    "# Reading the CSV file to plot box chart using Seaborn\n",
    "amazon = pd.read_csv(\"../data/amazon.csv\")\n",
    "amazon"
   ]
  },
  {
   "cell_type": "code",
   "execution_count": 24,
   "id": "333b4151",
   "metadata": {},
   "outputs": [
    {
     "data": {
      "image/png": "[encoded data removed]",
      "text/plain": [
       "<Figure size 640x480 with 1 Axes>"
      ]
     },
     "metadata": {},
     "output_type": "display_data"
    }
   ],
   "source": [
    "sns.boxplot(y=\"sepalwidth\", data=iris)\n",
    "plt.show()"
   ]
  },
  {
   "cell_type": "code",
   "execution_count": 25,
   "id": "42f8eb8c",
   "metadata": {},
   "outputs": [
    {
     "data": {
      "image/png": "[encoded data removed]",
      "text/plain": [
       "<Figure size 640x480 with 1 Axes>"
      ]
     },
     "metadata": {},
     "output_type": "display_data"
    }
   ],
   "source": [
    "sns.boxplot(y=iris[\"sepalwidth\"])\n",
    "plt.show()"
   ]
  },
  {
   "cell_type": "code",
   "execution_count": 26,
   "id": "5bb95afd",
   "metadata": {},
   "outputs": [
    {
     "data": {
      "text/plain": [
       "4.4"
      ]
     },
     "execution_count": 26,
     "metadata": {},
     "output_type": "execute_result"
    }
   ],
   "source": [
    "iris[\"sepalwidth\"].max()"
   ]
  },
  {
   "cell_type": "markdown",
   "id": "8b4158ff",
   "metadata": {},
   "source": [
    "### Several numerical variables"
   ]
  },
  {
   "cell_type": "code",
   "execution_count": 27,
   "id": "2f8699b7",
   "metadata": {},
   "outputs": [],
   "source": [
    "# If you intend to add more information in a single figure,\n",
    "# you can also visualize several numerical variables distributions \n",
    "# by setting the data argument and specifying a dataset with several numerical columns."
   ]
  },
  {
   "cell_type": "code",
   "execution_count": 28,
   "id": "7e907ee3",
   "metadata": {
    "scrolled": true
   },
   "outputs": [
    {
     "data": {
      "image/png": "[encoded data removed]",
      "text/plain": [
       "<Figure size 640x480 with 1 Axes>"
      ]
     },
     "metadata": {},
     "output_type": "display_data"
    }
   ],
   "source": [
    "sns.boxplot(data=iris.loc[:, ['sepallength', 'sepalwidth']])\n",
    "plt.show()"
   ]
  },
  {
   "cell_type": "markdown",
   "id": "1235c9e1",
   "metadata": {},
   "source": [
    "### One numerical variable and several groups"
   ]
  },
  {
   "cell_type": "code",
   "execution_count": 29,
   "id": "1a1e4834",
   "metadata": {},
   "outputs": [],
   "source": [
    "# To get a better understanding of the distribution of a given variable between two or more groups,\n",
    "# specify the 'x' parameter in the boxplot() function."
   ]
  },
  {
   "cell_type": "code",
   "execution_count": 30,
   "id": "a665a06c",
   "metadata": {
    "scrolled": true
   },
   "outputs": [
    {
     "data": {
      "image/png": "[encoded data removed]",
      "text/plain": [
       "<Figure size 640x480 with 1 Axes>"
      ]
     },
     "metadata": {},
     "output_type": "display_data"
    }
   ],
   "source": [
    "sns.boxplot(x=iris[\"class\"], y=iris[\"sepallength\"])\n",
    "plt.show()"
   ]
  },
  {
   "cell_type": "markdown",
   "id": "5f1df99e",
   "metadata": {},
   "source": [
    "#### Task 1:\n",
    "Plot the box plot using either Matplotlib or Seaborn for all the columns \"sepallength\",\"sepalwidth\",\"petallength\" and \"petalwidth\""
   ]
  },
  {
   "cell_type": "markdown",
   "id": "c1c8f9a2",
   "metadata": {},
   "source": [
    "Double-click <b>here</b> for the solution.\n",
    "\n",
    "<!-- Soltuion is below:\n",
    "\n",
    "\n",
    "# Solution:\n",
    "\n",
    "data= iris.iloc[:,0:4].values # read the values of the first 4 columns\n",
    "\n",
    "# show plot\n",
    "fig = plt.figure(figsize =(20, 14))\n",
    "plt.boxplot(data)\n",
    "plt.show()\n",
    "\n",
    "-->"
   ]
  },
  {
   "attachments": {
    "task.PNG": {
     "image/png": "[encoded data removed]"
    }
   },
   "cell_type": "markdown",
   "id": "2bebfcc6",
   "metadata": {},
   "source": [
    "![task.PNG](attachment:task.PNG)"
   ]
  },
  {
   "cell_type": "markdown",
   "id": "fc8a2b85",
   "metadata": {},
   "source": [
    "## Removing Outliers"
   ]
  },
  {
   "cell_type": "markdown",
   "id": "dc87c269",
   "metadata": {},
   "source": [
    "#### Method 1: Using threshold"
   ]
  },
  {
   "cell_type": "code",
   "execution_count": 31,
   "id": "a389216c",
   "metadata": {
    "scrolled": true
   },
   "outputs": [
    {
     "data": {
      "text/plain": [
       "(2.2, 4.002000000000001)"
      ]
     },
     "execution_count": 31,
     "metadata": {},
     "output_type": "execute_result"
    }
   ],
   "source": [
    "# Removing outliers\n",
    "min_threshold, max_threshold = iris['sepalwidth'].quantile([0.02, 0.98])\n",
    "min_threshold, max_threshold"
   ]
  },
  {
   "cell_type": "code",
   "execution_count": 32,
   "id": "2a3f10f1",
   "metadata": {},
   "outputs": [
    {
     "data": {
      "text/plain": [
       "(2.2, 4.0)"
      ]
     },
     "execution_count": 32,
     "metadata": {},
     "output_type": "execute_result"
    }
   ],
   "source": [
    "# Or hard code the maximum and minimum thresholds\n",
    "min_threshold, max_threshold = (2.2, 4.0)\n",
    "min_threshold, max_threshold"
   ]
  },
  {
   "cell_type": "code",
   "execution_count": 33,
   "id": "4ab4a231",
   "metadata": {},
   "outputs": [],
   "source": [
    "clean_iris = iris[(iris['sepalwidth'] < max_threshold) & (iris['sepalwidth'] > min_threshold)]"
   ]
  },
  {
   "cell_type": "code",
   "execution_count": 34,
   "id": "d044bf09",
   "metadata": {},
   "outputs": [
    {
     "data": {
      "image/png": "[encoded data removed]",
      "text/plain": [
       "<Figure size 640x480 with 1 Axes>"
      ]
     },
     "metadata": {},
     "output_type": "display_data"
    }
   ],
   "source": [
    "plt.boxplot(clean_iris[\"sepalwidth\"])\n",
    " \n",
    "# Title to the plot\n",
    "plt.title(\"Box Plot\")\n",
    " \n",
    "# Adding the legends\n",
    "plt.legend([\"Sepal Width (cm)\"])\n",
    "plt.show()"
   ]
  },
  {
   "cell_type": "markdown",
   "id": "fb6ac77d",
   "metadata": {},
   "source": [
    "#### Method 2: Using IRQ"
   ]
  },
  {
   "cell_type": "code",
   "execution_count": 35,
   "id": "31b63a62",
   "metadata": {},
   "outputs": [
    {
     "name": "stdout",
     "output_type": "stream",
     "text": [
      "0.5\n"
     ]
    }
   ],
   "source": [
    "# v_name = df[\"col_name\"]  .quantile(0.25)\n",
    "q1 = iris['sepalwidth'].quantile(0.25) # 25th percentile\n",
    "q3 = iris['sepalwidth'].quantile(0.75) # 75th percentile\n",
    "\n",
    "IQR = q3 - q1\n",
    "print(IQR)\n",
    "\n",
    "# Same code written\n",
    "\n",
    "#other_method = iris[~((iris['sepalwidth'] < (q1 - 1.5 * IQR)) | (iris['sepalwidth'] > (q3 + 1.5 * IQR)))]\n",
    "# or\n",
    "other_method = iris[((iris['sepalwidth'] > (q1 - 1.5 * IQR)) & (iris['sepalwidth'] < (q3 + 1.5 * IQR)))]"
   ]
  },
  {
   "cell_type": "code",
   "execution_count": 36,
   "id": "c4c013ab",
   "metadata": {},
   "outputs": [
    {
     "data": {
      "image/png": "[encoded data removed]",
      "text/plain": [
       "<Figure size 640x480 with 1 Axes>"
      ]
     },
     "metadata": {},
     "output_type": "display_data"
    }
   ],
   "source": [
    "plt.boxplot(other_method[\"sepalwidth\"])\n",
    " \n",
    "# Title to the plot\n",
    "plt.title(\"Box Plot\")\n",
    " \n",
    "# Adding the legends\n",
    "plt.legend([\"Sepal Width (cm)\"])\n",
    "plt.show()"
   ]
  },
  {
   "cell_type": "markdown",
   "id": "8502ec2f",
   "metadata": {},
   "source": [
    "#### Task 2:\n",
    "Remove the outlier from sepal length for class \"Iris-virginica\". Identify which method best removes the data."
   ]
  },
  {
   "cell_type": "markdown",
   "id": "b6fd992f",
   "metadata": {},
   "source": [
    "Double-click <b>here</b> for the solution.\n",
    "\n",
    "<!-- Soltuion is below:\n",
    "\n",
    "\n",
    "# Solution:\n",
    "virginica = iris[iris[\"class\"] == \"Iris-virginica\"]\n",
    "\n",
    "## Method 1: Using Threshold:\n",
    "min_threshold, max_threshold = virginica['sepallength'].quantile([0.003, 0.97])\n",
    "min_threshold, max_threshold\n",
    "\n",
    "clean_iris2 = virginica[(virginica['sepallength'] < max_threshold) & (virginica['sepallength'] > min_threshold)]\n",
    "\n",
    "plt.boxplot(clean_iris2[\"sepallength\"])\n",
    "# Title to the plot\n",
    "plt.title(\"Box Plot\")\n",
    "# Adding the legends\n",
    "plt.legend([\"Sepal Length (cm)\"])\n",
    "plt.show()\n",
    "\n",
    "\n",
    "# or:\n",
    "# Method 2: Using IQR:\n",
    "# This method have not removed the outliers\n",
    "q1 = virginica['sepallength'].quantile(0.25)\n",
    "q3 = virginica['sepallength'].quantile(0.75)\n",
    "\n",
    "IQR = q3 - q1\n",
    "IQR\n",
    "\n",
    "other_method2 = virginica[~((virginica['sepallength'] < (q1 - 1.5 * IQR)) | (virginica['sepallength'] > (q3 + 1.5 * IQR)))]\n",
    "\n",
    "plt.boxplot(other_method2[\"sepallength\"])\n",
    "# Title to the plot\n",
    "plt.title(\"Box Plot\")\n",
    "# Adding the legends\n",
    "plt.legend([\"Sepal Length (cm)\"])\n",
    "plt.show()\n",
    "\n",
    "-->"
   ]
  }
 ],
 "metadata": {
  "kernelspec": {
   "display_name": "Python 3 (ipykernel)",
   "language": "python",
   "name": "python3"
  },
  "language_info": {
   "codemirror_mode": {
    "name": "ipython",
    "version": 3
   },
   "file_extension": ".py",
   "mimetype": "text/x-python",
   "name": "python",
   "nbconvert_exporter": "python",
   "pygments_lexer": "ipython3",
   "version": "3.8.16"
  }
 },
 "nbformat": 4,
 "nbformat_minor": 5
}
